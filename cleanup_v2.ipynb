{
 "cells": [
  {
   "cell_type": "code",
   "execution_count": 1,
   "metadata": {
    "collapsed": true
   },
   "outputs": [],
   "source": [
    "import pandas as pd\n",
    "import os"
   ]
  },
  {
   "cell_type": "code",
   "execution_count": 2,
   "outputs": [
    {
     "name": "stderr",
     "output_type": "stream",
     "text": [
      "C:\\Users\\Lorenzo\\AppData\\Local\\Temp\\ipykernel_7000\\3681487345.py:1: DtypeWarning: Columns (4) have mixed types. Specify dtype option on import or set low_memory=False.\n",
      "  title_basic = pd.read_csv('db_files/title_basic.tsv', delimiter='\\t')\n"
     ]
    }
   ],
   "source": [
    "title_basic = pd.read_csv('db_files/title_basic.tsv', delimiter='\\t')"
   ],
   "metadata": {
    "collapsed": false
   }
  },
  {
   "cell_type": "code",
   "execution_count": 3,
   "outputs": [
    {
     "data": {
      "text/plain": "(9647020, 9)"
     },
     "execution_count": 3,
     "metadata": {},
     "output_type": "execute_result"
    }
   ],
   "source": [
    "title_basic.shape"
   ],
   "metadata": {
    "collapsed": false
   }
  },
  {
   "cell_type": "code",
   "execution_count": 4,
   "outputs": [
    {
     "data": {
      "text/plain": "       tconst titleType                                 primaryTitle  \\\n0   tt0000001     short                                   Carmencita   \n1   tt0000002     short                       Le clown et ses chiens   \n2   tt0000003     short                               Pauvre Pierrot   \n3   tt0000004     short                                  Un bon bock   \n4   tt0000005     short                             Blacksmith Scene   \n5   tt0000006     short                            Chinese Opium Den   \n6   tt0000007     short  Corbett and Courtney Before the Kinetograph   \n7   tt0000008     short       Edison Kinetoscopic Record of a Sneeze   \n8   tt0000009     movie                                   Miss Jerry   \n9   tt0000010     short                          Leaving the Factory   \n10  tt0000011     short                      Akrobatisches Potpourri   \n11  tt0000012     short                       The Arrival of a Train   \n12  tt0000013     short  The Photographical Congress Arrives in Lyon   \n13  tt0000014     short                          The Waterer Watered   \n14  tt0000015     short                          Autour d'une cabine   \n15  tt0000016     short                        Boat Leaving the Port   \n16  tt0000017     short                     Italienischer Bauerntanz   \n17  tt0000018     short                         Das boxende Känguruh   \n18  tt0000019     short                             The Clown Barber   \n19  tt0000020     short                               The Derby 1895   \n\n                                        originalTitle isAdult startYear  \\\n0                                          Carmencita       0      1894   \n1                              Le clown et ses chiens       0      1892   \n2                                      Pauvre Pierrot       0      1892   \n3                                         Un bon bock       0      1892   \n4                                    Blacksmith Scene       0      1893   \n5                                   Chinese Opium Den       0      1894   \n6         Corbett and Courtney Before the Kinetograph       0      1894   \n7              Edison Kinetoscopic Record of a Sneeze       0      1894   \n8                                          Miss Jerry       0      1894   \n9                 La sortie de l'usine Lumière à Lyon       0      1895   \n10                            Akrobatisches Potpourri       0      1895   \n11                   L'arrivée d'un train à La Ciotat       0      1896   \n12  Le débarquement du congrès de photographie à Lyon       0      1895   \n13                                  L'arroseur arrosé       0      1895   \n14                                Autour d'une cabine       0      1894   \n15                             Barque sortant du port       0      1895   \n16                           Italienischer Bauerntanz       0      1895   \n17                               Das boxende Känguruh       0      1895   \n18                                   The Clown Barber       0      1898   \n19                                     The Derby 1895       0      1895   \n\n   endYear runtimeMinutes                    genres  \n0       \\N              1         Documentary,Short  \n1       \\N              5           Animation,Short  \n2       \\N              4  Animation,Comedy,Romance  \n3       \\N             12           Animation,Short  \n4       \\N              1              Comedy,Short  \n5       \\N              1                     Short  \n6       \\N              1               Short,Sport  \n7       \\N              1         Documentary,Short  \n8       \\N             45                   Romance  \n9       \\N              1         Documentary,Short  \n10      \\N              1         Documentary,Short  \n11      \\N              1         Documentary,Short  \n12      \\N              1         Documentary,Short  \n13      \\N              1              Comedy,Short  \n14      \\N              2           Animation,Short  \n15      \\N              1         Documentary,Short  \n16      \\N              1         Documentary,Short  \n17      \\N              1                     Short  \n18      \\N             \\N              Comedy,Short  \n19      \\N              1   Documentary,Short,Sport  ",
      "text/html": "<div>\n<style scoped>\n    .dataframe tbody tr th:only-of-type {\n        vertical-align: middle;\n    }\n\n    .dataframe tbody tr th {\n        vertical-align: top;\n    }\n\n    .dataframe thead th {\n        text-align: right;\n    }\n</style>\n<table border=\"1\" class=\"dataframe\">\n  <thead>\n    <tr style=\"text-align: right;\">\n      <th></th>\n      <th>tconst</th>\n      <th>titleType</th>\n      <th>primaryTitle</th>\n      <th>originalTitle</th>\n      <th>isAdult</th>\n      <th>startYear</th>\n      <th>endYear</th>\n      <th>runtimeMinutes</th>\n      <th>genres</th>\n    </tr>\n  </thead>\n  <tbody>\n    <tr>\n      <th>0</th>\n      <td>tt0000001</td>\n      <td>short</td>\n      <td>Carmencita</td>\n      <td>Carmencita</td>\n      <td>0</td>\n      <td>1894</td>\n      <td>\\N</td>\n      <td>1</td>\n      <td>Documentary,Short</td>\n    </tr>\n    <tr>\n      <th>1</th>\n      <td>tt0000002</td>\n      <td>short</td>\n      <td>Le clown et ses chiens</td>\n      <td>Le clown et ses chiens</td>\n      <td>0</td>\n      <td>1892</td>\n      <td>\\N</td>\n      <td>5</td>\n      <td>Animation,Short</td>\n    </tr>\n    <tr>\n      <th>2</th>\n      <td>tt0000003</td>\n      <td>short</td>\n      <td>Pauvre Pierrot</td>\n      <td>Pauvre Pierrot</td>\n      <td>0</td>\n      <td>1892</td>\n      <td>\\N</td>\n      <td>4</td>\n      <td>Animation,Comedy,Romance</td>\n    </tr>\n    <tr>\n      <th>3</th>\n      <td>tt0000004</td>\n      <td>short</td>\n      <td>Un bon bock</td>\n      <td>Un bon bock</td>\n      <td>0</td>\n      <td>1892</td>\n      <td>\\N</td>\n      <td>12</td>\n      <td>Animation,Short</td>\n    </tr>\n    <tr>\n      <th>4</th>\n      <td>tt0000005</td>\n      <td>short</td>\n      <td>Blacksmith Scene</td>\n      <td>Blacksmith Scene</td>\n      <td>0</td>\n      <td>1893</td>\n      <td>\\N</td>\n      <td>1</td>\n      <td>Comedy,Short</td>\n    </tr>\n    <tr>\n      <th>5</th>\n      <td>tt0000006</td>\n      <td>short</td>\n      <td>Chinese Opium Den</td>\n      <td>Chinese Opium Den</td>\n      <td>0</td>\n      <td>1894</td>\n      <td>\\N</td>\n      <td>1</td>\n      <td>Short</td>\n    </tr>\n    <tr>\n      <th>6</th>\n      <td>tt0000007</td>\n      <td>short</td>\n      <td>Corbett and Courtney Before the Kinetograph</td>\n      <td>Corbett and Courtney Before the Kinetograph</td>\n      <td>0</td>\n      <td>1894</td>\n      <td>\\N</td>\n      <td>1</td>\n      <td>Short,Sport</td>\n    </tr>\n    <tr>\n      <th>7</th>\n      <td>tt0000008</td>\n      <td>short</td>\n      <td>Edison Kinetoscopic Record of a Sneeze</td>\n      <td>Edison Kinetoscopic Record of a Sneeze</td>\n      <td>0</td>\n      <td>1894</td>\n      <td>\\N</td>\n      <td>1</td>\n      <td>Documentary,Short</td>\n    </tr>\n    <tr>\n      <th>8</th>\n      <td>tt0000009</td>\n      <td>movie</td>\n      <td>Miss Jerry</td>\n      <td>Miss Jerry</td>\n      <td>0</td>\n      <td>1894</td>\n      <td>\\N</td>\n      <td>45</td>\n      <td>Romance</td>\n    </tr>\n    <tr>\n      <th>9</th>\n      <td>tt0000010</td>\n      <td>short</td>\n      <td>Leaving the Factory</td>\n      <td>La sortie de l'usine Lumière à Lyon</td>\n      <td>0</td>\n      <td>1895</td>\n      <td>\\N</td>\n      <td>1</td>\n      <td>Documentary,Short</td>\n    </tr>\n    <tr>\n      <th>10</th>\n      <td>tt0000011</td>\n      <td>short</td>\n      <td>Akrobatisches Potpourri</td>\n      <td>Akrobatisches Potpourri</td>\n      <td>0</td>\n      <td>1895</td>\n      <td>\\N</td>\n      <td>1</td>\n      <td>Documentary,Short</td>\n    </tr>\n    <tr>\n      <th>11</th>\n      <td>tt0000012</td>\n      <td>short</td>\n      <td>The Arrival of a Train</td>\n      <td>L'arrivée d'un train à La Ciotat</td>\n      <td>0</td>\n      <td>1896</td>\n      <td>\\N</td>\n      <td>1</td>\n      <td>Documentary,Short</td>\n    </tr>\n    <tr>\n      <th>12</th>\n      <td>tt0000013</td>\n      <td>short</td>\n      <td>The Photographical Congress Arrives in Lyon</td>\n      <td>Le débarquement du congrès de photographie à Lyon</td>\n      <td>0</td>\n      <td>1895</td>\n      <td>\\N</td>\n      <td>1</td>\n      <td>Documentary,Short</td>\n    </tr>\n    <tr>\n      <th>13</th>\n      <td>tt0000014</td>\n      <td>short</td>\n      <td>The Waterer Watered</td>\n      <td>L'arroseur arrosé</td>\n      <td>0</td>\n      <td>1895</td>\n      <td>\\N</td>\n      <td>1</td>\n      <td>Comedy,Short</td>\n    </tr>\n    <tr>\n      <th>14</th>\n      <td>tt0000015</td>\n      <td>short</td>\n      <td>Autour d'une cabine</td>\n      <td>Autour d'une cabine</td>\n      <td>0</td>\n      <td>1894</td>\n      <td>\\N</td>\n      <td>2</td>\n      <td>Animation,Short</td>\n    </tr>\n    <tr>\n      <th>15</th>\n      <td>tt0000016</td>\n      <td>short</td>\n      <td>Boat Leaving the Port</td>\n      <td>Barque sortant du port</td>\n      <td>0</td>\n      <td>1895</td>\n      <td>\\N</td>\n      <td>1</td>\n      <td>Documentary,Short</td>\n    </tr>\n    <tr>\n      <th>16</th>\n      <td>tt0000017</td>\n      <td>short</td>\n      <td>Italienischer Bauerntanz</td>\n      <td>Italienischer Bauerntanz</td>\n      <td>0</td>\n      <td>1895</td>\n      <td>\\N</td>\n      <td>1</td>\n      <td>Documentary,Short</td>\n    </tr>\n    <tr>\n      <th>17</th>\n      <td>tt0000018</td>\n      <td>short</td>\n      <td>Das boxende Känguruh</td>\n      <td>Das boxende Känguruh</td>\n      <td>0</td>\n      <td>1895</td>\n      <td>\\N</td>\n      <td>1</td>\n      <td>Short</td>\n    </tr>\n    <tr>\n      <th>18</th>\n      <td>tt0000019</td>\n      <td>short</td>\n      <td>The Clown Barber</td>\n      <td>The Clown Barber</td>\n      <td>0</td>\n      <td>1898</td>\n      <td>\\N</td>\n      <td>\\N</td>\n      <td>Comedy,Short</td>\n    </tr>\n    <tr>\n      <th>19</th>\n      <td>tt0000020</td>\n      <td>short</td>\n      <td>The Derby 1895</td>\n      <td>The Derby 1895</td>\n      <td>0</td>\n      <td>1895</td>\n      <td>\\N</td>\n      <td>1</td>\n      <td>Documentary,Short,Sport</td>\n    </tr>\n  </tbody>\n</table>\n</div>"
     },
     "execution_count": 4,
     "metadata": {},
     "output_type": "execute_result"
    }
   ],
   "source": [
    "title_basic.head(20)"
   ],
   "metadata": {
    "collapsed": false
   }
  },
  {
   "cell_type": "markdown",
   "source": [
    "## Filtering steps:\n",
    "\n",
    "1. titleType:\n",
    "    - movie\n",
    "    - tvSeries\n",
    "    - tvMovie\n",
    "\n",
    "2. startYear: year >= 1980\n",
    "3. num of replicas: >= 1\n",
    "4. num of reviews : >= 1000\n",
    "5. num of actor per movie: >= 1\n"
   ],
   "metadata": {
    "collapsed": false
   }
  },
  {
   "cell_type": "code",
   "execution_count": 5,
   "outputs": [],
   "source": [
    "allowed = ['movie', 'tvSeries', 'tvMovie']\n",
    "startYear = 1980\n",
    "n_replicas = 1\n",
    "n_reviews = 1000\n",
    "null_values = ['\\\\N', '\\\\n', '']"
   ],
   "metadata": {
    "collapsed": false
   }
  },
  {
   "cell_type": "code",
   "execution_count": 6,
   "outputs": [],
   "source": [
    "title_basic['startYear'] = title_basic['startYear'].replace('\\\\N', 0).astype('int32')\n",
    "title_basic['endYear'] = title_basic.apply(\n",
    "    lambda r: int(r['startYear']) if r['endYear'] == '\\\\N' else int(r['endYear']), axis=1\n",
    ")\n",
    "title_basic['runtimeMinutes'] = title_basic['runtimeMinutes'].replace('\\\\N', 0)\n",
    "title_basic = title_basic.drop(title_basic[title_basic['genres'].isin(null_values)].index)"
   ],
   "metadata": {
    "collapsed": false
   }
  },
  {
   "cell_type": "code",
   "execution_count": 7,
   "outputs": [],
   "source": [
    "title_basic['genres'] = title_basic['genres'].str.split(',')"
   ],
   "metadata": {
    "collapsed": false
   }
  },
  {
   "cell_type": "code",
   "execution_count": 8,
   "outputs": [
    {
     "data": {
      "text/plain": "Drama           2725059\nComedy          1959541\nTalk-Show       1162771\nShort           1059508\nDocumentary      912034\nRomance          889406\nNews             843408\nFamily           709851\nReality-TV       536574\nAnimation        495894\nCrime            396347\nAction           384377\nAdventure        378884\nMusic            376819\nGame-Show        353205\nAdult            296861\nSport            228226\nFantasy          198500\nMystery          188956\nHorror           168532\nThriller         161884\nHistory          143369\nSci-Fi           106342\nBiography        105568\nMusical           86713\nWar               33230\nWestern           29398\nFilm-Noir           890\nExperimental          1\nName: genres, dtype: int64"
     },
     "execution_count": 8,
     "metadata": {},
     "output_type": "execute_result"
    }
   ],
   "source": [
    "g = title_basic['genres']\n",
    "g = g.explode()\n",
    "g.value_counts()"
   ],
   "metadata": {
    "collapsed": false
   }
  },
  {
   "cell_type": "markdown",
   "source": [
    "+------------+-------+\n",
    "|            |genres |\n",
    "+------------+-------+\n",
    "|Drama       |2725059|\n",
    "|Comedy      |1959541|\n",
    "|Talk-Show   |1162771|\n",
    "|Short       |1059508|\n",
    "|Documentary |912034 |\n",
    "|Romance     |889406 |\n",
    "|News        |843408 |\n",
    "|Family      |709851 |\n",
    "|Reality-TV  |536574 |\n",
    "|Animation   |495894 |\n",
    "|Crime       |396347 |\n",
    "|Action      |384377 |\n",
    "|Adventure   |378884 |\n",
    "|Music       |376819 |\n",
    "|Game-Show   |353205 |\n",
    "|Adult       |296861 |\n",
    "|Sport       |228226 |\n",
    "|Fantasy     |198500 |\n",
    "|Mystery     |188956 |\n",
    "|Horror      |168532 |\n",
    "|Thriller    |161884 |\n",
    "|History     |143369 |\n",
    "|Sci-Fi      |106342 |\n",
    "|Biography   |105568 |\n",
    "|Musical     |86713  |\n",
    "|War         |33230  |\n",
    "|Western     |29398  |\n",
    "|Film-Noir   |890    |\n",
    "|Experimental|1      |\n",
    "+------------+-------+\n"
   ],
   "metadata": {
    "collapsed": false
   }
  },
  {
   "cell_type": "code",
   "execution_count": 9,
   "outputs": [
    {
     "data": {
      "text/plain": "          tconst titleType                                       primaryTitle  \\\n11636  tt0011801     movie                                   Tötet nicht mehr   \n13082  tt0013274     movie                        Istoriya grazhdanskoy voyny   \n15486  tt0015724     movie                                      Dama de noche   \n34803  tt0035423     movie                                     Kate & Leopold   \n35967  tt0036606     movie                        Another Time, Another Place   \n37419  tt0038086     movie                          Shiva und die Galgenblume   \n38011  tt0038687     movie                                 Let There Be Light   \n53242  tt0054261   tvMovie                         Rómeó, Júlia és a sötétség   \n56372  tt0057461     movie                             La rosa de los vientos   \n58202  tt0059325     movie                                        Born in '45   \n58756  tt0059900     movie                     Wenn du groß bist, lieber Adam   \n59684  tt0060854   tvMovie                                 Preis der Feigheit   \n60970  tt0062181     movie                                       Rece do góry   \n61116  tt0062336     movie  The Tango of the Widower and Its Distorting Mi...   \n61389  tt0062614  tvSeries                                        Zeg 'ns Aaa   \n61612  tt0062842   tvMovie                                     Cuore di mamma   \n63536  tt0064820     movie                             The Plot Against Harry   \n63699  tt0064994     movie                                  Larks on a String   \n63811  tt0065108     movie                                    Tolko tri nochi   \n63890  tt0065188     movie                            Vojtech, receny sirotek   \n\n                                   originalTitle isAdult  startYear  endYear  \\\n11636                           Tötet nicht mehr       0       2019     2019   \n13082                Istoriya grazhdanskoy voyny       0       2021     2021   \n15486                              Dama de noche       0       1993     1993   \n34803                             Kate & Leopold       0       2001     2001   \n35967                Another Time, Another Place       0       1983     1983   \n37419                  Shiva und die Galgenblume       0       1993     1993   \n38011                         Let There Be Light       0       1980     1980   \n53242                 Rómeó, Júlia és a sötétség       0       1986     1986   \n56372                     La rosa de los vientos       0       1983     1983   \n58202                                Jahrgang 45       0       1990     1990   \n58756             Wenn du groß bist, lieber Adam       0       1990     1990   \n59684                         Preis der Feigheit       0       1986     1986   \n60970                               Rece do góry       0       1981     1981   \n61116  El tango del viudo y su espejo deformante       0       2020     2020   \n61389                                Zeg 'ns Aaa       0       1981     2010   \n61612                             Cuore di mamma       0       1988     1988   \n63536                     The Plot Against Harry       0       1989     1989   \n63699                          Skrivánci na niti       0       1990     1990   \n63811                            Tolko tri nochi       0       1989     1989   \n63890                    Vojtech, receny sirotek       0       1990     1990   \n\n      runtimeMinutes                      genres  \n11636              0             [Action, Crime]  \n13082            133               [Documentary]  \n15486            102   [Drama, Mystery, Romance]  \n34803            118  [Comedy, Fantasy, Romance]  \n35967            118                [Drama, War]  \n37419              0                  [Thriller]  \n38011             58          [Documentary, War]  \n53242            101                     [Drama]  \n56372             84            [Drama, Fantasy]  \n58202            100            [Drama, Romance]  \n58756             78            [Drama, Fantasy]  \n59684            105                     [Crime]  \n60970             76                     [Drama]  \n61116             70                     [Drama]  \n61389             23                    [Comedy]  \n61612             97                     [Drama]  \n63536             81             [Comedy, Crime]  \n63699             94    [Comedy, Drama, Romance]  \n63811             82            [Drama, Romance]  \n63890             80                     [Drama]  ",
      "text/html": "<div>\n<style scoped>\n    .dataframe tbody tr th:only-of-type {\n        vertical-align: middle;\n    }\n\n    .dataframe tbody tr th {\n        vertical-align: top;\n    }\n\n    .dataframe thead th {\n        text-align: right;\n    }\n</style>\n<table border=\"1\" class=\"dataframe\">\n  <thead>\n    <tr style=\"text-align: right;\">\n      <th></th>\n      <th>tconst</th>\n      <th>titleType</th>\n      <th>primaryTitle</th>\n      <th>originalTitle</th>\n      <th>isAdult</th>\n      <th>startYear</th>\n      <th>endYear</th>\n      <th>runtimeMinutes</th>\n      <th>genres</th>\n    </tr>\n  </thead>\n  <tbody>\n    <tr>\n      <th>11636</th>\n      <td>tt0011801</td>\n      <td>movie</td>\n      <td>Tötet nicht mehr</td>\n      <td>Tötet nicht mehr</td>\n      <td>0</td>\n      <td>2019</td>\n      <td>2019</td>\n      <td>0</td>\n      <td>[Action, Crime]</td>\n    </tr>\n    <tr>\n      <th>13082</th>\n      <td>tt0013274</td>\n      <td>movie</td>\n      <td>Istoriya grazhdanskoy voyny</td>\n      <td>Istoriya grazhdanskoy voyny</td>\n      <td>0</td>\n      <td>2021</td>\n      <td>2021</td>\n      <td>133</td>\n      <td>[Documentary]</td>\n    </tr>\n    <tr>\n      <th>15486</th>\n      <td>tt0015724</td>\n      <td>movie</td>\n      <td>Dama de noche</td>\n      <td>Dama de noche</td>\n      <td>0</td>\n      <td>1993</td>\n      <td>1993</td>\n      <td>102</td>\n      <td>[Drama, Mystery, Romance]</td>\n    </tr>\n    <tr>\n      <th>34803</th>\n      <td>tt0035423</td>\n      <td>movie</td>\n      <td>Kate &amp; Leopold</td>\n      <td>Kate &amp; Leopold</td>\n      <td>0</td>\n      <td>2001</td>\n      <td>2001</td>\n      <td>118</td>\n      <td>[Comedy, Fantasy, Romance]</td>\n    </tr>\n    <tr>\n      <th>35967</th>\n      <td>tt0036606</td>\n      <td>movie</td>\n      <td>Another Time, Another Place</td>\n      <td>Another Time, Another Place</td>\n      <td>0</td>\n      <td>1983</td>\n      <td>1983</td>\n      <td>118</td>\n      <td>[Drama, War]</td>\n    </tr>\n    <tr>\n      <th>37419</th>\n      <td>tt0038086</td>\n      <td>movie</td>\n      <td>Shiva und die Galgenblume</td>\n      <td>Shiva und die Galgenblume</td>\n      <td>0</td>\n      <td>1993</td>\n      <td>1993</td>\n      <td>0</td>\n      <td>[Thriller]</td>\n    </tr>\n    <tr>\n      <th>38011</th>\n      <td>tt0038687</td>\n      <td>movie</td>\n      <td>Let There Be Light</td>\n      <td>Let There Be Light</td>\n      <td>0</td>\n      <td>1980</td>\n      <td>1980</td>\n      <td>58</td>\n      <td>[Documentary, War]</td>\n    </tr>\n    <tr>\n      <th>53242</th>\n      <td>tt0054261</td>\n      <td>tvMovie</td>\n      <td>Rómeó, Júlia és a sötétség</td>\n      <td>Rómeó, Júlia és a sötétség</td>\n      <td>0</td>\n      <td>1986</td>\n      <td>1986</td>\n      <td>101</td>\n      <td>[Drama]</td>\n    </tr>\n    <tr>\n      <th>56372</th>\n      <td>tt0057461</td>\n      <td>movie</td>\n      <td>La rosa de los vientos</td>\n      <td>La rosa de los vientos</td>\n      <td>0</td>\n      <td>1983</td>\n      <td>1983</td>\n      <td>84</td>\n      <td>[Drama, Fantasy]</td>\n    </tr>\n    <tr>\n      <th>58202</th>\n      <td>tt0059325</td>\n      <td>movie</td>\n      <td>Born in '45</td>\n      <td>Jahrgang 45</td>\n      <td>0</td>\n      <td>1990</td>\n      <td>1990</td>\n      <td>100</td>\n      <td>[Drama, Romance]</td>\n    </tr>\n    <tr>\n      <th>58756</th>\n      <td>tt0059900</td>\n      <td>movie</td>\n      <td>Wenn du groß bist, lieber Adam</td>\n      <td>Wenn du groß bist, lieber Adam</td>\n      <td>0</td>\n      <td>1990</td>\n      <td>1990</td>\n      <td>78</td>\n      <td>[Drama, Fantasy]</td>\n    </tr>\n    <tr>\n      <th>59684</th>\n      <td>tt0060854</td>\n      <td>tvMovie</td>\n      <td>Preis der Feigheit</td>\n      <td>Preis der Feigheit</td>\n      <td>0</td>\n      <td>1986</td>\n      <td>1986</td>\n      <td>105</td>\n      <td>[Crime]</td>\n    </tr>\n    <tr>\n      <th>60970</th>\n      <td>tt0062181</td>\n      <td>movie</td>\n      <td>Rece do góry</td>\n      <td>Rece do góry</td>\n      <td>0</td>\n      <td>1981</td>\n      <td>1981</td>\n      <td>76</td>\n      <td>[Drama]</td>\n    </tr>\n    <tr>\n      <th>61116</th>\n      <td>tt0062336</td>\n      <td>movie</td>\n      <td>The Tango of the Widower and Its Distorting Mi...</td>\n      <td>El tango del viudo y su espejo deformante</td>\n      <td>0</td>\n      <td>2020</td>\n      <td>2020</td>\n      <td>70</td>\n      <td>[Drama]</td>\n    </tr>\n    <tr>\n      <th>61389</th>\n      <td>tt0062614</td>\n      <td>tvSeries</td>\n      <td>Zeg 'ns Aaa</td>\n      <td>Zeg 'ns Aaa</td>\n      <td>0</td>\n      <td>1981</td>\n      <td>2010</td>\n      <td>23</td>\n      <td>[Comedy]</td>\n    </tr>\n    <tr>\n      <th>61612</th>\n      <td>tt0062842</td>\n      <td>tvMovie</td>\n      <td>Cuore di mamma</td>\n      <td>Cuore di mamma</td>\n      <td>0</td>\n      <td>1988</td>\n      <td>1988</td>\n      <td>97</td>\n      <td>[Drama]</td>\n    </tr>\n    <tr>\n      <th>63536</th>\n      <td>tt0064820</td>\n      <td>movie</td>\n      <td>The Plot Against Harry</td>\n      <td>The Plot Against Harry</td>\n      <td>0</td>\n      <td>1989</td>\n      <td>1989</td>\n      <td>81</td>\n      <td>[Comedy, Crime]</td>\n    </tr>\n    <tr>\n      <th>63699</th>\n      <td>tt0064994</td>\n      <td>movie</td>\n      <td>Larks on a String</td>\n      <td>Skrivánci na niti</td>\n      <td>0</td>\n      <td>1990</td>\n      <td>1990</td>\n      <td>94</td>\n      <td>[Comedy, Drama, Romance]</td>\n    </tr>\n    <tr>\n      <th>63811</th>\n      <td>tt0065108</td>\n      <td>movie</td>\n      <td>Tolko tri nochi</td>\n      <td>Tolko tri nochi</td>\n      <td>0</td>\n      <td>1989</td>\n      <td>1989</td>\n      <td>82</td>\n      <td>[Drama, Romance]</td>\n    </tr>\n    <tr>\n      <th>63890</th>\n      <td>tt0065188</td>\n      <td>movie</td>\n      <td>Vojtech, receny sirotek</td>\n      <td>Vojtech, receny sirotek</td>\n      <td>0</td>\n      <td>1990</td>\n      <td>1990</td>\n      <td>80</td>\n      <td>[Drama]</td>\n    </tr>\n  </tbody>\n</table>\n</div>"
     },
     "execution_count": 9,
     "metadata": {},
     "output_type": "execute_result"
    }
   ],
   "source": [
    "m1 = title_basic['startYear'] >= startYear\n",
    "m2 = title_basic['titleType'].isin(allowed)\n",
    "db = title_basic[m1 & m2]\n",
    "del title_basic, g\n",
    "db.head(20)"
   ],
   "metadata": {
    "collapsed": false
   }
  },
  {
   "cell_type": "markdown",
   "source": [],
   "metadata": {
    "collapsed": false
   }
  },
  {
   "cell_type": "code",
   "execution_count": 10,
   "outputs": [
    {
     "data": {
      "text/plain": "(639084, 9)"
     },
     "execution_count": 10,
     "metadata": {},
     "output_type": "execute_result"
    }
   ],
   "source": [
    "db.shape"
   ],
   "metadata": {
    "collapsed": false
   }
  },
  {
   "cell_type": "code",
   "execution_count": 11,
   "outputs": [
    {
     "name": "stderr",
     "output_type": "stream",
     "text": [
      "C:\\Users\\Lorenzo\\AppData\\Local\\Temp\\ipykernel_7000\\1726883815.py:1: DtypeWarning: Columns (7) have mixed types. Specify dtype option on import or set low_memory=False.\n",
      "  title_akas = pd.read_csv('db_files/title_akas.tsv', delimiter='\\t')\n"
     ]
    }
   ],
   "source": [
    "title_akas = pd.read_csv('db_files/title_akas.tsv', delimiter='\\t')\n",
    "title_akas = title_akas[['titleId','ordering','region']]"
   ],
   "metadata": {
    "collapsed": false
   }
  },
  {
   "cell_type": "code",
   "execution_count": 12,
   "outputs": [],
   "source": [
    "title_akas = title_akas.drop(title_akas[title_akas['region'].isin(null_values)].index)\n",
    "title_akas = title_akas.drop(title_akas[title_akas['ordering'].isin(null_values)].index)\n",
    "title_akas = title_akas[title_akas['titleId'].isin(db.tconst)]"
   ],
   "metadata": {
    "collapsed": false
   }
  },
  {
   "cell_type": "code",
   "execution_count": 13,
   "outputs": [
    {
     "data": {
      "text/plain": "(2135913, 3)"
     },
     "execution_count": 13,
     "metadata": {},
     "output_type": "execute_result"
    }
   ],
   "source": [
    "title_akas.shape"
   ],
   "metadata": {
    "collapsed": false
   }
  },
  {
   "cell_type": "code",
   "execution_count": 14,
   "outputs": [
    {
     "data": {
      "text/plain": "(2135913, 3)"
     },
     "execution_count": 14,
     "metadata": {},
     "output_type": "execute_result"
    }
   ],
   "source": [
    "replicas = title_akas.groupby('titleId').aggregate({'ordering':'count', 'titleId':'first'})\n",
    "replicas = replicas[replicas['ordering'] >= n_replicas]\n",
    "title_akas = title_akas[title_akas['titleId'].isin(replicas.titleId)]\n",
    "title_akas.shape"
   ],
   "metadata": {
    "collapsed": false
   }
  },
  {
   "cell_type": "markdown",
   "source": [
    "Regions"
   ],
   "metadata": {
    "collapsed": false
   }
  },
  {
   "cell_type": "code",
   "execution_count": 15,
   "outputs": [
    {
     "data": {
      "text/plain": "            replicas                                            regions\ntitleId                                                                \ntt0088814        247  [DZ, FI, IT, BE, CG, RS, CN, CR, SE, AT, CZ, D...\ntt0168366        189  [US, JP, AR, CN, SI, TW, US, US, SE, US, IN, U...\ntt2872750        149  [ES, XWW, EG, GB, CM, PE, AR, PR, LB, US, QA, ...\ntt0099785        144  [PL, KR, BD, MA, UZ, IN, MD, PL, FR, PT, LV, S...\ntt0104431        134  [MD, UA, HR, KR, FR, PL, EC, SG, FI, SE, VN, A...\n...              ...                                                ...\ntt2047917          1                                               [US]\ntt10303906         1                                               [CY]\ntt10303908         1                                               [CL]\ntt2047907          1                                               [US]\ntt9916754          1                                               [BR]\n\n[633844 rows x 2 columns]",
      "text/html": "<div>\n<style scoped>\n    .dataframe tbody tr th:only-of-type {\n        vertical-align: middle;\n    }\n\n    .dataframe tbody tr th {\n        vertical-align: top;\n    }\n\n    .dataframe thead th {\n        text-align: right;\n    }\n</style>\n<table border=\"1\" class=\"dataframe\">\n  <thead>\n    <tr style=\"text-align: right;\">\n      <th></th>\n      <th>replicas</th>\n      <th>regions</th>\n    </tr>\n    <tr>\n      <th>titleId</th>\n      <th></th>\n      <th></th>\n    </tr>\n  </thead>\n  <tbody>\n    <tr>\n      <th>tt0088814</th>\n      <td>247</td>\n      <td>[DZ, FI, IT, BE, CG, RS, CN, CR, SE, AT, CZ, D...</td>\n    </tr>\n    <tr>\n      <th>tt0168366</th>\n      <td>189</td>\n      <td>[US, JP, AR, CN, SI, TW, US, US, SE, US, IN, U...</td>\n    </tr>\n    <tr>\n      <th>tt2872750</th>\n      <td>149</td>\n      <td>[ES, XWW, EG, GB, CM, PE, AR, PR, LB, US, QA, ...</td>\n    </tr>\n    <tr>\n      <th>tt0099785</th>\n      <td>144</td>\n      <td>[PL, KR, BD, MA, UZ, IN, MD, PL, FR, PT, LV, S...</td>\n    </tr>\n    <tr>\n      <th>tt0104431</th>\n      <td>134</td>\n      <td>[MD, UA, HR, KR, FR, PL, EC, SG, FI, SE, VN, A...</td>\n    </tr>\n    <tr>\n      <th>...</th>\n      <td>...</td>\n      <td>...</td>\n    </tr>\n    <tr>\n      <th>tt2047917</th>\n      <td>1</td>\n      <td>[US]</td>\n    </tr>\n    <tr>\n      <th>tt10303906</th>\n      <td>1</td>\n      <td>[CY]</td>\n    </tr>\n    <tr>\n      <th>tt10303908</th>\n      <td>1</td>\n      <td>[CL]</td>\n    </tr>\n    <tr>\n      <th>tt2047907</th>\n      <td>1</td>\n      <td>[US]</td>\n    </tr>\n    <tr>\n      <th>tt9916754</th>\n      <td>1</td>\n      <td>[BR]</td>\n    </tr>\n  </tbody>\n</table>\n<p>633844 rows × 2 columns</p>\n</div>"
     },
     "execution_count": 15,
     "metadata": {},
     "output_type": "execute_result"
    }
   ],
   "source": [
    "regions = title_akas.groupby('titleId').aggregate(\n",
    "    {'ordering': 'count', 'region': lambda e: list(e)}\n",
    ").sort_values('ordering', ascending=False)\n",
    "regions = regions.rename(columns={'ordering':'replicas', 'region':'regions'})\n",
    "regions"
   ],
   "metadata": {
    "collapsed": false
   }
  },
  {
   "cell_type": "code",
   "execution_count": 16,
   "outputs": [],
   "source": [
    "db = db.join(regions, on='tconst').dropna()\n",
    "del title_akas\n",
    "del regions"
   ],
   "metadata": {
    "collapsed": false
   }
  },
  {
   "cell_type": "code",
   "execution_count": 17,
   "outputs": [],
   "source": [
    "name_basics = pd.read_csv('db_files/name_basics.tsv', delimiter='\\t')"
   ],
   "metadata": {
    "collapsed": false
   }
  },
  {
   "cell_type": "code",
   "execution_count": 18,
   "outputs": [],
   "source": [
    "name_basics = name_basics.drop(name_basics[name_basics['birthYear'] == '\\\\N'].index)\n",
    "name_basics['deathYear'] = name_basics['deathYear'].replace({'\\\\N':'2024'})\n",
    "actors = name_basics[\n",
    "    name_basics['primaryProfession'].str.contains('actor') |\n",
    "    name_basics['primaryProfession'].str.contains('actress')\n",
    "]\n",
    "actors = actors.drop(actors[actors['knownForTitles'] == '\\\\N'].index)"
   ],
   "metadata": {
    "collapsed": false
   }
  },
  {
   "cell_type": "code",
   "execution_count": 19,
   "outputs": [],
   "source": [
    "actors['knownForTitles'] = actors['knownForTitles'].apply(lambda e: e.split(',')).explode('knownForTitles')\n",
    "del name_basics"
   ],
   "metadata": {
    "collapsed": false
   }
  },
  {
   "cell_type": "code",
   "execution_count": 20,
   "outputs": [
    {
     "data": {
      "text/plain": "          tconst titleType                 primaryTitle  \\\n15486  tt0015724     movie                Dama de noche   \n34803  tt0035423     movie               Kate & Leopold   \n34803  tt0035423     movie               Kate & Leopold   \n34803  tt0035423     movie               Kate & Leopold   \n34803  tt0035423     movie               Kate & Leopold   \n34803  tt0035423     movie               Kate & Leopold   \n35967  tt0036606     movie  Another Time, Another Place   \n58202  tt0059325     movie                  Born in '45   \n60970  tt0062181     movie                 Rece do góry   \n61389  tt0062614  tvSeries                  Zeg 'ns Aaa   \n61389  tt0062614  tvSeries                  Zeg 'ns Aaa   \n61389  tt0062614  tvSeries                  Zeg 'ns Aaa   \n63536  tt0064820     movie       The Plot Against Harry   \n63536  tt0064820     movie       The Plot Against Harry   \n63699  tt0064994     movie            Larks on a String   \n63699  tt0064994     movie            Larks on a String   \n63699  tt0064994     movie            Larks on a String   \n63699  tt0064994     movie            Larks on a String   \n63811  tt0065108     movie              Tolko tri nochi   \n63890  tt0065188     movie      Vojtech, receny sirotek   \n\n                     originalTitle isAdult  startYear  endYear runtimeMinutes  \\\n15486                Dama de noche       0       1993     1993            102   \n34803               Kate & Leopold       0       2001     2001            118   \n34803               Kate & Leopold       0       2001     2001            118   \n34803               Kate & Leopold       0       2001     2001            118   \n34803               Kate & Leopold       0       2001     2001            118   \n34803               Kate & Leopold       0       2001     2001            118   \n35967  Another Time, Another Place       0       1983     1983            118   \n58202                  Jahrgang 45       0       1990     1990            100   \n60970                 Rece do góry       0       1981     1981             76   \n61389                  Zeg 'ns Aaa       0       1981     2010             23   \n61389                  Zeg 'ns Aaa       0       1981     2010             23   \n61389                  Zeg 'ns Aaa       0       1981     2010             23   \n63536       The Plot Against Harry       0       1989     1989             81   \n63536       The Plot Against Harry       0       1989     1989             81   \n63699            Skrivánci na niti       0       1990     1990             94   \n63699            Skrivánci na niti       0       1990     1990             94   \n63699            Skrivánci na niti       0       1990     1990             94   \n63699            Skrivánci na niti       0       1990     1990             94   \n63811              Tolko tri nochi       0       1989     1989             82   \n63890      Vojtech, receny sirotek       0       1990     1990             80   \n\n                           genres  replicas  \\\n15486   [Drama, Mystery, Romance]       2.0   \n34803  [Comedy, Fantasy, Romance]      41.0   \n34803  [Comedy, Fantasy, Romance]      41.0   \n34803  [Comedy, Fantasy, Romance]      41.0   \n34803  [Comedy, Fantasy, Romance]      41.0   \n34803  [Comedy, Fantasy, Romance]      41.0   \n35967                [Drama, War]      11.0   \n58202            [Drama, Romance]       7.0   \n60970                     [Drama]      10.0   \n61389                    [Comedy]       4.0   \n61389                    [Comedy]       4.0   \n61389                    [Comedy]       4.0   \n63536             [Comedy, Crime]       7.0   \n63536             [Comedy, Crime]       7.0   \n63699    [Comedy, Drama, Romance]      27.0   \n63699    [Comedy, Drama, Romance]      27.0   \n63699    [Comedy, Drama, Romance]      27.0   \n63699    [Comedy, Drama, Romance]      27.0   \n63811            [Drama, Romance]       1.0   \n63890                     [Drama]       1.0   \n\n                                                 regions     nconst  \\\n15486                                           [MX, HU]  nm0449525   \n34803  [IT, FR, ES, PT, ZA, PL, BG, GB, JP, DE, EE, C...  nm0126330   \n34803  [IT, FR, ES, PT, ZA, PL, BG, GB, JP, DE, EE, C...  nm0211306   \n34803  [IT, FR, ES, PT, ZA, PL, BG, GB, JP, DE, EE, C...  nm0235800   \n34803  [IT, FR, ES, PT, ZA, PL, BG, GB, JP, DE, EE, C...  nm0360800   \n34803  [IT, FR, ES, PT, ZA, PL, BG, GB, JP, DE, EE, C...  nm0700947   \n35967      [HU, US, GR, TR, IT, ES, XWG, MX, FR, PL, GB]  nm0339890   \n58202                   [DDDE, FR, IT, CSHH, US, BR, DE]  nm0066110   \n60970         [IT, HU, ES, AR, DDDE, PL, GR, JP, FR, RO]  nm0592027   \n61389                                   [ES, ES, NL, GB]  nm0262539   \n61389                                   [ES, ES, NL, GB]  nm0273830   \n61389                                   [ES, ES, NL, GB]  nm0346965   \n63536                      [IT, CA, US, GB, XWG, FR, PT]  nm0119816   \n63536                      [IT, CA, US, GB, XWG, FR, PT]  nm0529293   \n63699  [FI, ES, XWW, BG, JP, PT, US, DK, AR, NL, GB, ...  nm0294143   \n63699  [FI, ES, XWW, BG, JP, PT, US, DK, AR, NL, GB, ...  nm0570570   \n63699  [FI, ES, XWW, BG, JP, PT, US, DK, AR, NL, GB, ...  nm0578833   \n63699  [FI, ES, XWW, BG, JP, PT, US, DK, AR, NL, GB, ...  nm0707536   \n63811                                             [SUHH]  nm0242523   \n63890                                             [CSHH]  nm0556165   \n\n                 primaryName birthYear deathYear  \\\n15486          Harry Kernell      1888      1953   \n34803       Josephine Byrnes      1966      2024   \n34803          Reed De Rouen      1921      1986   \n34803           Cyril Dowler      1906      1986   \n34803           Geoff Hansen      1951      2015   \n34803  Aly Purrott-Armstrong      1983      2024   \n35967     Mary Ethel Gregory      1925      2005   \n58202      Antoni Bednarczyk      1872      1941   \n60970          Iñaki Miramón      1957      2024   \n61389             Anne Evans      1941      2024   \n61389         Aldo Ferracuti      1907      1981   \n61389      Roberto Guilherme      1938      2022   \n63536          Dusan Bulajic      1932      1995   \n63536            Knut Lystad      1946      2024   \n63699         Marinda French      1934      2024   \n63699          Tim McInnerny      1956      2024   \n63699         Stephen Mendel      1953      2024   \n63699             Jim Rakete      1951      2024   \n63811           Carolyn Dunn      1961      2024   \n63890         Robert Maschio      1966      2024   \n\n                      primaryProfession  \n15486          costume_department,actor  \n34803                           actress  \n34803        actor,writer,miscellaneous  \n34803                             actor  \n34803    actor,cinematographer,director  \n34803                           actress  \n35967                           actress  \n58202                    actor,director  \n60970                             actor  \n61389                           actress  \n61389                             actor  \n61389                             actor  \n63536                             actor  \n63536             actor,writer,director  \n63699                           actress  \n63699                             actor  \n63699                  actor,soundtrack  \n63699  actor,camera_department,director  \n63811                           actress  \n63890           actor,soundtrack,writer  ",
      "text/html": "<div>\n<style scoped>\n    .dataframe tbody tr th:only-of-type {\n        vertical-align: middle;\n    }\n\n    .dataframe tbody tr th {\n        vertical-align: top;\n    }\n\n    .dataframe thead th {\n        text-align: right;\n    }\n</style>\n<table border=\"1\" class=\"dataframe\">\n  <thead>\n    <tr style=\"text-align: right;\">\n      <th></th>\n      <th>tconst</th>\n      <th>titleType</th>\n      <th>primaryTitle</th>\n      <th>originalTitle</th>\n      <th>isAdult</th>\n      <th>startYear</th>\n      <th>endYear</th>\n      <th>runtimeMinutes</th>\n      <th>genres</th>\n      <th>replicas</th>\n      <th>regions</th>\n      <th>nconst</th>\n      <th>primaryName</th>\n      <th>birthYear</th>\n      <th>deathYear</th>\n      <th>primaryProfession</th>\n    </tr>\n  </thead>\n  <tbody>\n    <tr>\n      <th>15486</th>\n      <td>tt0015724</td>\n      <td>movie</td>\n      <td>Dama de noche</td>\n      <td>Dama de noche</td>\n      <td>0</td>\n      <td>1993</td>\n      <td>1993</td>\n      <td>102</td>\n      <td>[Drama, Mystery, Romance]</td>\n      <td>2.0</td>\n      <td>[MX, HU]</td>\n      <td>nm0449525</td>\n      <td>Harry Kernell</td>\n      <td>1888</td>\n      <td>1953</td>\n      <td>costume_department,actor</td>\n    </tr>\n    <tr>\n      <th>34803</th>\n      <td>tt0035423</td>\n      <td>movie</td>\n      <td>Kate &amp; Leopold</td>\n      <td>Kate &amp; Leopold</td>\n      <td>0</td>\n      <td>2001</td>\n      <td>2001</td>\n      <td>118</td>\n      <td>[Comedy, Fantasy, Romance]</td>\n      <td>41.0</td>\n      <td>[IT, FR, ES, PT, ZA, PL, BG, GB, JP, DE, EE, C...</td>\n      <td>nm0126330</td>\n      <td>Josephine Byrnes</td>\n      <td>1966</td>\n      <td>2024</td>\n      <td>actress</td>\n    </tr>\n    <tr>\n      <th>34803</th>\n      <td>tt0035423</td>\n      <td>movie</td>\n      <td>Kate &amp; Leopold</td>\n      <td>Kate &amp; Leopold</td>\n      <td>0</td>\n      <td>2001</td>\n      <td>2001</td>\n      <td>118</td>\n      <td>[Comedy, Fantasy, Romance]</td>\n      <td>41.0</td>\n      <td>[IT, FR, ES, PT, ZA, PL, BG, GB, JP, DE, EE, C...</td>\n      <td>nm0211306</td>\n      <td>Reed De Rouen</td>\n      <td>1921</td>\n      <td>1986</td>\n      <td>actor,writer,miscellaneous</td>\n    </tr>\n    <tr>\n      <th>34803</th>\n      <td>tt0035423</td>\n      <td>movie</td>\n      <td>Kate &amp; Leopold</td>\n      <td>Kate &amp; Leopold</td>\n      <td>0</td>\n      <td>2001</td>\n      <td>2001</td>\n      <td>118</td>\n      <td>[Comedy, Fantasy, Romance]</td>\n      <td>41.0</td>\n      <td>[IT, FR, ES, PT, ZA, PL, BG, GB, JP, DE, EE, C...</td>\n      <td>nm0235800</td>\n      <td>Cyril Dowler</td>\n      <td>1906</td>\n      <td>1986</td>\n      <td>actor</td>\n    </tr>\n    <tr>\n      <th>34803</th>\n      <td>tt0035423</td>\n      <td>movie</td>\n      <td>Kate &amp; Leopold</td>\n      <td>Kate &amp; Leopold</td>\n      <td>0</td>\n      <td>2001</td>\n      <td>2001</td>\n      <td>118</td>\n      <td>[Comedy, Fantasy, Romance]</td>\n      <td>41.0</td>\n      <td>[IT, FR, ES, PT, ZA, PL, BG, GB, JP, DE, EE, C...</td>\n      <td>nm0360800</td>\n      <td>Geoff Hansen</td>\n      <td>1951</td>\n      <td>2015</td>\n      <td>actor,cinematographer,director</td>\n    </tr>\n    <tr>\n      <th>34803</th>\n      <td>tt0035423</td>\n      <td>movie</td>\n      <td>Kate &amp; Leopold</td>\n      <td>Kate &amp; Leopold</td>\n      <td>0</td>\n      <td>2001</td>\n      <td>2001</td>\n      <td>118</td>\n      <td>[Comedy, Fantasy, Romance]</td>\n      <td>41.0</td>\n      <td>[IT, FR, ES, PT, ZA, PL, BG, GB, JP, DE, EE, C...</td>\n      <td>nm0700947</td>\n      <td>Aly Purrott-Armstrong</td>\n      <td>1983</td>\n      <td>2024</td>\n      <td>actress</td>\n    </tr>\n    <tr>\n      <th>35967</th>\n      <td>tt0036606</td>\n      <td>movie</td>\n      <td>Another Time, Another Place</td>\n      <td>Another Time, Another Place</td>\n      <td>0</td>\n      <td>1983</td>\n      <td>1983</td>\n      <td>118</td>\n      <td>[Drama, War]</td>\n      <td>11.0</td>\n      <td>[HU, US, GR, TR, IT, ES, XWG, MX, FR, PL, GB]</td>\n      <td>nm0339890</td>\n      <td>Mary Ethel Gregory</td>\n      <td>1925</td>\n      <td>2005</td>\n      <td>actress</td>\n    </tr>\n    <tr>\n      <th>58202</th>\n      <td>tt0059325</td>\n      <td>movie</td>\n      <td>Born in '45</td>\n      <td>Jahrgang 45</td>\n      <td>0</td>\n      <td>1990</td>\n      <td>1990</td>\n      <td>100</td>\n      <td>[Drama, Romance]</td>\n      <td>7.0</td>\n      <td>[DDDE, FR, IT, CSHH, US, BR, DE]</td>\n      <td>nm0066110</td>\n      <td>Antoni Bednarczyk</td>\n      <td>1872</td>\n      <td>1941</td>\n      <td>actor,director</td>\n    </tr>\n    <tr>\n      <th>60970</th>\n      <td>tt0062181</td>\n      <td>movie</td>\n      <td>Rece do góry</td>\n      <td>Rece do góry</td>\n      <td>0</td>\n      <td>1981</td>\n      <td>1981</td>\n      <td>76</td>\n      <td>[Drama]</td>\n      <td>10.0</td>\n      <td>[IT, HU, ES, AR, DDDE, PL, GR, JP, FR, RO]</td>\n      <td>nm0592027</td>\n      <td>Iñaki Miramón</td>\n      <td>1957</td>\n      <td>2024</td>\n      <td>actor</td>\n    </tr>\n    <tr>\n      <th>61389</th>\n      <td>tt0062614</td>\n      <td>tvSeries</td>\n      <td>Zeg 'ns Aaa</td>\n      <td>Zeg 'ns Aaa</td>\n      <td>0</td>\n      <td>1981</td>\n      <td>2010</td>\n      <td>23</td>\n      <td>[Comedy]</td>\n      <td>4.0</td>\n      <td>[ES, ES, NL, GB]</td>\n      <td>nm0262539</td>\n      <td>Anne Evans</td>\n      <td>1941</td>\n      <td>2024</td>\n      <td>actress</td>\n    </tr>\n    <tr>\n      <th>61389</th>\n      <td>tt0062614</td>\n      <td>tvSeries</td>\n      <td>Zeg 'ns Aaa</td>\n      <td>Zeg 'ns Aaa</td>\n      <td>0</td>\n      <td>1981</td>\n      <td>2010</td>\n      <td>23</td>\n      <td>[Comedy]</td>\n      <td>4.0</td>\n      <td>[ES, ES, NL, GB]</td>\n      <td>nm0273830</td>\n      <td>Aldo Ferracuti</td>\n      <td>1907</td>\n      <td>1981</td>\n      <td>actor</td>\n    </tr>\n    <tr>\n      <th>61389</th>\n      <td>tt0062614</td>\n      <td>tvSeries</td>\n      <td>Zeg 'ns Aaa</td>\n      <td>Zeg 'ns Aaa</td>\n      <td>0</td>\n      <td>1981</td>\n      <td>2010</td>\n      <td>23</td>\n      <td>[Comedy]</td>\n      <td>4.0</td>\n      <td>[ES, ES, NL, GB]</td>\n      <td>nm0346965</td>\n      <td>Roberto Guilherme</td>\n      <td>1938</td>\n      <td>2022</td>\n      <td>actor</td>\n    </tr>\n    <tr>\n      <th>63536</th>\n      <td>tt0064820</td>\n      <td>movie</td>\n      <td>The Plot Against Harry</td>\n      <td>The Plot Against Harry</td>\n      <td>0</td>\n      <td>1989</td>\n      <td>1989</td>\n      <td>81</td>\n      <td>[Comedy, Crime]</td>\n      <td>7.0</td>\n      <td>[IT, CA, US, GB, XWG, FR, PT]</td>\n      <td>nm0119816</td>\n      <td>Dusan Bulajic</td>\n      <td>1932</td>\n      <td>1995</td>\n      <td>actor</td>\n    </tr>\n    <tr>\n      <th>63536</th>\n      <td>tt0064820</td>\n      <td>movie</td>\n      <td>The Plot Against Harry</td>\n      <td>The Plot Against Harry</td>\n      <td>0</td>\n      <td>1989</td>\n      <td>1989</td>\n      <td>81</td>\n      <td>[Comedy, Crime]</td>\n      <td>7.0</td>\n      <td>[IT, CA, US, GB, XWG, FR, PT]</td>\n      <td>nm0529293</td>\n      <td>Knut Lystad</td>\n      <td>1946</td>\n      <td>2024</td>\n      <td>actor,writer,director</td>\n    </tr>\n    <tr>\n      <th>63699</th>\n      <td>tt0064994</td>\n      <td>movie</td>\n      <td>Larks on a String</td>\n      <td>Skrivánci na niti</td>\n      <td>0</td>\n      <td>1990</td>\n      <td>1990</td>\n      <td>94</td>\n      <td>[Comedy, Drama, Romance]</td>\n      <td>27.0</td>\n      <td>[FI, ES, XWW, BG, JP, PT, US, DK, AR, NL, GB, ...</td>\n      <td>nm0294143</td>\n      <td>Marinda French</td>\n      <td>1934</td>\n      <td>2024</td>\n      <td>actress</td>\n    </tr>\n    <tr>\n      <th>63699</th>\n      <td>tt0064994</td>\n      <td>movie</td>\n      <td>Larks on a String</td>\n      <td>Skrivánci na niti</td>\n      <td>0</td>\n      <td>1990</td>\n      <td>1990</td>\n      <td>94</td>\n      <td>[Comedy, Drama, Romance]</td>\n      <td>27.0</td>\n      <td>[FI, ES, XWW, BG, JP, PT, US, DK, AR, NL, GB, ...</td>\n      <td>nm0570570</td>\n      <td>Tim McInnerny</td>\n      <td>1956</td>\n      <td>2024</td>\n      <td>actor</td>\n    </tr>\n    <tr>\n      <th>63699</th>\n      <td>tt0064994</td>\n      <td>movie</td>\n      <td>Larks on a String</td>\n      <td>Skrivánci na niti</td>\n      <td>0</td>\n      <td>1990</td>\n      <td>1990</td>\n      <td>94</td>\n      <td>[Comedy, Drama, Romance]</td>\n      <td>27.0</td>\n      <td>[FI, ES, XWW, BG, JP, PT, US, DK, AR, NL, GB, ...</td>\n      <td>nm0578833</td>\n      <td>Stephen Mendel</td>\n      <td>1953</td>\n      <td>2024</td>\n      <td>actor,soundtrack</td>\n    </tr>\n    <tr>\n      <th>63699</th>\n      <td>tt0064994</td>\n      <td>movie</td>\n      <td>Larks on a String</td>\n      <td>Skrivánci na niti</td>\n      <td>0</td>\n      <td>1990</td>\n      <td>1990</td>\n      <td>94</td>\n      <td>[Comedy, Drama, Romance]</td>\n      <td>27.0</td>\n      <td>[FI, ES, XWW, BG, JP, PT, US, DK, AR, NL, GB, ...</td>\n      <td>nm0707536</td>\n      <td>Jim Rakete</td>\n      <td>1951</td>\n      <td>2024</td>\n      <td>actor,camera_department,director</td>\n    </tr>\n    <tr>\n      <th>63811</th>\n      <td>tt0065108</td>\n      <td>movie</td>\n      <td>Tolko tri nochi</td>\n      <td>Tolko tri nochi</td>\n      <td>0</td>\n      <td>1989</td>\n      <td>1989</td>\n      <td>82</td>\n      <td>[Drama, Romance]</td>\n      <td>1.0</td>\n      <td>[SUHH]</td>\n      <td>nm0242523</td>\n      <td>Carolyn Dunn</td>\n      <td>1961</td>\n      <td>2024</td>\n      <td>actress</td>\n    </tr>\n    <tr>\n      <th>63890</th>\n      <td>tt0065188</td>\n      <td>movie</td>\n      <td>Vojtech, receny sirotek</td>\n      <td>Vojtech, receny sirotek</td>\n      <td>0</td>\n      <td>1990</td>\n      <td>1990</td>\n      <td>80</td>\n      <td>[Drama]</td>\n      <td>1.0</td>\n      <td>[CSHH]</td>\n      <td>nm0556165</td>\n      <td>Robert Maschio</td>\n      <td>1966</td>\n      <td>2024</td>\n      <td>actor,soundtrack,writer</td>\n    </tr>\n  </tbody>\n</table>\n</div>"
     },
     "execution_count": 20,
     "metadata": {},
     "output_type": "execute_result"
    }
   ],
   "source": [
    "actors = actors[actors['knownForTitles'].isin(db.tconst)]\n",
    "actors = actors.rename(columns={'knownForTitles':'tconst'})\n",
    "db = db.join(actors.set_index('tconst'), on='tconst').dropna()\n",
    "del actors\n",
    "db.head(20)"
   ],
   "metadata": {
    "collapsed": false
   }
  },
  {
   "cell_type": "code",
   "execution_count": 21,
   "outputs": [
    {
     "data": {
      "text/plain": "(91893, 16)"
     },
     "execution_count": 21,
     "metadata": {},
     "output_type": "execute_result"
    }
   ],
   "source": [
    "db.shape"
   ],
   "metadata": {
    "collapsed": false
   }
  },
  {
   "cell_type": "code",
   "execution_count": 22,
   "outputs": [],
   "source": [
    "title_ratings = pd.read_csv('db_files/title_ratings.tsv', delimiter='\\t')"
   ],
   "metadata": {
    "collapsed": false
   }
  },
  {
   "cell_type": "code",
   "execution_count": 23,
   "outputs": [],
   "source": [
    "title_ratings = title_ratings.drop(title_ratings[title_ratings['averageRating'] == '\\\\N'].index)\n",
    "title_ratings = title_ratings.drop(title_ratings[title_ratings['numVotes'] == '\\\\N'].index)\n",
    "title_ratings = title_ratings[title_ratings['numVotes'] >= n_reviews]\n",
    "title_ratings = title_ratings[title_ratings['tconst'].isin(db.tconst)]"
   ],
   "metadata": {
    "collapsed": false
   }
  },
  {
   "cell_type": "code",
   "execution_count": 24,
   "outputs": [
    {
     "data": {
      "text/plain": "(42874, 18)"
     },
     "execution_count": 24,
     "metadata": {},
     "output_type": "execute_result"
    }
   ],
   "source": [
    "db = db.merge(title_ratings, on='tconst').dropna()\n",
    "del title_ratings\n",
    "db.shape"
   ],
   "metadata": {
    "collapsed": false
   }
  },
  {
   "cell_type": "markdown",
   "source": [
    "Store the cleaned database"
   ],
   "metadata": {
    "collapsed": false
   }
  },
  {
   "cell_type": "code",
   "execution_count": 25,
   "outputs": [],
   "source": [
    "import numpy as np\n",
    "for index in db.index:\n",
    "    for column in db.columns:\n",
    "        cell_entry = db.loc[index, column]\n",
    "        if (type(cell_entry) == str) | (type(cell_entry) == np.str_) :\n",
    "            db.loc[index, column] = cell_entry.replace('\"', '')\n",
    "            db.loc[index, column] = cell_entry.replace('\\'', '')"
   ],
   "metadata": {
    "collapsed": false
   }
  },
  {
   "cell_type": "code",
   "execution_count": 26,
   "outputs": [],
   "source": [
    "# db = ...\n",
    "os.makedirs('db_clean', exist_ok=True)\n",
    "db.to_csv('db_clean/titles.csv', index=False)"
   ],
   "metadata": {
    "collapsed": false
   }
  }
 ],
 "metadata": {
  "kernelspec": {
   "display_name": "Python 3",
   "language": "python",
   "name": "python3"
  },
  "language_info": {
   "codemirror_mode": {
    "name": "ipython",
    "version": 2
   },
   "file_extension": ".py",
   "mimetype": "text/x-python",
   "name": "python",
   "nbconvert_exporter": "python",
   "pygments_lexer": "ipython2",
   "version": "2.7.6"
  }
 },
 "nbformat": 4,
 "nbformat_minor": 0
}
