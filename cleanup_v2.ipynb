{
 "cells": [
  {
   "cell_type": "code",
   "execution_count": 7,
   "metadata": {
    "collapsed": true
   },
   "outputs": [],
   "source": [
    "import pandas as pd\n",
    "import os"
   ]
  },
  {
   "cell_type": "code",
   "execution_count": 8,
   "outputs": [
    {
     "name": "stderr",
     "output_type": "stream",
     "text": [
      "C:\\Users\\ignacio\\anaconda3\\lib\\site-packages\\IPython\\core\\interactiveshell.py:3165: DtypeWarning: Columns (4) have mixed types.Specify dtype option on import or set low_memory=False.\n",
      "  has_raised = await self.run_ast_nodes(code_ast.body, cell_name,\n"
     ]
    }
   ],
   "source": [
    "title_basic = pd.read_csv('db_files/title_basic.tsv', delimiter='\\t')"
   ],
   "metadata": {
    "collapsed": false
   }
  },
  {
   "cell_type": "code",
   "execution_count": 9,
   "outputs": [
    {
     "data": {
      "text/plain": "(9719896, 9)"
     },
     "execution_count": 9,
     "metadata": {},
     "output_type": "execute_result"
    }
   ],
   "source": [
    "title_basic.shape"
   ],
   "metadata": {
    "collapsed": false
   }
  },
  {
   "cell_type": "code",
   "execution_count": 10,
   "outputs": [
    {
     "data": {
      "text/plain": "       tconst titleType                                 primaryTitle  \\\n0   tt0000001     short                                   Carmencita   \n1   tt0000002     short                       Le clown et ses chiens   \n2   tt0000003     short                               Pauvre Pierrot   \n3   tt0000004     short                                  Un bon bock   \n4   tt0000005     short                             Blacksmith Scene   \n5   tt0000006     short                            Chinese Opium Den   \n6   tt0000007     short  Corbett and Courtney Before the Kinetograph   \n7   tt0000008     short       Edison Kinetoscopic Record of a Sneeze   \n8   tt0000009     movie                                   Miss Jerry   \n9   tt0000010     short                          Leaving the Factory   \n10  tt0000011     short                      Akrobatisches Potpourri   \n11  tt0000012     short                       The Arrival of a Train   \n12  tt0000013     short  The Photographical Congress Arrives in Lyon   \n13  tt0000014     short                          The Waterer Watered   \n14  tt0000015     short                          Autour d'une cabine   \n15  tt0000016     short                        Boat Leaving the Port   \n16  tt0000017     short                     Italienischer Bauerntanz   \n17  tt0000018     short                         Das boxende Känguruh   \n18  tt0000019     short                             The Clown Barber   \n19  tt0000020     short                               The Derby 1895   \n\n                                        originalTitle isAdult startYear  \\\n0                                          Carmencita       0      1894   \n1                              Le clown et ses chiens       0      1892   \n2                                      Pauvre Pierrot       0      1892   \n3                                         Un bon bock       0      1892   \n4                                    Blacksmith Scene       0      1893   \n5                                   Chinese Opium Den       0      1894   \n6         Corbett and Courtney Before the Kinetograph       0      1894   \n7              Edison Kinetoscopic Record of a Sneeze       0      1894   \n8                                          Miss Jerry       0      1894   \n9                 La sortie de l'usine Lumière à Lyon       0      1895   \n10                            Akrobatisches Potpourri       0      1895   \n11                   L'arrivée d'un train à La Ciotat       0      1896   \n12  Le débarquement du congrès de photographie à Lyon       0      1895   \n13                                  L'arroseur arrosé       0      1895   \n14                                Autour d'une cabine       0      1894   \n15                             Barque sortant du port       0      1895   \n16                           Italienischer Bauerntanz       0      1895   \n17                               Das boxende Känguruh       0      1895   \n18                                   The Clown Barber       0      1898   \n19                                     The Derby 1895       0      1895   \n\n   endYear runtimeMinutes                    genres  \n0       \\N              1         Documentary,Short  \n1       \\N              5           Animation,Short  \n2       \\N              4  Animation,Comedy,Romance  \n3       \\N             12           Animation,Short  \n4       \\N              1              Comedy,Short  \n5       \\N              1                     Short  \n6       \\N              1               Short,Sport  \n7       \\N              1         Documentary,Short  \n8       \\N             45                   Romance  \n9       \\N              1         Documentary,Short  \n10      \\N              1         Documentary,Short  \n11      \\N              1         Documentary,Short  \n12      \\N              1         Documentary,Short  \n13      \\N              1              Comedy,Short  \n14      \\N              2           Animation,Short  \n15      \\N              1         Documentary,Short  \n16      \\N              1         Documentary,Short  \n17      \\N              1                     Short  \n18      \\N             \\N              Comedy,Short  \n19      \\N              1   Documentary,Short,Sport  ",
      "text/html": "<div>\n<style scoped>\n    .dataframe tbody tr th:only-of-type {\n        vertical-align: middle;\n    }\n\n    .dataframe tbody tr th {\n        vertical-align: top;\n    }\n\n    .dataframe thead th {\n        text-align: right;\n    }\n</style>\n<table border=\"1\" class=\"dataframe\">\n  <thead>\n    <tr style=\"text-align: right;\">\n      <th></th>\n      <th>tconst</th>\n      <th>titleType</th>\n      <th>primaryTitle</th>\n      <th>originalTitle</th>\n      <th>isAdult</th>\n      <th>startYear</th>\n      <th>endYear</th>\n      <th>runtimeMinutes</th>\n      <th>genres</th>\n    </tr>\n  </thead>\n  <tbody>\n    <tr>\n      <th>0</th>\n      <td>tt0000001</td>\n      <td>short</td>\n      <td>Carmencita</td>\n      <td>Carmencita</td>\n      <td>0</td>\n      <td>1894</td>\n      <td>\\N</td>\n      <td>1</td>\n      <td>Documentary,Short</td>\n    </tr>\n    <tr>\n      <th>1</th>\n      <td>tt0000002</td>\n      <td>short</td>\n      <td>Le clown et ses chiens</td>\n      <td>Le clown et ses chiens</td>\n      <td>0</td>\n      <td>1892</td>\n      <td>\\N</td>\n      <td>5</td>\n      <td>Animation,Short</td>\n    </tr>\n    <tr>\n      <th>2</th>\n      <td>tt0000003</td>\n      <td>short</td>\n      <td>Pauvre Pierrot</td>\n      <td>Pauvre Pierrot</td>\n      <td>0</td>\n      <td>1892</td>\n      <td>\\N</td>\n      <td>4</td>\n      <td>Animation,Comedy,Romance</td>\n    </tr>\n    <tr>\n      <th>3</th>\n      <td>tt0000004</td>\n      <td>short</td>\n      <td>Un bon bock</td>\n      <td>Un bon bock</td>\n      <td>0</td>\n      <td>1892</td>\n      <td>\\N</td>\n      <td>12</td>\n      <td>Animation,Short</td>\n    </tr>\n    <tr>\n      <th>4</th>\n      <td>tt0000005</td>\n      <td>short</td>\n      <td>Blacksmith Scene</td>\n      <td>Blacksmith Scene</td>\n      <td>0</td>\n      <td>1893</td>\n      <td>\\N</td>\n      <td>1</td>\n      <td>Comedy,Short</td>\n    </tr>\n    <tr>\n      <th>5</th>\n      <td>tt0000006</td>\n      <td>short</td>\n      <td>Chinese Opium Den</td>\n      <td>Chinese Opium Den</td>\n      <td>0</td>\n      <td>1894</td>\n      <td>\\N</td>\n      <td>1</td>\n      <td>Short</td>\n    </tr>\n    <tr>\n      <th>6</th>\n      <td>tt0000007</td>\n      <td>short</td>\n      <td>Corbett and Courtney Before the Kinetograph</td>\n      <td>Corbett and Courtney Before the Kinetograph</td>\n      <td>0</td>\n      <td>1894</td>\n      <td>\\N</td>\n      <td>1</td>\n      <td>Short,Sport</td>\n    </tr>\n    <tr>\n      <th>7</th>\n      <td>tt0000008</td>\n      <td>short</td>\n      <td>Edison Kinetoscopic Record of a Sneeze</td>\n      <td>Edison Kinetoscopic Record of a Sneeze</td>\n      <td>0</td>\n      <td>1894</td>\n      <td>\\N</td>\n      <td>1</td>\n      <td>Documentary,Short</td>\n    </tr>\n    <tr>\n      <th>8</th>\n      <td>tt0000009</td>\n      <td>movie</td>\n      <td>Miss Jerry</td>\n      <td>Miss Jerry</td>\n      <td>0</td>\n      <td>1894</td>\n      <td>\\N</td>\n      <td>45</td>\n      <td>Romance</td>\n    </tr>\n    <tr>\n      <th>9</th>\n      <td>tt0000010</td>\n      <td>short</td>\n      <td>Leaving the Factory</td>\n      <td>La sortie de l'usine Lumière à Lyon</td>\n      <td>0</td>\n      <td>1895</td>\n      <td>\\N</td>\n      <td>1</td>\n      <td>Documentary,Short</td>\n    </tr>\n    <tr>\n      <th>10</th>\n      <td>tt0000011</td>\n      <td>short</td>\n      <td>Akrobatisches Potpourri</td>\n      <td>Akrobatisches Potpourri</td>\n      <td>0</td>\n      <td>1895</td>\n      <td>\\N</td>\n      <td>1</td>\n      <td>Documentary,Short</td>\n    </tr>\n    <tr>\n      <th>11</th>\n      <td>tt0000012</td>\n      <td>short</td>\n      <td>The Arrival of a Train</td>\n      <td>L'arrivée d'un train à La Ciotat</td>\n      <td>0</td>\n      <td>1896</td>\n      <td>\\N</td>\n      <td>1</td>\n      <td>Documentary,Short</td>\n    </tr>\n    <tr>\n      <th>12</th>\n      <td>tt0000013</td>\n      <td>short</td>\n      <td>The Photographical Congress Arrives in Lyon</td>\n      <td>Le débarquement du congrès de photographie à Lyon</td>\n      <td>0</td>\n      <td>1895</td>\n      <td>\\N</td>\n      <td>1</td>\n      <td>Documentary,Short</td>\n    </tr>\n    <tr>\n      <th>13</th>\n      <td>tt0000014</td>\n      <td>short</td>\n      <td>The Waterer Watered</td>\n      <td>L'arroseur arrosé</td>\n      <td>0</td>\n      <td>1895</td>\n      <td>\\N</td>\n      <td>1</td>\n      <td>Comedy,Short</td>\n    </tr>\n    <tr>\n      <th>14</th>\n      <td>tt0000015</td>\n      <td>short</td>\n      <td>Autour d'une cabine</td>\n      <td>Autour d'une cabine</td>\n      <td>0</td>\n      <td>1894</td>\n      <td>\\N</td>\n      <td>2</td>\n      <td>Animation,Short</td>\n    </tr>\n    <tr>\n      <th>15</th>\n      <td>tt0000016</td>\n      <td>short</td>\n      <td>Boat Leaving the Port</td>\n      <td>Barque sortant du port</td>\n      <td>0</td>\n      <td>1895</td>\n      <td>\\N</td>\n      <td>1</td>\n      <td>Documentary,Short</td>\n    </tr>\n    <tr>\n      <th>16</th>\n      <td>tt0000017</td>\n      <td>short</td>\n      <td>Italienischer Bauerntanz</td>\n      <td>Italienischer Bauerntanz</td>\n      <td>0</td>\n      <td>1895</td>\n      <td>\\N</td>\n      <td>1</td>\n      <td>Documentary,Short</td>\n    </tr>\n    <tr>\n      <th>17</th>\n      <td>tt0000018</td>\n      <td>short</td>\n      <td>Das boxende Känguruh</td>\n      <td>Das boxende Känguruh</td>\n      <td>0</td>\n      <td>1895</td>\n      <td>\\N</td>\n      <td>1</td>\n      <td>Short</td>\n    </tr>\n    <tr>\n      <th>18</th>\n      <td>tt0000019</td>\n      <td>short</td>\n      <td>The Clown Barber</td>\n      <td>The Clown Barber</td>\n      <td>0</td>\n      <td>1898</td>\n      <td>\\N</td>\n      <td>\\N</td>\n      <td>Comedy,Short</td>\n    </tr>\n    <tr>\n      <th>19</th>\n      <td>tt0000020</td>\n      <td>short</td>\n      <td>The Derby 1895</td>\n      <td>The Derby 1895</td>\n      <td>0</td>\n      <td>1895</td>\n      <td>\\N</td>\n      <td>1</td>\n      <td>Documentary,Short,Sport</td>\n    </tr>\n  </tbody>\n</table>\n</div>"
     },
     "execution_count": 10,
     "metadata": {},
     "output_type": "execute_result"
    }
   ],
   "source": [
    "title_basic.head(20)"
   ],
   "metadata": {
    "collapsed": false
   }
  },
  {
   "cell_type": "markdown",
   "source": [
    "## Filtering steps:\n",
    "\n",
    "1. titleType:\n",
    "    - movie\n",
    "    - tvSeries\n",
    "    - tvMovie\n",
    "\n",
    "2. startYear: 1940 <= year <= 2022\n",
    "3. num of replicas: >= 1\n",
    "4. num of reviews : >= 1000\n",
    "5. num of actor per movie: >= 1\n"
   ],
   "metadata": {
    "collapsed": false
   }
  },
  {
   "cell_type": "code",
   "execution_count": 11,
   "outputs": [],
   "source": [
    "allowed = ['movie', 'tvSeries', 'tvMovie']\n",
    "startYear = 1940\n",
    "n_replicas = 1\n",
    "n_reviews = 1000\n",
    "null_values = ['\\\\N', '\\\\n', '']"
   ],
   "metadata": {
    "collapsed": false
   }
  },
  {
   "cell_type": "code",
   "execution_count": 12,
   "outputs": [],
   "source": [
    "title_basic['startYear'] = title_basic['startYear'].replace('\\\\N', 0).astype('int32')\n",
    "title_basic['endYear'] = title_basic.apply(\n",
    "    lambda r: int(r['startYear']) if r['endYear'] == '\\\\N' else int(r['endYear']), axis=1\n",
    ")\n",
    "title_basic['runtimeMinutes'] = title_basic['runtimeMinutes'].replace('\\\\N', 0)\n",
    "title_basic = title_basic.drop(title_basic[title_basic['genres'].isin(null_values)].index)"
   ],
   "metadata": {
    "collapsed": false
   }
  },
  {
   "cell_type": "code",
   "execution_count": 13,
   "outputs": [],
   "source": [
    "title_basic['genres'] = title_basic['genres'].str.split(',')"
   ],
   "metadata": {
    "collapsed": false
   }
  },
  {
   "cell_type": "code",
   "execution_count": 14,
   "outputs": [
    {
     "data": {
      "text/plain": "Drama          2740832\nComedy         1967448\nTalk-Show      1184554\nShort          1066110\nDocumentary     917221\nRomance         899445\nNews            857329\nFamily          713471\nReality-TV      530532\nAnimation       498817\nCrime           399063\nAction          387107\nAdventure       381343\nMusic           380750\nGame-Show       353299\nAdult           298961\nSport           230645\nFantasy         198412\nMystery         190639\nHorror          169648\nThriller        163374\nHistory         140042\nSci-Fi          106996\nBiography       105688\nMusical          87098\nWar              33462\nWestern          29807\nFilm-Noir          887\nName: genres, dtype: int64"
     },
     "execution_count": 14,
     "metadata": {},
     "output_type": "execute_result"
    }
   ],
   "source": [
    "g = title_basic['genres']\n",
    "g = g.explode()\n",
    "g.value_counts()"
   ],
   "metadata": {
    "collapsed": false
   }
  },
  {
   "cell_type": "markdown",
   "source": [
    "+------------+-------+\n",
    "|            |genres |\n",
    "+------------+-------+\n",
    "|Drama       |2725059|\n",
    "|Comedy      |1959541|\n",
    "|Talk-Show   |1162771|\n",
    "|Short       |1059508|\n",
    "|Documentary |912034 |\n",
    "|Romance     |889406 |\n",
    "|News        |843408 |\n",
    "|Family      |709851 |\n",
    "|Reality-TV  |536574 |\n",
    "|Animation   |495894 |\n",
    "|Crime       |396347 |\n",
    "|Action      |384377 |\n",
    "|Adventure   |378884 |\n",
    "|Music       |376819 |\n",
    "|Game-Show   |353205 |\n",
    "|Adult       |296861 |\n",
    "|Sport       |228226 |\n",
    "|Fantasy     |198500 |\n",
    "|Mystery     |188956 |\n",
    "|Horror      |168532 |\n",
    "|Thriller    |161884 |\n",
    "|History     |143369 |\n",
    "|Sci-Fi      |106342 |\n",
    "|Biography   |105568 |\n",
    "|Musical     |86713  |\n",
    "|War         |33230  |\n",
    "|Western     |29398  |\n",
    "|Film-Noir   |890    |\n",
    "|Experimental|1      |\n",
    "+------------+-------+\n"
   ],
   "metadata": {
    "collapsed": false
   }
  },
  {
   "cell_type": "code",
   "execution_count": 15,
   "outputs": [
    {
     "data": {
      "text/plain": "          tconst titleType                            primaryTitle  \\\n11636  tt0011801     movie                        Tötet nicht mehr   \n13082  tt0013274     movie             Istoriya grazhdanskoy voyny   \n15486  tt0015724     movie                           Dama de noche   \n18595  tt0018867     movie                   Escape from Hong Kong   \n21274  tt0021617     movie                       Arizona Territory   \n21711  tt0022064     movie                           Lebbra bianca   \n23711  tt0024121     movie                           Houkutuslintu   \n25116  tt0025557     movie       El negro que tenía el alma blanca   \n26482  tt0026957     movie                         Bound for Cairo   \n26836  tt0027318     movie                 August järjestää kaiken   \n27545  tt0028038     movie                        Non mi sposo più   \n27565  tt0028058     movie                       Olympic Honeymoon   \n28596  tt0029105     movie                        Lady from Lisbon   \n28774  tt0029284     movie                        My Favorite Wife   \n28820  tt0029330     movie                            Of One Blood   \n29185  tt0029704     movie                          The Last Enemy   \n29339  tt0029859     movie           Altes Herz geht auf die Reise   \n29356  tt0029876     movie  El fanfarrón: ¡Aquí llegó el valentón!   \n29960  tt0030495     movie                                Narcisse   \n30284  tt0030827     movie                    Szüts Mara házassága   \n\n                                originalTitle isAdult  startYear  endYear  \\\n11636                        Tötet nicht mehr       0       2019     2019   \n13082             Istoriya grazhdanskoy voyny       0       2021     2021   \n15486                           Dama de noche       0       1993     1993   \n18595                   Escape from Hong Kong       0       1942     1942   \n21274                       Arizona Territory       0       1950     1950   \n21711                           Lebbra bianca       0       1951     1951   \n23711                           Houkutuslintu       0       1946     1946   \n25116       El negro que tenía el alma blanca       0       1951     1951   \n26482                          Rumbo al Cairo       0       1940     1940   \n26836                 August järjestää kaiken       0       1942     1942   \n27545                        Non mi sposo più       0       1942     1942   \n27565                       Olympic Honeymoon       0       1940     1940   \n28596                    The Lady from Lisbon       0       1942     1942   \n28774                        My Favorite Wife       0       1940     1940   \n28820                            Of One Blood       0       1944     1944   \n29185                         L'ultima nemica       0       1940     1940   \n29339           Altes Herz geht auf die Reise       0       1947     1947   \n29356  El fanfarrón: ¡Aquí llegó el valentón!       0       1940     1940   \n29960                                Narcisse       0       1940     1940   \n30284                    Szüts Mara házassága       0       1941     1941   \n\n      runtimeMinutes                       genres  \n11636              0              [Action, Crime]  \n13082            133                [Documentary]  \n15486            102    [Drama, Mystery, Romance]  \n18595             60    [Adventure, Mystery, War]  \n21274             56                    [Western]  \n21711            100                      [Drama]  \n23711             84                      [Drama]  \n25116             87             [Drama, Musical]  \n26482              0                     [Comedy]  \n26836             95                     [Comedy]  \n27545             82                     [Comedy]  \n27565             63                     [Comedy]  \n28596             75      [Comedy, Thriller, War]  \n28774             88            [Comedy, Romance]  \n28820             64                   [Thriller]  \n29185             88                      [Drama]  \n29339             87                      [Drama]  \n29356             83  [Adventure, Drama, Western]  \n29960             95                      [Drama]  \n30284             91                    [Romance]  ",
      "text/html": "<div>\n<style scoped>\n    .dataframe tbody tr th:only-of-type {\n        vertical-align: middle;\n    }\n\n    .dataframe tbody tr th {\n        vertical-align: top;\n    }\n\n    .dataframe thead th {\n        text-align: right;\n    }\n</style>\n<table border=\"1\" class=\"dataframe\">\n  <thead>\n    <tr style=\"text-align: right;\">\n      <th></th>\n      <th>tconst</th>\n      <th>titleType</th>\n      <th>primaryTitle</th>\n      <th>originalTitle</th>\n      <th>isAdult</th>\n      <th>startYear</th>\n      <th>endYear</th>\n      <th>runtimeMinutes</th>\n      <th>genres</th>\n    </tr>\n  </thead>\n  <tbody>\n    <tr>\n      <th>11636</th>\n      <td>tt0011801</td>\n      <td>movie</td>\n      <td>Tötet nicht mehr</td>\n      <td>Tötet nicht mehr</td>\n      <td>0</td>\n      <td>2019</td>\n      <td>2019</td>\n      <td>0</td>\n      <td>[Action, Crime]</td>\n    </tr>\n    <tr>\n      <th>13082</th>\n      <td>tt0013274</td>\n      <td>movie</td>\n      <td>Istoriya grazhdanskoy voyny</td>\n      <td>Istoriya grazhdanskoy voyny</td>\n      <td>0</td>\n      <td>2021</td>\n      <td>2021</td>\n      <td>133</td>\n      <td>[Documentary]</td>\n    </tr>\n    <tr>\n      <th>15486</th>\n      <td>tt0015724</td>\n      <td>movie</td>\n      <td>Dama de noche</td>\n      <td>Dama de noche</td>\n      <td>0</td>\n      <td>1993</td>\n      <td>1993</td>\n      <td>102</td>\n      <td>[Drama, Mystery, Romance]</td>\n    </tr>\n    <tr>\n      <th>18595</th>\n      <td>tt0018867</td>\n      <td>movie</td>\n      <td>Escape from Hong Kong</td>\n      <td>Escape from Hong Kong</td>\n      <td>0</td>\n      <td>1942</td>\n      <td>1942</td>\n      <td>60</td>\n      <td>[Adventure, Mystery, War]</td>\n    </tr>\n    <tr>\n      <th>21274</th>\n      <td>tt0021617</td>\n      <td>movie</td>\n      <td>Arizona Territory</td>\n      <td>Arizona Territory</td>\n      <td>0</td>\n      <td>1950</td>\n      <td>1950</td>\n      <td>56</td>\n      <td>[Western]</td>\n    </tr>\n    <tr>\n      <th>21711</th>\n      <td>tt0022064</td>\n      <td>movie</td>\n      <td>Lebbra bianca</td>\n      <td>Lebbra bianca</td>\n      <td>0</td>\n      <td>1951</td>\n      <td>1951</td>\n      <td>100</td>\n      <td>[Drama]</td>\n    </tr>\n    <tr>\n      <th>23711</th>\n      <td>tt0024121</td>\n      <td>movie</td>\n      <td>Houkutuslintu</td>\n      <td>Houkutuslintu</td>\n      <td>0</td>\n      <td>1946</td>\n      <td>1946</td>\n      <td>84</td>\n      <td>[Drama]</td>\n    </tr>\n    <tr>\n      <th>25116</th>\n      <td>tt0025557</td>\n      <td>movie</td>\n      <td>El negro que tenía el alma blanca</td>\n      <td>El negro que tenía el alma blanca</td>\n      <td>0</td>\n      <td>1951</td>\n      <td>1951</td>\n      <td>87</td>\n      <td>[Drama, Musical]</td>\n    </tr>\n    <tr>\n      <th>26482</th>\n      <td>tt0026957</td>\n      <td>movie</td>\n      <td>Bound for Cairo</td>\n      <td>Rumbo al Cairo</td>\n      <td>0</td>\n      <td>1940</td>\n      <td>1940</td>\n      <td>0</td>\n      <td>[Comedy]</td>\n    </tr>\n    <tr>\n      <th>26836</th>\n      <td>tt0027318</td>\n      <td>movie</td>\n      <td>August järjestää kaiken</td>\n      <td>August järjestää kaiken</td>\n      <td>0</td>\n      <td>1942</td>\n      <td>1942</td>\n      <td>95</td>\n      <td>[Comedy]</td>\n    </tr>\n    <tr>\n      <th>27545</th>\n      <td>tt0028038</td>\n      <td>movie</td>\n      <td>Non mi sposo più</td>\n      <td>Non mi sposo più</td>\n      <td>0</td>\n      <td>1942</td>\n      <td>1942</td>\n      <td>82</td>\n      <td>[Comedy]</td>\n    </tr>\n    <tr>\n      <th>27565</th>\n      <td>tt0028058</td>\n      <td>movie</td>\n      <td>Olympic Honeymoon</td>\n      <td>Olympic Honeymoon</td>\n      <td>0</td>\n      <td>1940</td>\n      <td>1940</td>\n      <td>63</td>\n      <td>[Comedy]</td>\n    </tr>\n    <tr>\n      <th>28596</th>\n      <td>tt0029105</td>\n      <td>movie</td>\n      <td>Lady from Lisbon</td>\n      <td>The Lady from Lisbon</td>\n      <td>0</td>\n      <td>1942</td>\n      <td>1942</td>\n      <td>75</td>\n      <td>[Comedy, Thriller, War]</td>\n    </tr>\n    <tr>\n      <th>28774</th>\n      <td>tt0029284</td>\n      <td>movie</td>\n      <td>My Favorite Wife</td>\n      <td>My Favorite Wife</td>\n      <td>0</td>\n      <td>1940</td>\n      <td>1940</td>\n      <td>88</td>\n      <td>[Comedy, Romance]</td>\n    </tr>\n    <tr>\n      <th>28820</th>\n      <td>tt0029330</td>\n      <td>movie</td>\n      <td>Of One Blood</td>\n      <td>Of One Blood</td>\n      <td>0</td>\n      <td>1944</td>\n      <td>1944</td>\n      <td>64</td>\n      <td>[Thriller]</td>\n    </tr>\n    <tr>\n      <th>29185</th>\n      <td>tt0029704</td>\n      <td>movie</td>\n      <td>The Last Enemy</td>\n      <td>L'ultima nemica</td>\n      <td>0</td>\n      <td>1940</td>\n      <td>1940</td>\n      <td>88</td>\n      <td>[Drama]</td>\n    </tr>\n    <tr>\n      <th>29339</th>\n      <td>tt0029859</td>\n      <td>movie</td>\n      <td>Altes Herz geht auf die Reise</td>\n      <td>Altes Herz geht auf die Reise</td>\n      <td>0</td>\n      <td>1947</td>\n      <td>1947</td>\n      <td>87</td>\n      <td>[Drama]</td>\n    </tr>\n    <tr>\n      <th>29356</th>\n      <td>tt0029876</td>\n      <td>movie</td>\n      <td>El fanfarrón: ¡Aquí llegó el valentón!</td>\n      <td>El fanfarrón: ¡Aquí llegó el valentón!</td>\n      <td>0</td>\n      <td>1940</td>\n      <td>1940</td>\n      <td>83</td>\n      <td>[Adventure, Drama, Western]</td>\n    </tr>\n    <tr>\n      <th>29960</th>\n      <td>tt0030495</td>\n      <td>movie</td>\n      <td>Narcisse</td>\n      <td>Narcisse</td>\n      <td>0</td>\n      <td>1940</td>\n      <td>1940</td>\n      <td>95</td>\n      <td>[Drama]</td>\n    </tr>\n    <tr>\n      <th>30284</th>\n      <td>tt0030827</td>\n      <td>movie</td>\n      <td>Szüts Mara házassága</td>\n      <td>Szüts Mara házassága</td>\n      <td>0</td>\n      <td>1941</td>\n      <td>1941</td>\n      <td>91</td>\n      <td>[Romance]</td>\n    </tr>\n  </tbody>\n</table>\n</div>"
     },
     "execution_count": 15,
     "metadata": {},
     "output_type": "execute_result"
    }
   ],
   "source": [
    "m1 = title_basic['startYear'] >= startYear\n",
    "m3 = title_basic['startYear'] <= 2022\n",
    "m2 = title_basic['titleType'].isin(allowed)\n",
    "db = title_basic[m1 & m2]\n",
    "del title_basic, g\n",
    "db.head(20)"
   ],
   "metadata": {
    "collapsed": false
   }
  },
  {
   "cell_type": "markdown",
   "source": [],
   "metadata": {
    "collapsed": false
   }
  },
  {
   "cell_type": "code",
   "execution_count": 16,
   "outputs": [
    {
     "data": {
      "text/plain": "(773699, 9)"
     },
     "execution_count": 16,
     "metadata": {},
     "output_type": "execute_result"
    }
   ],
   "source": [
    "db.shape"
   ],
   "metadata": {
    "collapsed": false
   }
  },
  {
   "cell_type": "code",
   "execution_count": 17,
   "outputs": [
    {
     "name": "stderr",
     "output_type": "stream",
     "text": [
      "C:\\Users\\ignacio\\anaconda3\\lib\\site-packages\\IPython\\core\\interactiveshell.py:3165: DtypeWarning: Columns (7) have mixed types.Specify dtype option on import or set low_memory=False.\n",
      "  has_raised = await self.run_ast_nodes(code_ast.body, cell_name,\n"
     ]
    }
   ],
   "source": [
    "title_akas = pd.read_csv('db_files/title_akas.tsv', delimiter='\\t')\n",
    "title_akas = title_akas[['titleId','ordering','region']]"
   ],
   "metadata": {
    "collapsed": false
   }
  },
  {
   "cell_type": "code",
   "execution_count": 18,
   "outputs": [
    {
     "name": "stderr",
     "output_type": "stream",
     "text": [
      "C:\\Users\\ignacio\\anaconda3\\lib\\site-packages\\numpy\\lib\\arraysetops.py:583: FutureWarning: elementwise comparison failed; returning scalar instead, but in the future will perform elementwise comparison\n",
      "  mask |= (ar1 == a)\n"
     ]
    }
   ],
   "source": [
    "title_akas = title_akas.drop(title_akas[title_akas['region'].isin(null_values)].index)\n",
    "title_akas = title_akas.drop(title_akas[title_akas['ordering'].isin(null_values)].index)\n",
    "title_akas = title_akas[title_akas['titleId'].isin(db.tconst)]"
   ],
   "metadata": {
    "collapsed": false
   }
  },
  {
   "cell_type": "code",
   "execution_count": 19,
   "outputs": [
    {
     "data": {
      "text/plain": "(2735752, 3)"
     },
     "execution_count": 19,
     "metadata": {},
     "output_type": "execute_result"
    }
   ],
   "source": [
    "title_akas.shape"
   ],
   "metadata": {
    "collapsed": false
   }
  },
  {
   "cell_type": "code",
   "execution_count": 20,
   "outputs": [
    {
     "data": {
      "text/plain": "(2735752, 3)"
     },
     "execution_count": 20,
     "metadata": {},
     "output_type": "execute_result"
    }
   ],
   "source": [
    "replicas = title_akas.groupby('titleId').aggregate({'ordering':'count', 'titleId':'first'})\n",
    "replicas = replicas[replicas['ordering'] >= n_replicas]\n",
    "title_akas = title_akas[title_akas['titleId'].isin(replicas.titleId)]\n",
    "title_akas.shape"
   ],
   "metadata": {
    "collapsed": false
   }
  },
  {
   "cell_type": "markdown",
   "source": [
    "Regions"
   ],
   "metadata": {
    "collapsed": false
   }
  },
  {
   "cell_type": "code",
   "execution_count": 21,
   "outputs": [
    {
     "data": {
      "text/plain": "            replicas                                            regions\ntitleId                                                                \ntt0088814        247  [DZ, FI, IT, BE, CG, RS, CN, CR, SE, AT, CZ, D...\ntt0168366        190  [US, US, JP, AR, CN, SI, TW, US, US, SE, IN, U...\ntt2872750        149  [ES, XWW, EG, GB, CM, PE, AR, PR, LB, US, QA, ...\ntt0099785        144  [PL, KR, BD, MA, UZ, IN, MD, PL, FR, PT, LV, S...\ntt0104431        134  [MD, UA, HR, KR, FR, PL, EC, SG, FI, SE, VN, A...\n...              ...                                                ...\ntt14272380         1                                               [US]\ntt1427238          1                                               [US]\ntt1427237          1                                               [US]\ntt1427235          1                                               [PH]\ntt9916754          1                                               [BR]\n\n[768152 rows x 2 columns]",
      "text/html": "<div>\n<style scoped>\n    .dataframe tbody tr th:only-of-type {\n        vertical-align: middle;\n    }\n\n    .dataframe tbody tr th {\n        vertical-align: top;\n    }\n\n    .dataframe thead th {\n        text-align: right;\n    }\n</style>\n<table border=\"1\" class=\"dataframe\">\n  <thead>\n    <tr style=\"text-align: right;\">\n      <th></th>\n      <th>replicas</th>\n      <th>regions</th>\n    </tr>\n    <tr>\n      <th>titleId</th>\n      <th></th>\n      <th></th>\n    </tr>\n  </thead>\n  <tbody>\n    <tr>\n      <th>tt0088814</th>\n      <td>247</td>\n      <td>[DZ, FI, IT, BE, CG, RS, CN, CR, SE, AT, CZ, D...</td>\n    </tr>\n    <tr>\n      <th>tt0168366</th>\n      <td>190</td>\n      <td>[US, US, JP, AR, CN, SI, TW, US, US, SE, IN, U...</td>\n    </tr>\n    <tr>\n      <th>tt2872750</th>\n      <td>149</td>\n      <td>[ES, XWW, EG, GB, CM, PE, AR, PR, LB, US, QA, ...</td>\n    </tr>\n    <tr>\n      <th>tt0099785</th>\n      <td>144</td>\n      <td>[PL, KR, BD, MA, UZ, IN, MD, PL, FR, PT, LV, S...</td>\n    </tr>\n    <tr>\n      <th>tt0104431</th>\n      <td>134</td>\n      <td>[MD, UA, HR, KR, FR, PL, EC, SG, FI, SE, VN, A...</td>\n    </tr>\n    <tr>\n      <th>...</th>\n      <td>...</td>\n      <td>...</td>\n    </tr>\n    <tr>\n      <th>tt14272380</th>\n      <td>1</td>\n      <td>[US]</td>\n    </tr>\n    <tr>\n      <th>tt1427238</th>\n      <td>1</td>\n      <td>[US]</td>\n    </tr>\n    <tr>\n      <th>tt1427237</th>\n      <td>1</td>\n      <td>[US]</td>\n    </tr>\n    <tr>\n      <th>tt1427235</th>\n      <td>1</td>\n      <td>[PH]</td>\n    </tr>\n    <tr>\n      <th>tt9916754</th>\n      <td>1</td>\n      <td>[BR]</td>\n    </tr>\n  </tbody>\n</table>\n<p>768152 rows × 2 columns</p>\n</div>"
     },
     "execution_count": 21,
     "metadata": {},
     "output_type": "execute_result"
    }
   ],
   "source": [
    "regions = title_akas.groupby('titleId').aggregate(\n",
    "    {'ordering': 'count', 'region': lambda e: list(e)}\n",
    ").sort_values('ordering', ascending=False)\n",
    "regions = regions.rename(columns={'ordering':'replicas', 'region':'regions'})\n",
    "regions"
   ],
   "metadata": {
    "collapsed": false
   }
  },
  {
   "cell_type": "code",
   "execution_count": 22,
   "outputs": [],
   "source": [
    "db = db.join(regions, on='tconst').dropna()\n",
    "del title_akas\n",
    "del regions"
   ],
   "metadata": {
    "collapsed": false
   }
  },
  {
   "cell_type": "code",
   "execution_count": 23,
   "outputs": [],
   "source": [
    "name_basics = pd.read_csv('db_files/name_basics.tsv', delimiter='\\t')"
   ],
   "metadata": {
    "collapsed": false
   }
  },
  {
   "cell_type": "code",
   "execution_count": 24,
   "outputs": [],
   "source": [
    "name_basics = name_basics.drop(name_basics[name_basics['birthYear'] == '\\\\N'].index)\n",
    "name_basics['deathYear'] = name_basics['deathYear'].replace({'\\\\N':'2024'})\n",
    "actors = name_basics[\n",
    "    name_basics['primaryProfession'].str.contains('actor') |\n",
    "    name_basics['primaryProfession'].str.contains('actress')\n",
    "]\n",
    "actors = actors.drop(actors[actors['knownForTitles'] == '\\\\N'].index)"
   ],
   "metadata": {
    "collapsed": false
   }
  },
  {
   "cell_type": "code",
   "execution_count": 25,
   "outputs": [],
   "source": [
    "actors['knownForTitles'] = actors['knownForTitles'].apply(lambda e: e.split(',')).explode('knownForTitles')\n",
    "del name_basics"
   ],
   "metadata": {
    "collapsed": false
   }
  },
  {
   "cell_type": "code",
   "execution_count": 26,
   "outputs": [
    {
     "data": {
      "text/plain": "          tconst titleType                       primaryTitle  \\\n15486  tt0015724     movie                      Dama de noche   \n21274  tt0021617     movie                  Arizona Territory   \n21711  tt0022064     movie                      Lebbra bianca   \n25116  tt0025557     movie  El negro que tenía el alma blanca   \n26482  tt0026957     movie                    Bound for Cairo   \n27565  tt0028058     movie                  Olympic Honeymoon   \n28774  tt0029284     movie                   My Favorite Wife   \n28774  tt0029284     movie                   My Favorite Wife   \n28774  tt0029284     movie                   My Favorite Wife   \n30512  tt0031061     movie                   House of Mystery   \n30528  tt0031077     movie                        Band Waggon   \n30528  tt0031077     movie                        Band Waggon   \n30719  tt0031271     movie       In the Times of Don Porfirio   \n30794  tt0031348     movie                 Frontier Vengeance   \n30794  tt0031348     movie                 Frontier Vengeance   \n30805  tt0031359     movie                           Gaslight   \n30805  tt0031359     movie                           Gaslight   \n30805  tt0031359     movie                           Gaslight   \n30965  tt0031522     movie                       Just William   \n30965  tt0031522     movie                       Just William   \n\n                           originalTitle isAdult  startYear  endYear  \\\n15486                      Dama de noche       0       1993     1993   \n21274                  Arizona Territory       0       1950     1950   \n21711                      Lebbra bianca       0       1951     1951   \n25116  El negro que tenía el alma blanca       0       1951     1951   \n26482                     Rumbo al Cairo       0       1940     1940   \n27565                  Olympic Honeymoon       0       1940     1940   \n28774                   My Favorite Wife       0       1940     1940   \n28774                   My Favorite Wife       0       1940     1940   \n28774                   My Favorite Wife       0       1940     1940   \n30512                  At the Villa Rose       0       1940     1940   \n30528                        Band Waggon       0       1940     1940   \n30528                        Band Waggon       0       1940     1940   \n30719         En tiempos de Don Porfirio       0       1940     1940   \n30794                 Frontier Vengeance       0       1940     1940   \n30794                 Frontier Vengeance       0       1940     1940   \n30805                           Gaslight       0       1940     1940   \n30805                           Gaslight       0       1940     1940   \n30805                           Gaslight       0       1940     1940   \n30965                       Just William       0       1940     1940   \n30965                       Just William       0       1940     1940   \n\n      runtimeMinutes                     genres  replicas  \\\n15486            102  [Drama, Mystery, Romance]       2.0   \n21274             56                  [Western]       2.0   \n21711            100                    [Drama]       6.0   \n25116             87           [Drama, Musical]       4.0   \n26482              0                   [Comedy]       2.0   \n27565             63                   [Comedy]       3.0   \n28774             88          [Comedy, Romance]      48.0   \n28774             88          [Comedy, Romance]      48.0   \n28774             88          [Comedy, Romance]      48.0   \n30512             74           [Drama, Mystery]       8.0   \n30528             85          [Comedy, Musical]       4.0   \n30528             85          [Comedy, Musical]       4.0   \n30719            160   [Comedy, Drama, Musical]       3.0   \n30794             58                  [Western]       1.0   \n30794             58                  [Western]       1.0   \n30805             84        [Mystery, Thriller]      19.0   \n30805             84        [Mystery, Thriller]      19.0   \n30805             84        [Mystery, Thriller]      19.0   \n30965             72                   [Comedy]       2.0   \n30965             72                   [Comedy]       2.0   \n\n                                                 regions     nconst  \\\n15486                                           [MX, HU]  nm0449525   \n21274                                           [US, BR]  nm0524533   \n21711                           [BR, FR, IT, AR, BR, PE]  nm0054019   \n25116                                   [MX, PT, BR, ES]  nm0242341   \n26482                                           [US, ES]  nm0402472   \n27565                                       [CA, US, GB]  nm0461739   \n28774  [FR, PL, HU, JP, ZA, XWW, AT, HK, IE, HR, CA, ...  nm0098850   \n28774  [FR, PL, HU, JP, ZA, XWW, AT, HK, IE, HR, CA, ...  nm0253767   \n28774  [FR, PL, HU, JP, ZA, XWW, AT, HK, IE, HR, CA, ...  nm0459441   \n30512                   [PT, GB, IT, ES, DE, SE, GB, US]  nm0311812   \n30528                                   [SE, ES, US, GB]  nm0136938   \n30528                                   [SE, ES, US, GB]  nm0424303   \n30719                                      [MX, XWW, MX]  nm0578968   \n30794                                               [US]  nm0417040   \n30794                                               [US]  nm0469701   \n30805  [PL, DE, HU, ES, FR, NL, US, BR, GB, US, SUHH,...  nm0131808   \n30805  [PL, DE, HU, ES, FR, NL, US, BR, GB, US, SUHH,...  nm0268426   \n30805  [PL, DE, HU, ES, FR, NL, US, BR, GB, US, SUHH,...  nm0619867   \n30965                                           [GB, US]  nm0270204   \n30965                                           [GB, US]  nm0609288   \n\n               primaryName birthYear deathYear  \\\n15486        Harry Kernell      1888      1953   \n21274      Martina Luchner      1978      2024   \n21711       Arthur Barclay      1892      1978   \n25116      Olgerts Dunkers      1932      1997   \n26482           Homer Hunt      1884      1981   \n27565        Peggy Knudsen      1923      1980   \n28774             Bouboule      1916      2015   \n28774  Lourdes Elizarrarás      1959      2024   \n28774        Rikki Klieman      1948      2024   \n30512       Viktor Gehring      1889      1978   \n30528          Denis Carey      1909      1986   \n30528       David B. Johns      1945      1986   \n30719         Jaime Mendes      1903      1997   \n30794        Adair Jameson      1940      2024   \n30794           Dan Krames      1962      2024   \n30805        Joe Camilleri      1948      2024   \n30805     Betty Farrington      1898      1989   \n30805        Marcos Najera      1972      2024   \n30965     Jacek Fedorowicz      1937      2024   \n30965          Isabel Mota      1954      2024   \n\n                       primaryProfession  \n15486           costume_department,actor  \n21274                            actress  \n21711                              actor  \n25116              actor,director,writer  \n26482                              actor  \n27565                            actress  \n28774                            actress  \n28774  actress,writer,assistant_director  \n28774       actress,editorial_department  \n30512              actor,director,writer  \n30528            actor,director,producer  \n30528                              actor  \n30719    composer,music_department,actor  \n30794                            actress  \n30794              actor,director,writer  \n30805          actor,soundtrack,composer  \n30805                 actress,soundtrack  \n30805            actor,script_department  \n30965            actor,writer,soundtrack  \n30965                            actress  ",
      "text/html": "<div>\n<style scoped>\n    .dataframe tbody tr th:only-of-type {\n        vertical-align: middle;\n    }\n\n    .dataframe tbody tr th {\n        vertical-align: top;\n    }\n\n    .dataframe thead th {\n        text-align: right;\n    }\n</style>\n<table border=\"1\" class=\"dataframe\">\n  <thead>\n    <tr style=\"text-align: right;\">\n      <th></th>\n      <th>tconst</th>\n      <th>titleType</th>\n      <th>primaryTitle</th>\n      <th>originalTitle</th>\n      <th>isAdult</th>\n      <th>startYear</th>\n      <th>endYear</th>\n      <th>runtimeMinutes</th>\n      <th>genres</th>\n      <th>replicas</th>\n      <th>regions</th>\n      <th>nconst</th>\n      <th>primaryName</th>\n      <th>birthYear</th>\n      <th>deathYear</th>\n      <th>primaryProfession</th>\n    </tr>\n  </thead>\n  <tbody>\n    <tr>\n      <th>15486</th>\n      <td>tt0015724</td>\n      <td>movie</td>\n      <td>Dama de noche</td>\n      <td>Dama de noche</td>\n      <td>0</td>\n      <td>1993</td>\n      <td>1993</td>\n      <td>102</td>\n      <td>[Drama, Mystery, Romance]</td>\n      <td>2.0</td>\n      <td>[MX, HU]</td>\n      <td>nm0449525</td>\n      <td>Harry Kernell</td>\n      <td>1888</td>\n      <td>1953</td>\n      <td>costume_department,actor</td>\n    </tr>\n    <tr>\n      <th>21274</th>\n      <td>tt0021617</td>\n      <td>movie</td>\n      <td>Arizona Territory</td>\n      <td>Arizona Territory</td>\n      <td>0</td>\n      <td>1950</td>\n      <td>1950</td>\n      <td>56</td>\n      <td>[Western]</td>\n      <td>2.0</td>\n      <td>[US, BR]</td>\n      <td>nm0524533</td>\n      <td>Martina Luchner</td>\n      <td>1978</td>\n      <td>2024</td>\n      <td>actress</td>\n    </tr>\n    <tr>\n      <th>21711</th>\n      <td>tt0022064</td>\n      <td>movie</td>\n      <td>Lebbra bianca</td>\n      <td>Lebbra bianca</td>\n      <td>0</td>\n      <td>1951</td>\n      <td>1951</td>\n      <td>100</td>\n      <td>[Drama]</td>\n      <td>6.0</td>\n      <td>[BR, FR, IT, AR, BR, PE]</td>\n      <td>nm0054019</td>\n      <td>Arthur Barclay</td>\n      <td>1892</td>\n      <td>1978</td>\n      <td>actor</td>\n    </tr>\n    <tr>\n      <th>25116</th>\n      <td>tt0025557</td>\n      <td>movie</td>\n      <td>El negro que tenía el alma blanca</td>\n      <td>El negro que tenía el alma blanca</td>\n      <td>0</td>\n      <td>1951</td>\n      <td>1951</td>\n      <td>87</td>\n      <td>[Drama, Musical]</td>\n      <td>4.0</td>\n      <td>[MX, PT, BR, ES]</td>\n      <td>nm0242341</td>\n      <td>Olgerts Dunkers</td>\n      <td>1932</td>\n      <td>1997</td>\n      <td>actor,director,writer</td>\n    </tr>\n    <tr>\n      <th>26482</th>\n      <td>tt0026957</td>\n      <td>movie</td>\n      <td>Bound for Cairo</td>\n      <td>Rumbo al Cairo</td>\n      <td>0</td>\n      <td>1940</td>\n      <td>1940</td>\n      <td>0</td>\n      <td>[Comedy]</td>\n      <td>2.0</td>\n      <td>[US, ES]</td>\n      <td>nm0402472</td>\n      <td>Homer Hunt</td>\n      <td>1884</td>\n      <td>1981</td>\n      <td>actor</td>\n    </tr>\n    <tr>\n      <th>27565</th>\n      <td>tt0028058</td>\n      <td>movie</td>\n      <td>Olympic Honeymoon</td>\n      <td>Olympic Honeymoon</td>\n      <td>0</td>\n      <td>1940</td>\n      <td>1940</td>\n      <td>63</td>\n      <td>[Comedy]</td>\n      <td>3.0</td>\n      <td>[CA, US, GB]</td>\n      <td>nm0461739</td>\n      <td>Peggy Knudsen</td>\n      <td>1923</td>\n      <td>1980</td>\n      <td>actress</td>\n    </tr>\n    <tr>\n      <th>28774</th>\n      <td>tt0029284</td>\n      <td>movie</td>\n      <td>My Favorite Wife</td>\n      <td>My Favorite Wife</td>\n      <td>0</td>\n      <td>1940</td>\n      <td>1940</td>\n      <td>88</td>\n      <td>[Comedy, Romance]</td>\n      <td>48.0</td>\n      <td>[FR, PL, HU, JP, ZA, XWW, AT, HK, IE, HR, CA, ...</td>\n      <td>nm0098850</td>\n      <td>Bouboule</td>\n      <td>1916</td>\n      <td>2015</td>\n      <td>actress</td>\n    </tr>\n    <tr>\n      <th>28774</th>\n      <td>tt0029284</td>\n      <td>movie</td>\n      <td>My Favorite Wife</td>\n      <td>My Favorite Wife</td>\n      <td>0</td>\n      <td>1940</td>\n      <td>1940</td>\n      <td>88</td>\n      <td>[Comedy, Romance]</td>\n      <td>48.0</td>\n      <td>[FR, PL, HU, JP, ZA, XWW, AT, HK, IE, HR, CA, ...</td>\n      <td>nm0253767</td>\n      <td>Lourdes Elizarrarás</td>\n      <td>1959</td>\n      <td>2024</td>\n      <td>actress,writer,assistant_director</td>\n    </tr>\n    <tr>\n      <th>28774</th>\n      <td>tt0029284</td>\n      <td>movie</td>\n      <td>My Favorite Wife</td>\n      <td>My Favorite Wife</td>\n      <td>0</td>\n      <td>1940</td>\n      <td>1940</td>\n      <td>88</td>\n      <td>[Comedy, Romance]</td>\n      <td>48.0</td>\n      <td>[FR, PL, HU, JP, ZA, XWW, AT, HK, IE, HR, CA, ...</td>\n      <td>nm0459441</td>\n      <td>Rikki Klieman</td>\n      <td>1948</td>\n      <td>2024</td>\n      <td>actress,editorial_department</td>\n    </tr>\n    <tr>\n      <th>30512</th>\n      <td>tt0031061</td>\n      <td>movie</td>\n      <td>House of Mystery</td>\n      <td>At the Villa Rose</td>\n      <td>0</td>\n      <td>1940</td>\n      <td>1940</td>\n      <td>74</td>\n      <td>[Drama, Mystery]</td>\n      <td>8.0</td>\n      <td>[PT, GB, IT, ES, DE, SE, GB, US]</td>\n      <td>nm0311812</td>\n      <td>Viktor Gehring</td>\n      <td>1889</td>\n      <td>1978</td>\n      <td>actor,director,writer</td>\n    </tr>\n    <tr>\n      <th>30528</th>\n      <td>tt0031077</td>\n      <td>movie</td>\n      <td>Band Waggon</td>\n      <td>Band Waggon</td>\n      <td>0</td>\n      <td>1940</td>\n      <td>1940</td>\n      <td>85</td>\n      <td>[Comedy, Musical]</td>\n      <td>4.0</td>\n      <td>[SE, ES, US, GB]</td>\n      <td>nm0136938</td>\n      <td>Denis Carey</td>\n      <td>1909</td>\n      <td>1986</td>\n      <td>actor,director,producer</td>\n    </tr>\n    <tr>\n      <th>30528</th>\n      <td>tt0031077</td>\n      <td>movie</td>\n      <td>Band Waggon</td>\n      <td>Band Waggon</td>\n      <td>0</td>\n      <td>1940</td>\n      <td>1940</td>\n      <td>85</td>\n      <td>[Comedy, Musical]</td>\n      <td>4.0</td>\n      <td>[SE, ES, US, GB]</td>\n      <td>nm0424303</td>\n      <td>David B. Johns</td>\n      <td>1945</td>\n      <td>1986</td>\n      <td>actor</td>\n    </tr>\n    <tr>\n      <th>30719</th>\n      <td>tt0031271</td>\n      <td>movie</td>\n      <td>In the Times of Don Porfirio</td>\n      <td>En tiempos de Don Porfirio</td>\n      <td>0</td>\n      <td>1940</td>\n      <td>1940</td>\n      <td>160</td>\n      <td>[Comedy, Drama, Musical]</td>\n      <td>3.0</td>\n      <td>[MX, XWW, MX]</td>\n      <td>nm0578968</td>\n      <td>Jaime Mendes</td>\n      <td>1903</td>\n      <td>1997</td>\n      <td>composer,music_department,actor</td>\n    </tr>\n    <tr>\n      <th>30794</th>\n      <td>tt0031348</td>\n      <td>movie</td>\n      <td>Frontier Vengeance</td>\n      <td>Frontier Vengeance</td>\n      <td>0</td>\n      <td>1940</td>\n      <td>1940</td>\n      <td>58</td>\n      <td>[Western]</td>\n      <td>1.0</td>\n      <td>[US]</td>\n      <td>nm0417040</td>\n      <td>Adair Jameson</td>\n      <td>1940</td>\n      <td>2024</td>\n      <td>actress</td>\n    </tr>\n    <tr>\n      <th>30794</th>\n      <td>tt0031348</td>\n      <td>movie</td>\n      <td>Frontier Vengeance</td>\n      <td>Frontier Vengeance</td>\n      <td>0</td>\n      <td>1940</td>\n      <td>1940</td>\n      <td>58</td>\n      <td>[Western]</td>\n      <td>1.0</td>\n      <td>[US]</td>\n      <td>nm0469701</td>\n      <td>Dan Krames</td>\n      <td>1962</td>\n      <td>2024</td>\n      <td>actor,director,writer</td>\n    </tr>\n    <tr>\n      <th>30805</th>\n      <td>tt0031359</td>\n      <td>movie</td>\n      <td>Gaslight</td>\n      <td>Gaslight</td>\n      <td>0</td>\n      <td>1940</td>\n      <td>1940</td>\n      <td>84</td>\n      <td>[Mystery, Thriller]</td>\n      <td>19.0</td>\n      <td>[PL, DE, HU, ES, FR, NL, US, BR, GB, US, SUHH,...</td>\n      <td>nm0131808</td>\n      <td>Joe Camilleri</td>\n      <td>1948</td>\n      <td>2024</td>\n      <td>actor,soundtrack,composer</td>\n    </tr>\n    <tr>\n      <th>30805</th>\n      <td>tt0031359</td>\n      <td>movie</td>\n      <td>Gaslight</td>\n      <td>Gaslight</td>\n      <td>0</td>\n      <td>1940</td>\n      <td>1940</td>\n      <td>84</td>\n      <td>[Mystery, Thriller]</td>\n      <td>19.0</td>\n      <td>[PL, DE, HU, ES, FR, NL, US, BR, GB, US, SUHH,...</td>\n      <td>nm0268426</td>\n      <td>Betty Farrington</td>\n      <td>1898</td>\n      <td>1989</td>\n      <td>actress,soundtrack</td>\n    </tr>\n    <tr>\n      <th>30805</th>\n      <td>tt0031359</td>\n      <td>movie</td>\n      <td>Gaslight</td>\n      <td>Gaslight</td>\n      <td>0</td>\n      <td>1940</td>\n      <td>1940</td>\n      <td>84</td>\n      <td>[Mystery, Thriller]</td>\n      <td>19.0</td>\n      <td>[PL, DE, HU, ES, FR, NL, US, BR, GB, US, SUHH,...</td>\n      <td>nm0619867</td>\n      <td>Marcos Najera</td>\n      <td>1972</td>\n      <td>2024</td>\n      <td>actor,script_department</td>\n    </tr>\n    <tr>\n      <th>30965</th>\n      <td>tt0031522</td>\n      <td>movie</td>\n      <td>Just William</td>\n      <td>Just William</td>\n      <td>0</td>\n      <td>1940</td>\n      <td>1940</td>\n      <td>72</td>\n      <td>[Comedy]</td>\n      <td>2.0</td>\n      <td>[GB, US]</td>\n      <td>nm0270204</td>\n      <td>Jacek Fedorowicz</td>\n      <td>1937</td>\n      <td>2024</td>\n      <td>actor,writer,soundtrack</td>\n    </tr>\n    <tr>\n      <th>30965</th>\n      <td>tt0031522</td>\n      <td>movie</td>\n      <td>Just William</td>\n      <td>Just William</td>\n      <td>0</td>\n      <td>1940</td>\n      <td>1940</td>\n      <td>72</td>\n      <td>[Comedy]</td>\n      <td>2.0</td>\n      <td>[GB, US]</td>\n      <td>nm0609288</td>\n      <td>Isabel Mota</td>\n      <td>1954</td>\n      <td>2024</td>\n      <td>actress</td>\n    </tr>\n  </tbody>\n</table>\n</div>"
     },
     "execution_count": 26,
     "metadata": {},
     "output_type": "execute_result"
    }
   ],
   "source": [
    "actors = actors[actors['knownForTitles'].isin(db.tconst)]\n",
    "actors = actors.rename(columns={'knownForTitles':'tconst'})\n",
    "db = db.join(actors.set_index('tconst'), on='tconst').dropna()\n",
    "del actors\n",
    "db.head(20)"
   ],
   "metadata": {
    "collapsed": false
   }
  },
  {
   "cell_type": "code",
   "execution_count": 27,
   "outputs": [
    {
     "data": {
      "text/plain": "(136261, 16)"
     },
     "execution_count": 27,
     "metadata": {},
     "output_type": "execute_result"
    }
   ],
   "source": [
    "db.shape"
   ],
   "metadata": {
    "collapsed": false
   }
  },
  {
   "cell_type": "code",
   "execution_count": 28,
   "outputs": [],
   "source": [
    "title_ratings = pd.read_csv('db_files/title_ratings.tsv', delimiter='\\t')"
   ],
   "metadata": {
    "collapsed": false
   }
  },
  {
   "cell_type": "code",
   "execution_count": 29,
   "outputs": [],
   "source": [
    "title_ratings = title_ratings.drop(title_ratings[title_ratings['averageRating'] == '\\\\N'].index)\n",
    "title_ratings = title_ratings.drop(title_ratings[title_ratings['numVotes'] == '\\\\N'].index)\n",
    "title_ratings = title_ratings[title_ratings['numVotes'] >= n_reviews]\n",
    "title_ratings = title_ratings[title_ratings['tconst'].isin(db.tconst)]"
   ],
   "metadata": {
    "collapsed": false
   }
  },
  {
   "cell_type": "code",
   "execution_count": 30,
   "outputs": [
    {
     "data": {
      "text/plain": "(55139, 18)"
     },
     "execution_count": 30,
     "metadata": {},
     "output_type": "execute_result"
    }
   ],
   "source": [
    "db = db.merge(title_ratings, on='tconst').dropna()\n",
    "del title_ratings\n",
    "db.shape"
   ],
   "metadata": {
    "collapsed": false
   }
  },
  {
   "cell_type": "markdown",
   "source": [
    "Store the cleaned database"
   ],
   "metadata": {
    "collapsed": false
   }
  },
  {
   "cell_type": "code",
   "execution_count": 31,
   "outputs": [],
   "source": [
    "import numpy as np\n",
    "for index in db.index:\n",
    "    for column in db.columns:\n",
    "        cell_entry = db.loc[index, column]\n",
    "        if (type(cell_entry) == str) | (type(cell_entry) == np.str_) :\n",
    "            db.loc[index, column] = cell_entry.replace('\"', '')\n",
    "            db.loc[index, column] = cell_entry.replace('\\'', '')"
   ],
   "metadata": {
    "collapsed": false
   }
  },
  {
   "cell_type": "code",
   "execution_count": 32,
   "outputs": [],
   "source": [
    "# db = ...\n",
    "os.makedirs('db_clean', exist_ok=True)\n",
    "db.to_csv('db_clean/titles.csv', index=False)"
   ],
   "metadata": {
    "collapsed": false
   }
  }
 ],
 "metadata": {
  "kernelspec": {
   "display_name": "Python 3",
   "language": "python",
   "name": "python3"
  },
  "language_info": {
   "codemirror_mode": {
    "name": "ipython",
    "version": 2
   },
   "file_extension": ".py",
   "mimetype": "text/x-python",
   "name": "python",
   "nbconvert_exporter": "python",
   "pygments_lexer": "ipython2",
   "version": "2.7.6"
  }
 },
 "nbformat": 4,
 "nbformat_minor": 0
}
