{
 "cells": [
  {
   "cell_type": "code",
   "execution_count": 1,
   "metadata": {
    "collapsed": true
   },
   "outputs": [],
   "source": [
    "import pandas as pd\n",
    "import seaborn as sns"
   ]
  },
  {
   "cell_type": "code",
   "execution_count": 2,
   "outputs": [],
   "source": [
    "db = pd.read_csv('db_files/db_cleaned.csv')"
   ],
   "metadata": {
    "collapsed": false
   }
  },
  {
   "cell_type": "code",
   "execution_count": 12,
   "outputs": [
    {
     "data": {
      "text/plain": "       Unnamed: 0     tconst                 primaryTitle  \\\n0           13082  tt0013274  Istoriya grazhdanskoy voyny   \n1           67669  tt0069049   The Other Side of the Wind   \n2           67669  tt0069049   The Other Side of the Wind   \n3           67669  tt0069049   The Other Side of the Wind   \n4           67669  tt0069049   The Other Side of the Wind   \n...           ...        ...                          ...   \n99132     9641066  tt9904004               Your Iron Lady   \n99133     9641066  tt9904004               Your Iron Lady   \n99134     9642107  tt9906284            Patrulha da Noite   \n99135     9645979  tt9914546            Moja Generacija Z   \n99136     9645979  tt9914546            Moja Generacija Z   \n\n                     originalTitle  isAdult  startYear  endYear  \\\n0      Istoriya grazhdanskoy voyny        0       2021     2021   \n1       The Other Side of the Wind        0       2018     2018   \n2       The Other Side of the Wind        0       2018     2018   \n3       The Other Side of the Wind        0       2018     2018   \n4       The Other Side of the Wind        0       2018     2018   \n...                            ...      ...        ...      ...   \n99132               Your Iron Lady        0       2020     2020   \n99133               Your Iron Lady        0       2020     2020   \n99134            Patrulha da Noite        0       2019     2019   \n99135            Moja Generacija Z        0       2019     2019   \n99136            Moja Generacija Z        0       2019     2019   \n\n                    genres  averageRating  numVotes  ordering     pnconst  \\\n0              Documentary            6.6      49.0         3  nm13054604   \n1                    Drama            6.7    7576.0        10   nm0613657   \n2                    Drama            6.7    7576.0        10   nm0613657   \n3                    Drama            6.7    7576.0        10   nm0613657   \n4                    Drama            6.7    7576.0        10   nm0613657   \n...                    ...            ...       ...       ...         ...   \n99132                Drama            8.2      16.0         3   nm4079236   \n99133                Drama            8.2      16.0         4   nm2850234   \n99134               Comedy            7.6      22.0         2   nm2109003   \n99135  Comedy,Drama,Family            4.3     171.0         2  nm10586483   \n99136  Comedy,Drama,Family            4.3     171.0         3   nm7255883   \n\n      pcategory region        types     nconst             primaryName  \\\n0      producer     RU  imdbDisplay  nm0411581        Maia Morgenstern   \n1        editor     AR  imdbDisplay  nm0461150        Cassandra Knight   \n2        editor     AR  imdbDisplay  nm0605245              Kazuo Mori   \n3        editor     AR  imdbDisplay  nm0667188       J. Robert Pauline   \n4        editor     AR  imdbDisplay  nm1095625           Ivan Calbérac   \n...         ...    ...          ...        ...                     ...   \n99132   actress     GB  imdbDisplay  nm1004909  Samantha Elena Roberts   \n99133   actress     US  imdbDisplay  nm1004909  Samantha Elena Roberts   \n99134   actress     PT  imdbDisplay  nm0959962         Hinrik Ólafsson   \n99135     actor     US  imdbDisplay  nm0666343       Patrick Patterson   \n99136     actor     RS  imdbDisplay  nm0666343       Patrick Patterson   \n\n       birthYear  deathYear                             primaryProfession  \n0           1962       2024                                       actress  \n1           1973       2024                                       actress  \n2           1911       1989                   director,assistant_director  \n3           1874       1942                                         actor  \n4           1970       2024                               writer,director  \n...          ...        ...                                           ...  \n99132       1969       2024  editor,sound_department,editorial_department  \n99133       1969       2024  editor,sound_department,editorial_department  \n99134       1963       2024                         actor,producer,writer  \n99135       1934       2022                                         actor  \n99136       1934       2022                                         actor  \n\n[99137 rows x 20 columns]",
      "text/html": "<div>\n<style scoped>\n    .dataframe tbody tr th:only-of-type {\n        vertical-align: middle;\n    }\n\n    .dataframe tbody tr th {\n        vertical-align: top;\n    }\n\n    .dataframe thead th {\n        text-align: right;\n    }\n</style>\n<table border=\"1\" class=\"dataframe\">\n  <thead>\n    <tr style=\"text-align: right;\">\n      <th></th>\n      <th>Unnamed: 0</th>\n      <th>tconst</th>\n      <th>primaryTitle</th>\n      <th>originalTitle</th>\n      <th>isAdult</th>\n      <th>startYear</th>\n      <th>endYear</th>\n      <th>genres</th>\n      <th>averageRating</th>\n      <th>numVotes</th>\n      <th>ordering</th>\n      <th>pnconst</th>\n      <th>pcategory</th>\n      <th>region</th>\n      <th>types</th>\n      <th>nconst</th>\n      <th>primaryName</th>\n      <th>birthYear</th>\n      <th>deathYear</th>\n      <th>primaryProfession</th>\n    </tr>\n  </thead>\n  <tbody>\n    <tr>\n      <th>0</th>\n      <td>13082</td>\n      <td>tt0013274</td>\n      <td>Istoriya grazhdanskoy voyny</td>\n      <td>Istoriya grazhdanskoy voyny</td>\n      <td>0</td>\n      <td>2021</td>\n      <td>2021</td>\n      <td>Documentary</td>\n      <td>6.6</td>\n      <td>49.0</td>\n      <td>3</td>\n      <td>nm13054604</td>\n      <td>producer</td>\n      <td>RU</td>\n      <td>imdbDisplay</td>\n      <td>nm0411581</td>\n      <td>Maia Morgenstern</td>\n      <td>1962</td>\n      <td>2024</td>\n      <td>actress</td>\n    </tr>\n    <tr>\n      <th>1</th>\n      <td>67669</td>\n      <td>tt0069049</td>\n      <td>The Other Side of the Wind</td>\n      <td>The Other Side of the Wind</td>\n      <td>0</td>\n      <td>2018</td>\n      <td>2018</td>\n      <td>Drama</td>\n      <td>6.7</td>\n      <td>7576.0</td>\n      <td>10</td>\n      <td>nm0613657</td>\n      <td>editor</td>\n      <td>AR</td>\n      <td>imdbDisplay</td>\n      <td>nm0461150</td>\n      <td>Cassandra Knight</td>\n      <td>1973</td>\n      <td>2024</td>\n      <td>actress</td>\n    </tr>\n    <tr>\n      <th>2</th>\n      <td>67669</td>\n      <td>tt0069049</td>\n      <td>The Other Side of the Wind</td>\n      <td>The Other Side of the Wind</td>\n      <td>0</td>\n      <td>2018</td>\n      <td>2018</td>\n      <td>Drama</td>\n      <td>6.7</td>\n      <td>7576.0</td>\n      <td>10</td>\n      <td>nm0613657</td>\n      <td>editor</td>\n      <td>AR</td>\n      <td>imdbDisplay</td>\n      <td>nm0605245</td>\n      <td>Kazuo Mori</td>\n      <td>1911</td>\n      <td>1989</td>\n      <td>director,assistant_director</td>\n    </tr>\n    <tr>\n      <th>3</th>\n      <td>67669</td>\n      <td>tt0069049</td>\n      <td>The Other Side of the Wind</td>\n      <td>The Other Side of the Wind</td>\n      <td>0</td>\n      <td>2018</td>\n      <td>2018</td>\n      <td>Drama</td>\n      <td>6.7</td>\n      <td>7576.0</td>\n      <td>10</td>\n      <td>nm0613657</td>\n      <td>editor</td>\n      <td>AR</td>\n      <td>imdbDisplay</td>\n      <td>nm0667188</td>\n      <td>J. Robert Pauline</td>\n      <td>1874</td>\n      <td>1942</td>\n      <td>actor</td>\n    </tr>\n    <tr>\n      <th>4</th>\n      <td>67669</td>\n      <td>tt0069049</td>\n      <td>The Other Side of the Wind</td>\n      <td>The Other Side of the Wind</td>\n      <td>0</td>\n      <td>2018</td>\n      <td>2018</td>\n      <td>Drama</td>\n      <td>6.7</td>\n      <td>7576.0</td>\n      <td>10</td>\n      <td>nm0613657</td>\n      <td>editor</td>\n      <td>AR</td>\n      <td>imdbDisplay</td>\n      <td>nm1095625</td>\n      <td>Ivan Calbérac</td>\n      <td>1970</td>\n      <td>2024</td>\n      <td>writer,director</td>\n    </tr>\n    <tr>\n      <th>...</th>\n      <td>...</td>\n      <td>...</td>\n      <td>...</td>\n      <td>...</td>\n      <td>...</td>\n      <td>...</td>\n      <td>...</td>\n      <td>...</td>\n      <td>...</td>\n      <td>...</td>\n      <td>...</td>\n      <td>...</td>\n      <td>...</td>\n      <td>...</td>\n      <td>...</td>\n      <td>...</td>\n      <td>...</td>\n      <td>...</td>\n      <td>...</td>\n      <td>...</td>\n    </tr>\n    <tr>\n      <th>99132</th>\n      <td>9641066</td>\n      <td>tt9904004</td>\n      <td>Your Iron Lady</td>\n      <td>Your Iron Lady</td>\n      <td>0</td>\n      <td>2020</td>\n      <td>2020</td>\n      <td>Drama</td>\n      <td>8.2</td>\n      <td>16.0</td>\n      <td>3</td>\n      <td>nm4079236</td>\n      <td>actress</td>\n      <td>GB</td>\n      <td>imdbDisplay</td>\n      <td>nm1004909</td>\n      <td>Samantha Elena Roberts</td>\n      <td>1969</td>\n      <td>2024</td>\n      <td>editor,sound_department,editorial_department</td>\n    </tr>\n    <tr>\n      <th>99133</th>\n      <td>9641066</td>\n      <td>tt9904004</td>\n      <td>Your Iron Lady</td>\n      <td>Your Iron Lady</td>\n      <td>0</td>\n      <td>2020</td>\n      <td>2020</td>\n      <td>Drama</td>\n      <td>8.2</td>\n      <td>16.0</td>\n      <td>4</td>\n      <td>nm2850234</td>\n      <td>actress</td>\n      <td>US</td>\n      <td>imdbDisplay</td>\n      <td>nm1004909</td>\n      <td>Samantha Elena Roberts</td>\n      <td>1969</td>\n      <td>2024</td>\n      <td>editor,sound_department,editorial_department</td>\n    </tr>\n    <tr>\n      <th>99134</th>\n      <td>9642107</td>\n      <td>tt9906284</td>\n      <td>Patrulha da Noite</td>\n      <td>Patrulha da Noite</td>\n      <td>0</td>\n      <td>2019</td>\n      <td>2019</td>\n      <td>Comedy</td>\n      <td>7.6</td>\n      <td>22.0</td>\n      <td>2</td>\n      <td>nm2109003</td>\n      <td>actress</td>\n      <td>PT</td>\n      <td>imdbDisplay</td>\n      <td>nm0959962</td>\n      <td>Hinrik Ólafsson</td>\n      <td>1963</td>\n      <td>2024</td>\n      <td>actor,producer,writer</td>\n    </tr>\n    <tr>\n      <th>99135</th>\n      <td>9645979</td>\n      <td>tt9914546</td>\n      <td>Moja Generacija Z</td>\n      <td>Moja Generacija Z</td>\n      <td>0</td>\n      <td>2019</td>\n      <td>2019</td>\n      <td>Comedy,Drama,Family</td>\n      <td>4.3</td>\n      <td>171.0</td>\n      <td>2</td>\n      <td>nm10586483</td>\n      <td>actor</td>\n      <td>US</td>\n      <td>imdbDisplay</td>\n      <td>nm0666343</td>\n      <td>Patrick Patterson</td>\n      <td>1934</td>\n      <td>2022</td>\n      <td>actor</td>\n    </tr>\n    <tr>\n      <th>99136</th>\n      <td>9645979</td>\n      <td>tt9914546</td>\n      <td>Moja Generacija Z</td>\n      <td>Moja Generacija Z</td>\n      <td>0</td>\n      <td>2019</td>\n      <td>2019</td>\n      <td>Comedy,Drama,Family</td>\n      <td>4.3</td>\n      <td>171.0</td>\n      <td>3</td>\n      <td>nm7255883</td>\n      <td>actor</td>\n      <td>RS</td>\n      <td>imdbDisplay</td>\n      <td>nm0666343</td>\n      <td>Patrick Patterson</td>\n      <td>1934</td>\n      <td>2022</td>\n      <td>actor</td>\n    </tr>\n  </tbody>\n</table>\n<p>99137 rows × 20 columns</p>\n</div>"
     },
     "execution_count": 12,
     "metadata": {},
     "output_type": "execute_result"
    }
   ],
   "source": [
    "db.head(10)\n",
    "db"
   ],
   "metadata": {
    "collapsed": false
   }
  },
  {
   "cell_type": "code",
   "execution_count": 19,
   "outputs": [
    {
     "data": {
      "text/plain": "Unnamed: 0           0\ntconst               0\nprimaryTitle         0\noriginalTitle        0\nisAdult              0\nstartYear            0\nendYear              0\ngenres               0\naverageRating        0\nnumVotes             0\nordering             0\npnconst              0\npcategory            0\nregion               0\ntypes                0\nnconst               0\nprimaryName          0\nbirthYear            0\ndeathYear            0\nprimaryProfession    0\ndtype: int64"
     },
     "execution_count": 19,
     "metadata": {},
     "output_type": "execute_result"
    }
   ],
   "source": [
    "db[db.isnull()].count()\n",
    "\n"
   ],
   "metadata": {
    "collapsed": false
   }
  }
 ],
 "metadata": {
  "kernelspec": {
   "display_name": "Python 3",
   "language": "python",
   "name": "python3"
  },
  "language_info": {
   "codemirror_mode": {
    "name": "ipython",
    "version": 2
   },
   "file_extension": ".py",
   "mimetype": "text/x-python",
   "name": "python",
   "nbconvert_exporter": "python",
   "pygments_lexer": "ipython2",
   "version": "2.7.6"
  }
 },
 "nbformat": 4,
 "nbformat_minor": 0
}
