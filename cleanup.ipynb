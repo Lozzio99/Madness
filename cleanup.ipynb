{
 "cells": [
  {
   "cell_type": "code",
   "execution_count": 90,
   "outputs": [],
   "source": [
    "import pandas as pd\n",
    "import os"
   ],
   "metadata": {
    "collapsed": false
   }
  },
  {
   "cell_type": "code",
   "execution_count": 91,
   "outputs": [],
   "source": [
    "def clear_columns(data, columns):\n",
    "    for c in columns:\n",
    "        mask1 = data[c] == '\\\\N'\n",
    "        mask2 = data[c].isnull()\n",
    "        data = data.drop(index=(data[mask1 | mask2]).index)\n",
    "    return data"
   ],
   "metadata": {
    "collapsed": false
   }
  },
  {
   "cell_type": "code",
   "execution_count": 92,
   "outputs": [
    {
     "name": "stderr",
     "output_type": "stream",
     "text": [
      "C:\\Users\\Lorenzo\\AppData\\Local\\Temp\\ipykernel_24308\\2788150849.py:1: DtypeWarning: Columns (4) have mixed types. Specify dtype option on import or set low_memory=False.\n",
      "  title_basic = pd.read_table(\"db_files/title_basic.tsv\")\n"
     ]
    }
   ],
   "source": [
    "title_basic = pd.read_table(\"db_files/title_basic.tsv\")"
   ],
   "metadata": {
    "collapsed": false
   }
  },
  {
   "cell_type": "code",
   "execution_count": 93,
   "outputs": [
    {
     "data": {
      "text/plain": "           tconst  titleType  primaryTitle originalTitle  isAdult startYear  \\\ncount     7984543    7984543       7984543       7984543  7984543   7984543   \nunique    7984543         10       4045099       4065373        4       152   \ntop     tt0000001  tvEpisode  Episode #1.1  Episode #1.1        0      2021   \nfreq            1    5914731         40375         40375  7645168    434869   \n\n        endYear runtimeMinutes   genres  \ncount   7984543        7984543  7984543  \nunique       95            866     2310  \ntop          \\N             \\N    Drama  \nfreq    7886945        5390302   769675  ",
      "text/html": "<div>\n<style scoped>\n    .dataframe tbody tr th:only-of-type {\n        vertical-align: middle;\n    }\n\n    .dataframe tbody tr th {\n        vertical-align: top;\n    }\n\n    .dataframe thead th {\n        text-align: right;\n    }\n</style>\n<table border=\"1\" class=\"dataframe\">\n  <thead>\n    <tr style=\"text-align: right;\">\n      <th></th>\n      <th>tconst</th>\n      <th>titleType</th>\n      <th>primaryTitle</th>\n      <th>originalTitle</th>\n      <th>isAdult</th>\n      <th>startYear</th>\n      <th>endYear</th>\n      <th>runtimeMinutes</th>\n      <th>genres</th>\n    </tr>\n  </thead>\n  <tbody>\n    <tr>\n      <th>count</th>\n      <td>7984543</td>\n      <td>7984543</td>\n      <td>7984543</td>\n      <td>7984543</td>\n      <td>7984543</td>\n      <td>7984543</td>\n      <td>7984543</td>\n      <td>7984543</td>\n      <td>7984543</td>\n    </tr>\n    <tr>\n      <th>unique</th>\n      <td>7984543</td>\n      <td>10</td>\n      <td>4045099</td>\n      <td>4065373</td>\n      <td>4</td>\n      <td>152</td>\n      <td>95</td>\n      <td>866</td>\n      <td>2310</td>\n    </tr>\n    <tr>\n      <th>top</th>\n      <td>tt0000001</td>\n      <td>tvEpisode</td>\n      <td>Episode #1.1</td>\n      <td>Episode #1.1</td>\n      <td>0</td>\n      <td>2021</td>\n      <td>\\N</td>\n      <td>\\N</td>\n      <td>Drama</td>\n    </tr>\n    <tr>\n      <th>freq</th>\n      <td>1</td>\n      <td>5914731</td>\n      <td>40375</td>\n      <td>40375</td>\n      <td>7645168</td>\n      <td>434869</td>\n      <td>7886945</td>\n      <td>5390302</td>\n      <td>769675</td>\n    </tr>\n  </tbody>\n</table>\n</div>"
     },
     "execution_count": 93,
     "metadata": {},
     "output_type": "execute_result"
    }
   ],
   "source": [
    "title_basic = clear_columns(title_basic, title_basic.columns.drop(['endYear','runtimeMinutes']))\n",
    "title_basic.describe()"
   ],
   "metadata": {
    "collapsed": false
   }
  },
  {
   "cell_type": "code",
   "execution_count": 94,
   "outputs": [
    {
     "data": {
      "text/plain": "(3244783, 7)"
     },
     "execution_count": 94,
     "metadata": {},
     "output_type": "execute_result"
    }
   ],
   "source": [
    "title_basic.startYear = title_basic.startYear.apply(int)\n",
    "title_basic = title_basic[title_basic.startYear >= 2015]\n",
    "\n",
    "title_basic['endYear'] = title_basic.apply(\n",
    "    lambda row:row['startYear'] if row['endYear'] == '\\\\N' else int(row['endYear']), axis=1\n",
    ")\n",
    "\n",
    "title_basic['runtimeMinutes'] = title_basic.apply(\n",
    "    lambda row: 0 if row['runtimeMinutes'] == '\\\\N' else row['runtimeMinutes'], axis=1\n",
    ")\n",
    "title_basic = title_basic[['tconst','primaryTitle','originalTitle','isAdult','startYear','endYear','genres']]\n",
    "title_basic.shape"
   ],
   "metadata": {
    "collapsed": false
   }
  },
  {
   "cell_type": "code",
   "execution_count": 95,
   "outputs": [],
   "source": [
    "title_ratings = pd.read_table(\"db_files/title_ratings.tsv\")\n",
    "df = title_basic.join(title_ratings.set_index('tconst'), on='tconst').dropna()"
   ],
   "metadata": {
    "collapsed": false
   }
  },
  {
   "cell_type": "code",
   "execution_count": 96,
   "outputs": [
    {
     "data": {
      "text/plain": "(426928, 9)"
     },
     "execution_count": 96,
     "metadata": {},
     "output_type": "execute_result"
    }
   ],
   "source": [
    "df.head(50)\n",
    "len(df.index) - df.count()\n",
    "df.shape"
   ],
   "metadata": {
    "collapsed": false
   }
  },
  {
   "cell_type": "code",
   "execution_count": 97,
   "outputs": [],
   "source": [
    "title_principals = pd.read_table(\"db_files/title_principals.tsv\")\n",
    "title_principals = title_principals.drop(columns=['job', 'characters'])\n",
    "title_principals = title_principals.rename(columns={'nconst':'pnconst', 'category':'pcategory'})\n",
    "title_principals = clear_columns(title_principals, title_principals.columns)"
   ],
   "metadata": {
    "collapsed": false
   }
  },
  {
   "cell_type": "code",
   "execution_count": 98,
   "outputs": [],
   "source": [
    "title_principals = title_principals[title_principals.tconst.isin(df.tconst)]"
   ],
   "metadata": {
    "collapsed": false
   }
  },
  {
   "cell_type": "code",
   "execution_count": 99,
   "outputs": [
    {
     "data": {
      "text/plain": "           tconst                                       primaryTitle  \\\n13082   tt0013274                        Istoriya grazhdanskoy voyny   \n13082   tt0013274                        Istoriya grazhdanskoy voyny   \n13082   tt0013274                        Istoriya grazhdanskoy voyny   \n34617   tt0035235                                     Radio Dynamics   \n39545   tt0040241                                    Color Rhapsodie   \n39545   tt0040241                                    Color Rhapsodie   \n43548   tt0044326                                          Abstronic   \n43548   tt0044326                                          Abstronic   \n44090   tt0044879                                            Mandala   \n55758   tt0056840                                           Aufsätze   \n55758   tt0056840                                           Aufsätze   \n55758   tt0056840                                           Aufsätze   \n59203   tt0060361                                           EMS nr 1   \n61116   tt0062336  The Tango of the Widower and Its Distorting Mi...   \n61116   tt0062336  The Tango of the Widower and Its Distorting Mi...   \n61116   tt0062336  The Tango of the Widower and Its Distorting Mi...   \n61116   tt0062336  The Tango of the Widower and Its Distorting Mi...   \n61116   tt0062336  The Tango of the Widower and Its Distorting Mi...   \n61116   tt0062336  The Tango of the Widower and Its Distorting Mi...   \n61116   tt0062336  The Tango of the Widower and Its Distorting Mi...   \n61116   tt0062336  The Tango of the Widower and Its Distorting Mi...   \n61116   tt0062336  The Tango of the Widower and Its Distorting Mi...   \n61116   tt0062336  The Tango of the Widower and Its Distorting Mi...   \n67669   tt0069049                         The Other Side of the Wind   \n67669   tt0069049                         The Other Side of the Wind   \n67669   tt0069049                         The Other Side of the Wind   \n67669   tt0069049                         The Other Side of the Wind   \n67669   tt0069049                         The Other Side of the Wind   \n67669   tt0069049                         The Other Side of the Wind   \n67669   tt0069049                         The Other Side of the Wind   \n67669   tt0069049                         The Other Side of the Wind   \n67669   tt0069049                         The Other Side of the Wind   \n67669   tt0069049                         The Other Side of the Wind   \n87471   tt0089435                                              Kokoa   \n87471   tt0089435                                              Kokoa   \n87471   tt0089435                                              Kokoa   \n87471   tt0089435                                              Kokoa   \n98043   tt0100275                           The Wandering Soap Opera   \n98043   tt0100275                           The Wandering Soap Opera   \n98043   tt0100275                           The Wandering Soap Opera   \n98043   tt0100275                           The Wandering Soap Opera   \n98043   tt0100275                           The Wandering Soap Opera   \n98043   tt0100275                           The Wandering Soap Opera   \n98043   tt0100275                           The Wandering Soap Opera   \n98043   tt0100275                           The Wandering Soap Opera   \n98043   tt0100275                           The Wandering Soap Opera   \n98043   tt0100275                           The Wandering Soap Opera   \n102656  tt0104988                                 Neues in Wittstock   \n107671  tt0110152  The History of the World Episode 16 the Invent...   \n109087  tt0111596                                              Vazir   \n\n                                            originalTitle isAdult  startYear  \\\n13082                         Istoriya grazhdanskoy voyny       0       2021   \n13082                         Istoriya grazhdanskoy voyny       0       2021   \n13082                         Istoriya grazhdanskoy voyny       0       2021   \n34617                                      Radio Dynamics       0       2016   \n39545                                     Color Rhapsodie       0       2021   \n39545                                     Color Rhapsodie       0       2021   \n43548                                           Abstronic       0       2021   \n43548                                           Abstronic       0       2021   \n44090                                             Mandala       0       2021   \n55758                                            Aufsätze       0       2021   \n55758                                            Aufsätze       0       2021   \n55758                                            Aufsätze       0       2021   \n59203                                            EMS nr 1       0       2016   \n61116           El tango del viudo y su espejo deformante       0       2020   \n61116           El tango del viudo y su espejo deformante       0       2020   \n61116           El tango del viudo y su espejo deformante       0       2020   \n61116           El tango del viudo y su espejo deformante       0       2020   \n61116           El tango del viudo y su espejo deformante       0       2020   \n61116           El tango del viudo y su espejo deformante       0       2020   \n61116           El tango del viudo y su espejo deformante       0       2020   \n61116           El tango del viudo y su espejo deformante       0       2020   \n61116           El tango del viudo y su espejo deformante       0       2020   \n61116           El tango del viudo y su espejo deformante       0       2020   \n67669                          The Other Side of the Wind       0       2018   \n67669                          The Other Side of the Wind       0       2018   \n67669                          The Other Side of the Wind       0       2018   \n67669                          The Other Side of the Wind       0       2018   \n67669                          The Other Side of the Wind       0       2018   \n67669                          The Other Side of the Wind       0       2018   \n67669                          The Other Side of the Wind       0       2018   \n67669                          The Other Side of the Wind       0       2018   \n67669                          The Other Side of the Wind       0       2018   \n67669                          The Other Side of the Wind       0       2018   \n87471                                               Kokoa       0       2019   \n87471                                               Kokoa       0       2019   \n87471                                               Kokoa       0       2019   \n87471                                               Kokoa       0       2019   \n98043                               La telenovela errante       0       2017   \n98043                               La telenovela errante       0       2017   \n98043                               La telenovela errante       0       2017   \n98043                               La telenovela errante       0       2017   \n98043                               La telenovela errante       0       2017   \n98043                               La telenovela errante       0       2017   \n98043                               La telenovela errante       0       2017   \n98043                               La telenovela errante       0       2017   \n98043                               La telenovela errante       0       2017   \n98043                               La telenovela errante       0       2017   \n102656                                 Neues in Wittstock       0       2021   \n107671  The History of the World Episode 16 the Invent...       0       2016   \n109087                                              Vazir       0       2015   \n\n        endYear                genres  averageRating  numVotes  ordering  \\\n13082      2021           Documentary            6.6      49.0       1.0   \n13082      2021           Documentary            6.6      49.0       2.0   \n13082      2021           Documentary            6.6      49.0       3.0   \n34617      2016                 Short            7.0     107.0       1.0   \n39545      2021                 Short            7.7      16.0       1.0   \n39545      2021                 Short            7.7      16.0       2.0   \n43548      2021                 Short            6.8      75.0       1.0   \n43548      2021                 Short            6.8      75.0       2.0   \n44090      2021                 Short            6.4      18.0       1.0   \n55758      2021                 Short            6.8      95.0       1.0   \n55758      2021                 Short            6.8      95.0       2.0   \n55758      2021                 Short            6.8      95.0       3.0   \n59203      2016                 Short            6.5       6.0       1.0   \n61116      2020                 Drama            6.4     167.0      10.0   \n61116      2020                 Drama            6.4     167.0       1.0   \n61116      2020                 Drama            6.4     167.0       2.0   \n61116      2020                 Drama            6.4     167.0       3.0   \n61116      2020                 Drama            6.4     167.0       4.0   \n61116      2020                 Drama            6.4     167.0       5.0   \n61116      2020                 Drama            6.4     167.0       6.0   \n61116      2020                 Drama            6.4     167.0       7.0   \n61116      2020                 Drama            6.4     167.0       8.0   \n61116      2020                 Drama            6.4     167.0       9.0   \n67669      2018                 Drama            6.7    7576.0      10.0   \n67669      2018                 Drama            6.7    7576.0       1.0   \n67669      2018                 Drama            6.7    7576.0       2.0   \n67669      2018                 Drama            6.7    7576.0       3.0   \n67669      2018                 Drama            6.7    7576.0       4.0   \n67669      2018                 Drama            6.7    7576.0       5.0   \n67669      2018                 Drama            6.7    7576.0       6.0   \n67669      2018                 Drama            6.7    7576.0       7.0   \n67669      2018                 Drama            6.7    7576.0       8.0   \n67669      2018                 Drama            6.7    7576.0       9.0   \n87471      2019       Animation,Short            6.2      18.0       1.0   \n87471      2019       Animation,Short            6.2      18.0       2.0   \n87471      2019       Animation,Short            6.2      18.0       3.0   \n87471      2019       Animation,Short            6.2      18.0       4.0   \n98043      2017  Comedy,Drama,Fantasy            6.5     342.0      10.0   \n98043      2017  Comedy,Drama,Fantasy            6.5     342.0       1.0   \n98043      2017  Comedy,Drama,Fantasy            6.5     342.0       2.0   \n98043      2017  Comedy,Drama,Fantasy            6.5     342.0       3.0   \n98043      2017  Comedy,Drama,Fantasy            6.5     342.0       4.0   \n98043      2017  Comedy,Drama,Fantasy            6.5     342.0       5.0   \n98043      2017  Comedy,Drama,Fantasy            6.5     342.0       6.0   \n98043      2017  Comedy,Drama,Fantasy            6.5     342.0       7.0   \n98043      2017  Comedy,Drama,Fantasy            6.5     342.0       8.0   \n98043      2017  Comedy,Drama,Fantasy            6.5     342.0       9.0   \n102656     2021           Documentary            8.4       8.0       1.0   \n107671     2016                 Short            6.7      78.0       1.0   \n109087     2015    Action,Crime,Drama            8.1      63.0      10.0   \n\n           pnconst        pcategory  \n13082    nm0412842         director  \n13082    nm0895048         director  \n13082   nm13054604         producer  \n34617    nm0279202         director  \n39545    nm0124722         director  \n39545    nm0625934         director  \n43548    nm0124722         director  \n43548    nm0625934         director  \n44090    nm0069548         director  \n55758    nm0626561         director  \n55758    nm1600844           writer  \n55758    nm1600304           writer  \n59203    nm0526609         director  \n61116    nm0093680  cinematographer  \n61116    nm0815612            actor  \n61116    nm1860495          actress  \n61116    nm0016013            actor  \n61116    nm0739834          actress  \n61116    nm0749914         director  \n61116    nm0765384         director  \n61116    nm1146177           writer  \n61116    nm1131208         producer  \n61116    nm0005948         composer  \n67669    nm0613657           editor  \n67669    nm0001379            actor  \n67669    nm0462648          actress  \n67669    nm0000953            actor  \n67669    nm0001782          actress  \n67669    nm0000080         director  \n67669    nm0550881         producer  \n67669    nm1475059         producer  \n67669    nm0006166         composer  \n67669    nm0004372  cinematographer  \n87471    nm0016087         director  \n87471    nm0372793           editor  \n87471   nm11717321           editor  \n87471    nm1031416           editor  \n98043    nm0005948         composer  \n98043    nm0016013            actor  \n98043    nm0728971          actress  \n98043    nm0721280            actor  \n98043    nm1415193          actress  \n98043    nm0749914         director  \n98043    nm0765384         director  \n98043    nm1360635           writer  \n98043    nm0462571         producer  \n98043    nm1856792         producer  \n102656   nm0462899         director  \n107671   nm0612465         director  \n109087   nm1105618           editor  ",
      "text/html": "<div>\n<style scoped>\n    .dataframe tbody tr th:only-of-type {\n        vertical-align: middle;\n    }\n\n    .dataframe tbody tr th {\n        vertical-align: top;\n    }\n\n    .dataframe thead th {\n        text-align: right;\n    }\n</style>\n<table border=\"1\" class=\"dataframe\">\n  <thead>\n    <tr style=\"text-align: right;\">\n      <th></th>\n      <th>tconst</th>\n      <th>primaryTitle</th>\n      <th>originalTitle</th>\n      <th>isAdult</th>\n      <th>startYear</th>\n      <th>endYear</th>\n      <th>genres</th>\n      <th>averageRating</th>\n      <th>numVotes</th>\n      <th>ordering</th>\n      <th>pnconst</th>\n      <th>pcategory</th>\n    </tr>\n  </thead>\n  <tbody>\n    <tr>\n      <th>13082</th>\n      <td>tt0013274</td>\n      <td>Istoriya grazhdanskoy voyny</td>\n      <td>Istoriya grazhdanskoy voyny</td>\n      <td>0</td>\n      <td>2021</td>\n      <td>2021</td>\n      <td>Documentary</td>\n      <td>6.6</td>\n      <td>49.0</td>\n      <td>1.0</td>\n      <td>nm0412842</td>\n      <td>director</td>\n    </tr>\n    <tr>\n      <th>13082</th>\n      <td>tt0013274</td>\n      <td>Istoriya grazhdanskoy voyny</td>\n      <td>Istoriya grazhdanskoy voyny</td>\n      <td>0</td>\n      <td>2021</td>\n      <td>2021</td>\n      <td>Documentary</td>\n      <td>6.6</td>\n      <td>49.0</td>\n      <td>2.0</td>\n      <td>nm0895048</td>\n      <td>director</td>\n    </tr>\n    <tr>\n      <th>13082</th>\n      <td>tt0013274</td>\n      <td>Istoriya grazhdanskoy voyny</td>\n      <td>Istoriya grazhdanskoy voyny</td>\n      <td>0</td>\n      <td>2021</td>\n      <td>2021</td>\n      <td>Documentary</td>\n      <td>6.6</td>\n      <td>49.0</td>\n      <td>3.0</td>\n      <td>nm13054604</td>\n      <td>producer</td>\n    </tr>\n    <tr>\n      <th>34617</th>\n      <td>tt0035235</td>\n      <td>Radio Dynamics</td>\n      <td>Radio Dynamics</td>\n      <td>0</td>\n      <td>2016</td>\n      <td>2016</td>\n      <td>Short</td>\n      <td>7.0</td>\n      <td>107.0</td>\n      <td>1.0</td>\n      <td>nm0279202</td>\n      <td>director</td>\n    </tr>\n    <tr>\n      <th>39545</th>\n      <td>tt0040241</td>\n      <td>Color Rhapsodie</td>\n      <td>Color Rhapsodie</td>\n      <td>0</td>\n      <td>2021</td>\n      <td>2021</td>\n      <td>Short</td>\n      <td>7.7</td>\n      <td>16.0</td>\n      <td>1.0</td>\n      <td>nm0124722</td>\n      <td>director</td>\n    </tr>\n    <tr>\n      <th>39545</th>\n      <td>tt0040241</td>\n      <td>Color Rhapsodie</td>\n      <td>Color Rhapsodie</td>\n      <td>0</td>\n      <td>2021</td>\n      <td>2021</td>\n      <td>Short</td>\n      <td>7.7</td>\n      <td>16.0</td>\n      <td>2.0</td>\n      <td>nm0625934</td>\n      <td>director</td>\n    </tr>\n    <tr>\n      <th>43548</th>\n      <td>tt0044326</td>\n      <td>Abstronic</td>\n      <td>Abstronic</td>\n      <td>0</td>\n      <td>2021</td>\n      <td>2021</td>\n      <td>Short</td>\n      <td>6.8</td>\n      <td>75.0</td>\n      <td>1.0</td>\n      <td>nm0124722</td>\n      <td>director</td>\n    </tr>\n    <tr>\n      <th>43548</th>\n      <td>tt0044326</td>\n      <td>Abstronic</td>\n      <td>Abstronic</td>\n      <td>0</td>\n      <td>2021</td>\n      <td>2021</td>\n      <td>Short</td>\n      <td>6.8</td>\n      <td>75.0</td>\n      <td>2.0</td>\n      <td>nm0625934</td>\n      <td>director</td>\n    </tr>\n    <tr>\n      <th>44090</th>\n      <td>tt0044879</td>\n      <td>Mandala</td>\n      <td>Mandala</td>\n      <td>0</td>\n      <td>2021</td>\n      <td>2021</td>\n      <td>Short</td>\n      <td>6.4</td>\n      <td>18.0</td>\n      <td>1.0</td>\n      <td>nm0069548</td>\n      <td>director</td>\n    </tr>\n    <tr>\n      <th>55758</th>\n      <td>tt0056840</td>\n      <td>Aufsätze</td>\n      <td>Aufsätze</td>\n      <td>0</td>\n      <td>2021</td>\n      <td>2021</td>\n      <td>Short</td>\n      <td>6.8</td>\n      <td>95.0</td>\n      <td>1.0</td>\n      <td>nm0626561</td>\n      <td>director</td>\n    </tr>\n    <tr>\n      <th>55758</th>\n      <td>tt0056840</td>\n      <td>Aufsätze</td>\n      <td>Aufsätze</td>\n      <td>0</td>\n      <td>2021</td>\n      <td>2021</td>\n      <td>Short</td>\n      <td>6.8</td>\n      <td>95.0</td>\n      <td>2.0</td>\n      <td>nm1600844</td>\n      <td>writer</td>\n    </tr>\n    <tr>\n      <th>55758</th>\n      <td>tt0056840</td>\n      <td>Aufsätze</td>\n      <td>Aufsätze</td>\n      <td>0</td>\n      <td>2021</td>\n      <td>2021</td>\n      <td>Short</td>\n      <td>6.8</td>\n      <td>95.0</td>\n      <td>3.0</td>\n      <td>nm1600304</td>\n      <td>writer</td>\n    </tr>\n    <tr>\n      <th>59203</th>\n      <td>tt0060361</td>\n      <td>EMS nr 1</td>\n      <td>EMS nr 1</td>\n      <td>0</td>\n      <td>2016</td>\n      <td>2016</td>\n      <td>Short</td>\n      <td>6.5</td>\n      <td>6.0</td>\n      <td>1.0</td>\n      <td>nm0526609</td>\n      <td>director</td>\n    </tr>\n    <tr>\n      <th>61116</th>\n      <td>tt0062336</td>\n      <td>The Tango of the Widower and Its Distorting Mi...</td>\n      <td>El tango del viudo y su espejo deformante</td>\n      <td>0</td>\n      <td>2020</td>\n      <td>2020</td>\n      <td>Drama</td>\n      <td>6.4</td>\n      <td>167.0</td>\n      <td>10.0</td>\n      <td>nm0093680</td>\n      <td>cinematographer</td>\n    </tr>\n    <tr>\n      <th>61116</th>\n      <td>tt0062336</td>\n      <td>The Tango of the Widower and Its Distorting Mi...</td>\n      <td>El tango del viudo y su espejo deformante</td>\n      <td>0</td>\n      <td>2020</td>\n      <td>2020</td>\n      <td>Drama</td>\n      <td>6.4</td>\n      <td>167.0</td>\n      <td>1.0</td>\n      <td>nm0815612</td>\n      <td>actor</td>\n    </tr>\n    <tr>\n      <th>61116</th>\n      <td>tt0062336</td>\n      <td>The Tango of the Widower and Its Distorting Mi...</td>\n      <td>El tango del viudo y su espejo deformante</td>\n      <td>0</td>\n      <td>2020</td>\n      <td>2020</td>\n      <td>Drama</td>\n      <td>6.4</td>\n      <td>167.0</td>\n      <td>2.0</td>\n      <td>nm1860495</td>\n      <td>actress</td>\n    </tr>\n    <tr>\n      <th>61116</th>\n      <td>tt0062336</td>\n      <td>The Tango of the Widower and Its Distorting Mi...</td>\n      <td>El tango del viudo y su espejo deformante</td>\n      <td>0</td>\n      <td>2020</td>\n      <td>2020</td>\n      <td>Drama</td>\n      <td>6.4</td>\n      <td>167.0</td>\n      <td>3.0</td>\n      <td>nm0016013</td>\n      <td>actor</td>\n    </tr>\n    <tr>\n      <th>61116</th>\n      <td>tt0062336</td>\n      <td>The Tango of the Widower and Its Distorting Mi...</td>\n      <td>El tango del viudo y su espejo deformante</td>\n      <td>0</td>\n      <td>2020</td>\n      <td>2020</td>\n      <td>Drama</td>\n      <td>6.4</td>\n      <td>167.0</td>\n      <td>4.0</td>\n      <td>nm0739834</td>\n      <td>actress</td>\n    </tr>\n    <tr>\n      <th>61116</th>\n      <td>tt0062336</td>\n      <td>The Tango of the Widower and Its Distorting Mi...</td>\n      <td>El tango del viudo y su espejo deformante</td>\n      <td>0</td>\n      <td>2020</td>\n      <td>2020</td>\n      <td>Drama</td>\n      <td>6.4</td>\n      <td>167.0</td>\n      <td>5.0</td>\n      <td>nm0749914</td>\n      <td>director</td>\n    </tr>\n    <tr>\n      <th>61116</th>\n      <td>tt0062336</td>\n      <td>The Tango of the Widower and Its Distorting Mi...</td>\n      <td>El tango del viudo y su espejo deformante</td>\n      <td>0</td>\n      <td>2020</td>\n      <td>2020</td>\n      <td>Drama</td>\n      <td>6.4</td>\n      <td>167.0</td>\n      <td>6.0</td>\n      <td>nm0765384</td>\n      <td>director</td>\n    </tr>\n    <tr>\n      <th>61116</th>\n      <td>tt0062336</td>\n      <td>The Tango of the Widower and Its Distorting Mi...</td>\n      <td>El tango del viudo y su espejo deformante</td>\n      <td>0</td>\n      <td>2020</td>\n      <td>2020</td>\n      <td>Drama</td>\n      <td>6.4</td>\n      <td>167.0</td>\n      <td>7.0</td>\n      <td>nm1146177</td>\n      <td>writer</td>\n    </tr>\n    <tr>\n      <th>61116</th>\n      <td>tt0062336</td>\n      <td>The Tango of the Widower and Its Distorting Mi...</td>\n      <td>El tango del viudo y su espejo deformante</td>\n      <td>0</td>\n      <td>2020</td>\n      <td>2020</td>\n      <td>Drama</td>\n      <td>6.4</td>\n      <td>167.0</td>\n      <td>8.0</td>\n      <td>nm1131208</td>\n      <td>producer</td>\n    </tr>\n    <tr>\n      <th>61116</th>\n      <td>tt0062336</td>\n      <td>The Tango of the Widower and Its Distorting Mi...</td>\n      <td>El tango del viudo y su espejo deformante</td>\n      <td>0</td>\n      <td>2020</td>\n      <td>2020</td>\n      <td>Drama</td>\n      <td>6.4</td>\n      <td>167.0</td>\n      <td>9.0</td>\n      <td>nm0005948</td>\n      <td>composer</td>\n    </tr>\n    <tr>\n      <th>67669</th>\n      <td>tt0069049</td>\n      <td>The Other Side of the Wind</td>\n      <td>The Other Side of the Wind</td>\n      <td>0</td>\n      <td>2018</td>\n      <td>2018</td>\n      <td>Drama</td>\n      <td>6.7</td>\n      <td>7576.0</td>\n      <td>10.0</td>\n      <td>nm0613657</td>\n      <td>editor</td>\n    </tr>\n    <tr>\n      <th>67669</th>\n      <td>tt0069049</td>\n      <td>The Other Side of the Wind</td>\n      <td>The Other Side of the Wind</td>\n      <td>0</td>\n      <td>2018</td>\n      <td>2018</td>\n      <td>Drama</td>\n      <td>6.7</td>\n      <td>7576.0</td>\n      <td>1.0</td>\n      <td>nm0001379</td>\n      <td>actor</td>\n    </tr>\n    <tr>\n      <th>67669</th>\n      <td>tt0069049</td>\n      <td>The Other Side of the Wind</td>\n      <td>The Other Side of the Wind</td>\n      <td>0</td>\n      <td>2018</td>\n      <td>2018</td>\n      <td>Drama</td>\n      <td>6.7</td>\n      <td>7576.0</td>\n      <td>2.0</td>\n      <td>nm0462648</td>\n      <td>actress</td>\n    </tr>\n    <tr>\n      <th>67669</th>\n      <td>tt0069049</td>\n      <td>The Other Side of the Wind</td>\n      <td>The Other Side of the Wind</td>\n      <td>0</td>\n      <td>2018</td>\n      <td>2018</td>\n      <td>Drama</td>\n      <td>6.7</td>\n      <td>7576.0</td>\n      <td>3.0</td>\n      <td>nm0000953</td>\n      <td>actor</td>\n    </tr>\n    <tr>\n      <th>67669</th>\n      <td>tt0069049</td>\n      <td>The Other Side of the Wind</td>\n      <td>The Other Side of the Wind</td>\n      <td>0</td>\n      <td>2018</td>\n      <td>2018</td>\n      <td>Drama</td>\n      <td>6.7</td>\n      <td>7576.0</td>\n      <td>4.0</td>\n      <td>nm0001782</td>\n      <td>actress</td>\n    </tr>\n    <tr>\n      <th>67669</th>\n      <td>tt0069049</td>\n      <td>The Other Side of the Wind</td>\n      <td>The Other Side of the Wind</td>\n      <td>0</td>\n      <td>2018</td>\n      <td>2018</td>\n      <td>Drama</td>\n      <td>6.7</td>\n      <td>7576.0</td>\n      <td>5.0</td>\n      <td>nm0000080</td>\n      <td>director</td>\n    </tr>\n    <tr>\n      <th>67669</th>\n      <td>tt0069049</td>\n      <td>The Other Side of the Wind</td>\n      <td>The Other Side of the Wind</td>\n      <td>0</td>\n      <td>2018</td>\n      <td>2018</td>\n      <td>Drama</td>\n      <td>6.7</td>\n      <td>7576.0</td>\n      <td>6.0</td>\n      <td>nm0550881</td>\n      <td>producer</td>\n    </tr>\n    <tr>\n      <th>67669</th>\n      <td>tt0069049</td>\n      <td>The Other Side of the Wind</td>\n      <td>The Other Side of the Wind</td>\n      <td>0</td>\n      <td>2018</td>\n      <td>2018</td>\n      <td>Drama</td>\n      <td>6.7</td>\n      <td>7576.0</td>\n      <td>7.0</td>\n      <td>nm1475059</td>\n      <td>producer</td>\n    </tr>\n    <tr>\n      <th>67669</th>\n      <td>tt0069049</td>\n      <td>The Other Side of the Wind</td>\n      <td>The Other Side of the Wind</td>\n      <td>0</td>\n      <td>2018</td>\n      <td>2018</td>\n      <td>Drama</td>\n      <td>6.7</td>\n      <td>7576.0</td>\n      <td>8.0</td>\n      <td>nm0006166</td>\n      <td>composer</td>\n    </tr>\n    <tr>\n      <th>67669</th>\n      <td>tt0069049</td>\n      <td>The Other Side of the Wind</td>\n      <td>The Other Side of the Wind</td>\n      <td>0</td>\n      <td>2018</td>\n      <td>2018</td>\n      <td>Drama</td>\n      <td>6.7</td>\n      <td>7576.0</td>\n      <td>9.0</td>\n      <td>nm0004372</td>\n      <td>cinematographer</td>\n    </tr>\n    <tr>\n      <th>87471</th>\n      <td>tt0089435</td>\n      <td>Kokoa</td>\n      <td>Kokoa</td>\n      <td>0</td>\n      <td>2019</td>\n      <td>2019</td>\n      <td>Animation,Short</td>\n      <td>6.2</td>\n      <td>18.0</td>\n      <td>1.0</td>\n      <td>nm0016087</td>\n      <td>director</td>\n    </tr>\n    <tr>\n      <th>87471</th>\n      <td>tt0089435</td>\n      <td>Kokoa</td>\n      <td>Kokoa</td>\n      <td>0</td>\n      <td>2019</td>\n      <td>2019</td>\n      <td>Animation,Short</td>\n      <td>6.2</td>\n      <td>18.0</td>\n      <td>2.0</td>\n      <td>nm0372793</td>\n      <td>editor</td>\n    </tr>\n    <tr>\n      <th>87471</th>\n      <td>tt0089435</td>\n      <td>Kokoa</td>\n      <td>Kokoa</td>\n      <td>0</td>\n      <td>2019</td>\n      <td>2019</td>\n      <td>Animation,Short</td>\n      <td>6.2</td>\n      <td>18.0</td>\n      <td>3.0</td>\n      <td>nm11717321</td>\n      <td>editor</td>\n    </tr>\n    <tr>\n      <th>87471</th>\n      <td>tt0089435</td>\n      <td>Kokoa</td>\n      <td>Kokoa</td>\n      <td>0</td>\n      <td>2019</td>\n      <td>2019</td>\n      <td>Animation,Short</td>\n      <td>6.2</td>\n      <td>18.0</td>\n      <td>4.0</td>\n      <td>nm1031416</td>\n      <td>editor</td>\n    </tr>\n    <tr>\n      <th>98043</th>\n      <td>tt0100275</td>\n      <td>The Wandering Soap Opera</td>\n      <td>La telenovela errante</td>\n      <td>0</td>\n      <td>2017</td>\n      <td>2017</td>\n      <td>Comedy,Drama,Fantasy</td>\n      <td>6.5</td>\n      <td>342.0</td>\n      <td>10.0</td>\n      <td>nm0005948</td>\n      <td>composer</td>\n    </tr>\n    <tr>\n      <th>98043</th>\n      <td>tt0100275</td>\n      <td>The Wandering Soap Opera</td>\n      <td>La telenovela errante</td>\n      <td>0</td>\n      <td>2017</td>\n      <td>2017</td>\n      <td>Comedy,Drama,Fantasy</td>\n      <td>6.5</td>\n      <td>342.0</td>\n      <td>1.0</td>\n      <td>nm0016013</td>\n      <td>actor</td>\n    </tr>\n    <tr>\n      <th>98043</th>\n      <td>tt0100275</td>\n      <td>The Wandering Soap Opera</td>\n      <td>La telenovela errante</td>\n      <td>0</td>\n      <td>2017</td>\n      <td>2017</td>\n      <td>Comedy,Drama,Fantasy</td>\n      <td>6.5</td>\n      <td>342.0</td>\n      <td>2.0</td>\n      <td>nm0728971</td>\n      <td>actress</td>\n    </tr>\n    <tr>\n      <th>98043</th>\n      <td>tt0100275</td>\n      <td>The Wandering Soap Opera</td>\n      <td>La telenovela errante</td>\n      <td>0</td>\n      <td>2017</td>\n      <td>2017</td>\n      <td>Comedy,Drama,Fantasy</td>\n      <td>6.5</td>\n      <td>342.0</td>\n      <td>3.0</td>\n      <td>nm0721280</td>\n      <td>actor</td>\n    </tr>\n    <tr>\n      <th>98043</th>\n      <td>tt0100275</td>\n      <td>The Wandering Soap Opera</td>\n      <td>La telenovela errante</td>\n      <td>0</td>\n      <td>2017</td>\n      <td>2017</td>\n      <td>Comedy,Drama,Fantasy</td>\n      <td>6.5</td>\n      <td>342.0</td>\n      <td>4.0</td>\n      <td>nm1415193</td>\n      <td>actress</td>\n    </tr>\n    <tr>\n      <th>98043</th>\n      <td>tt0100275</td>\n      <td>The Wandering Soap Opera</td>\n      <td>La telenovela errante</td>\n      <td>0</td>\n      <td>2017</td>\n      <td>2017</td>\n      <td>Comedy,Drama,Fantasy</td>\n      <td>6.5</td>\n      <td>342.0</td>\n      <td>5.0</td>\n      <td>nm0749914</td>\n      <td>director</td>\n    </tr>\n    <tr>\n      <th>98043</th>\n      <td>tt0100275</td>\n      <td>The Wandering Soap Opera</td>\n      <td>La telenovela errante</td>\n      <td>0</td>\n      <td>2017</td>\n      <td>2017</td>\n      <td>Comedy,Drama,Fantasy</td>\n      <td>6.5</td>\n      <td>342.0</td>\n      <td>6.0</td>\n      <td>nm0765384</td>\n      <td>director</td>\n    </tr>\n    <tr>\n      <th>98043</th>\n      <td>tt0100275</td>\n      <td>The Wandering Soap Opera</td>\n      <td>La telenovela errante</td>\n      <td>0</td>\n      <td>2017</td>\n      <td>2017</td>\n      <td>Comedy,Drama,Fantasy</td>\n      <td>6.5</td>\n      <td>342.0</td>\n      <td>7.0</td>\n      <td>nm1360635</td>\n      <td>writer</td>\n    </tr>\n    <tr>\n      <th>98043</th>\n      <td>tt0100275</td>\n      <td>The Wandering Soap Opera</td>\n      <td>La telenovela errante</td>\n      <td>0</td>\n      <td>2017</td>\n      <td>2017</td>\n      <td>Comedy,Drama,Fantasy</td>\n      <td>6.5</td>\n      <td>342.0</td>\n      <td>8.0</td>\n      <td>nm0462571</td>\n      <td>producer</td>\n    </tr>\n    <tr>\n      <th>98043</th>\n      <td>tt0100275</td>\n      <td>The Wandering Soap Opera</td>\n      <td>La telenovela errante</td>\n      <td>0</td>\n      <td>2017</td>\n      <td>2017</td>\n      <td>Comedy,Drama,Fantasy</td>\n      <td>6.5</td>\n      <td>342.0</td>\n      <td>9.0</td>\n      <td>nm1856792</td>\n      <td>producer</td>\n    </tr>\n    <tr>\n      <th>102656</th>\n      <td>tt0104988</td>\n      <td>Neues in Wittstock</td>\n      <td>Neues in Wittstock</td>\n      <td>0</td>\n      <td>2021</td>\n      <td>2021</td>\n      <td>Documentary</td>\n      <td>8.4</td>\n      <td>8.0</td>\n      <td>1.0</td>\n      <td>nm0462899</td>\n      <td>director</td>\n    </tr>\n    <tr>\n      <th>107671</th>\n      <td>tt0110152</td>\n      <td>The History of the World Episode 16 the Invent...</td>\n      <td>The History of the World Episode 16 the Invent...</td>\n      <td>0</td>\n      <td>2016</td>\n      <td>2016</td>\n      <td>Short</td>\n      <td>6.7</td>\n      <td>78.0</td>\n      <td>1.0</td>\n      <td>nm0612465</td>\n      <td>director</td>\n    </tr>\n    <tr>\n      <th>109087</th>\n      <td>tt0111596</td>\n      <td>Vazir</td>\n      <td>Vazir</td>\n      <td>0</td>\n      <td>2015</td>\n      <td>2015</td>\n      <td>Action,Crime,Drama</td>\n      <td>8.1</td>\n      <td>63.0</td>\n      <td>10.0</td>\n      <td>nm1105618</td>\n      <td>editor</td>\n    </tr>\n  </tbody>\n</table>\n</div>"
     },
     "execution_count": 99,
     "metadata": {},
     "output_type": "execute_result"
    }
   ],
   "source": [
    "df2 = df.join(title_principals.set_index('tconst'), on='tconst')\n",
    "df2.head(50)"
   ],
   "metadata": {
    "collapsed": false
   }
  },
  {
   "cell_type": "code",
   "execution_count": 100,
   "outputs": [
    {
     "data": {
      "text/plain": "(3471978, 12)"
     },
     "execution_count": 100,
     "metadata": {},
     "output_type": "execute_result"
    }
   ],
   "source": [
    "df2.shape"
   ],
   "metadata": {
    "collapsed": false
   }
  },
  {
   "cell_type": "code",
   "execution_count": 101,
   "outputs": [
    {
     "name": "stderr",
     "output_type": "stream",
     "text": [
      "C:\\Users\\Lorenzo\\AppData\\Local\\Temp\\ipykernel_24308\\1489511692.py:1: DtypeWarning: Columns (7) have mixed types. Specify dtype option on import or set low_memory=False.\n",
      "  title_akas = pd.read_table(\"db_files/title_akas.tsv\")\n"
     ]
    }
   ],
   "source": [
    "title_akas = pd.read_table(\"db_files/title_akas.tsv\")"
   ],
   "metadata": {
    "collapsed": false
   }
  },
  {
   "cell_type": "code",
   "execution_count": 102,
   "outputs": [
    {
     "data": {
      "text/plain": "(35065780, 8)"
     },
     "execution_count": 102,
     "metadata": {},
     "output_type": "execute_result"
    }
   ],
   "source": [
    "title_akas.shape"
   ],
   "metadata": {
    "collapsed": false
   }
  },
  {
   "cell_type": "code",
   "execution_count": 103,
   "outputs": [],
   "source": [
    "title_akas = title_akas[['titleId','ordering','region','types']]\n",
    "title_akas = clear_columns(title_akas, title_akas.columns)\n",
    "# title_akas = title_akas[['titleId','ordering','region','types','title','isOriginalTitle']]"
   ],
   "metadata": {
    "collapsed": false
   }
  },
  {
   "cell_type": "code",
   "execution_count": 104,
   "outputs": [],
   "source": [
    "m1 = title_akas['titleId'].isin(df2['tconst'])\n",
    "m2 = title_akas['ordering'].isin(df2['ordering'])\n",
    "title_akas = title_akas[m1 & m2]"
   ],
   "metadata": {
    "collapsed": false
   }
  },
  {
   "cell_type": "code",
   "execution_count": 105,
   "outputs": [
    {
     "data": {
      "text/plain": "(496006, 4)"
     },
     "execution_count": 105,
     "metadata": {},
     "output_type": "execute_result"
    }
   ],
   "source": [
    "title_akas = title_akas.rename(columns={'titleId':'tconst'})\n",
    "# title_akas = title_akas.rename(columns={'titleId':'tconst', 'title':'akas_title'})\n",
    "title_akas.shape"
   ],
   "metadata": {
    "collapsed": false
   }
  },
  {
   "cell_type": "code",
   "execution_count": 106,
   "outputs": [
    {
     "data": {
      "text/plain": "(471126, 14)"
     },
     "execution_count": 106,
     "metadata": {},
     "output_type": "execute_result"
    }
   ],
   "source": [
    "df3 = df2.join(title_akas.set_index(['tconst','ordering']), on=['tconst','ordering']).dropna()\n",
    "df3.shape"
   ],
   "metadata": {
    "collapsed": false
   }
  },
  {
   "cell_type": "code",
   "execution_count": 107,
   "outputs": [
    {
     "data": {
      "text/plain": "           tconst                                       primaryTitle  \\\n13082   tt0013274                        Istoriya grazhdanskoy voyny   \n39545   tt0040241                                    Color Rhapsodie   \n43548   tt0044326                                          Abstronic   \n55758   tt0056840                                           Aufsätze   \n61116   tt0062336  The Tango of the Widower and Its Distorting Mi...   \n61116   tt0062336  The Tango of the Widower and Its Distorting Mi...   \n61116   tt0062336  The Tango of the Widower and Its Distorting Mi...   \n61116   tt0062336  The Tango of the Widower and Its Distorting Mi...   \n61116   tt0062336  The Tango of the Widower and Its Distorting Mi...   \n61116   tt0062336  The Tango of the Widower and Its Distorting Mi...   \n61116   tt0062336  The Tango of the Widower and Its Distorting Mi...   \n61116   tt0062336  The Tango of the Widower and Its Distorting Mi...   \n67669   tt0069049                         The Other Side of the Wind   \n67669   tt0069049                         The Other Side of the Wind   \n67669   tt0069049                         The Other Side of the Wind   \n67669   tt0069049                         The Other Side of the Wind   \n67669   tt0069049                         The Other Side of the Wind   \n67669   tt0069049                         The Other Side of the Wind   \n67669   tt0069049                         The Other Side of the Wind   \n67669   tt0069049                         The Other Side of the Wind   \n67669   tt0069049                         The Other Side of the Wind   \n87471   tt0089435                                              Kokoa   \n98043   tt0100275                           The Wandering Soap Opera   \n98043   tt0100275                           The Wandering Soap Opera   \n98043   tt0100275                           The Wandering Soap Opera   \n98043   tt0100275                           The Wandering Soap Opera   \n98043   tt0100275                           The Wandering Soap Opera   \n98043   tt0100275                           The Wandering Soap Opera   \n102656  tt0104988                                 Neues in Wittstock   \n109087  tt0111596                                              Vazir   \n109087  tt0111596                                              Vazir   \n109087  tt0111596                                              Vazir   \n109965  tt0112502                                            Bigfoot   \n109965  tt0112502                                            Bigfoot   \n117002  tt0119830                                        One Dog Day   \n117002  tt0119830                                        One Dog Day   \n117002  tt0119830                                        One Dog Day   \n117723  tt0120589                               A Dangerous Practice   \n117723  tt0120589                               A Dangerous Practice   \n117723  tt0120589                               A Dangerous Practice   \n117723  tt0120589                               A Dangerous Practice   \n117723  tt0120589                               A Dangerous Practice   \n119894  tt0123063                                           Everyday   \n119894  tt0123063                                           Everyday   \n119894  tt0123063                                           Everyday   \n126420  tt0129960                     Eine geschlossene Gesellschaft   \n126523  tt0130071                  Landscape with the Fall of Icarus   \n133281  tt0137204                                    Joe Finds Grace   \n152868  tt0157734                                    Har Har Mahadev   \n152868  tt0157734                                    Har Har Mahadev   \n\n                                    originalTitle isAdult  startYear  endYear  \\\n13082                 Istoriya grazhdanskoy voyny       0       2021     2021   \n39545                             Color Rhapsodie       0       2021     2021   \n43548                                   Abstronic       0       2021     2021   \n55758                                    Aufsätze       0       2021     2021   \n61116   El tango del viudo y su espejo deformante       0       2020     2020   \n61116   El tango del viudo y su espejo deformante       0       2020     2020   \n61116   El tango del viudo y su espejo deformante       0       2020     2020   \n61116   El tango del viudo y su espejo deformante       0       2020     2020   \n61116   El tango del viudo y su espejo deformante       0       2020     2020   \n61116   El tango del viudo y su espejo deformante       0       2020     2020   \n61116   El tango del viudo y su espejo deformante       0       2020     2020   \n61116   El tango del viudo y su espejo deformante       0       2020     2020   \n67669                  The Other Side of the Wind       0       2018     2018   \n67669                  The Other Side of the Wind       0       2018     2018   \n67669                  The Other Side of the Wind       0       2018     2018   \n67669                  The Other Side of the Wind       0       2018     2018   \n67669                  The Other Side of the Wind       0       2018     2018   \n67669                  The Other Side of the Wind       0       2018     2018   \n67669                  The Other Side of the Wind       0       2018     2018   \n67669                  The Other Side of the Wind       0       2018     2018   \n67669                  The Other Side of the Wind       0       2018     2018   \n87471                                       Kokoa       0       2019     2019   \n98043                       La telenovela errante       0       2017     2017   \n98043                       La telenovela errante       0       2017     2017   \n98043                       La telenovela errante       0       2017     2017   \n98043                       La telenovela errante       0       2017     2017   \n98043                       La telenovela errante       0       2017     2017   \n98043                       La telenovela errante       0       2017     2017   \n102656                         Neues in Wittstock       0       2021     2021   \n109087                                      Vazir       0       2015     2015   \n109087                                      Vazir       0       2015     2015   \n109087                                      Vazir       0       2015     2015   \n109965                                    Bigfoot       0       2017     2017   \n109965                                    Bigfoot       0       2017     2017   \n117002                                One Dog Day       0       2022     2022   \n117002                                One Dog Day       0       2022     2022   \n117002                                One Dog Day       0       2022     2022   \n117723                       A Dangerous Practice       0       2022     2022   \n117723                       A Dangerous Practice       0       2022     2022   \n117723                       A Dangerous Practice       0       2022     2022   \n117723                       A Dangerous Practice       0       2022     2022   \n117723                       A Dangerous Practice       0       2022     2022   \n119894                                   Everyday       0       2019     2019   \n119894                                   Everyday       0       2019     2019   \n119894                                   Everyday       0       2019     2019   \n126420             Eine geschlossene Gesellschaft       0       2019     2019   \n126523          Landscape with the Fall of Icarus       0       2016     2016   \n133281                            Joe Finds Grace       0       2017     2017   \n152868                            Har Har Mahadev       0       2019     2019   \n152868                            Har Har Mahadev       0       2019     2019   \n\n                             genres  averageRating  numVotes  ordering  \\\n13082                   Documentary            6.6      49.0       3.0   \n39545                         Short            7.7      16.0       2.0   \n43548                         Short            6.8      75.0       2.0   \n55758                         Short            6.8      95.0       1.0   \n61116                         Drama            6.4     167.0      10.0   \n61116                         Drama            6.4     167.0       2.0   \n61116                         Drama            6.4     167.0       3.0   \n61116                         Drama            6.4     167.0       4.0   \n61116                         Drama            6.4     167.0       5.0   \n61116                         Drama            6.4     167.0       6.0   \n61116                         Drama            6.4     167.0       7.0   \n61116                         Drama            6.4     167.0       8.0   \n67669                         Drama            6.7    7576.0      10.0   \n67669                         Drama            6.7    7576.0       1.0   \n67669                         Drama            6.7    7576.0       2.0   \n67669                         Drama            6.7    7576.0       3.0   \n67669                         Drama            6.7    7576.0       4.0   \n67669                         Drama            6.7    7576.0       5.0   \n67669                         Drama            6.7    7576.0       6.0   \n67669                         Drama            6.7    7576.0       8.0   \n67669                         Drama            6.7    7576.0       9.0   \n87471               Animation,Short            6.2      18.0       1.0   \n98043          Comedy,Drama,Fantasy            6.5     342.0       2.0   \n98043          Comedy,Drama,Fantasy            6.5     342.0       3.0   \n98043          Comedy,Drama,Fantasy            6.5     342.0       4.0   \n98043          Comedy,Drama,Fantasy            6.5     342.0       6.0   \n98043          Comedy,Drama,Fantasy            6.5     342.0       7.0   \n98043          Comedy,Drama,Fantasy            6.5     342.0       8.0   \n102656                  Documentary            8.4       8.0       1.0   \n109087           Action,Crime,Drama            8.1      63.0       1.0   \n109087           Action,Crime,Drama            8.1      63.0       3.0   \n109087           Action,Crime,Drama            8.1      63.0       4.0   \n109965              Horror,Thriller            4.6      41.0       1.0   \n109965              Horror,Thriller            4.6      41.0       3.0   \n117002                Action,Comedy            7.2      28.0       1.0   \n117002                Action,Comedy            7.2      28.0       2.0   \n117002                Action,Comedy            7.2      28.0       4.0   \n117723                        Drama            7.1     157.0       1.0   \n117723                        Drama            7.1     157.0       3.0   \n117723                        Drama            7.1     157.0       4.0   \n117723                        Drama            7.1     157.0       7.0   \n117723                        Drama            7.1     157.0       8.0   \n119894                        Short            6.9     142.0       1.0   \n119894                        Short            6.9     142.0       2.0   \n119894                        Short            6.9     142.0       4.0   \n126420  Biography,Documentary,Drama            7.2       7.0       1.0   \n126523              Animation,Short            7.5      13.0       1.0   \n133281   Adventure,Animation,Comedy            8.6     291.0       1.0   \n152868                      Fantasy            7.4      72.0       3.0   \n152868                      Fantasy            7.4      72.0       4.0   \n\n           pnconst        pcategory region        types  \n13082   nm13054604         producer     RU  imdbDisplay  \n39545    nm0625934         director     US  imdbDisplay  \n43548    nm0625934         director     US  imdbDisplay  \n55758    nm0626561         director    XWG  imdbDisplay  \n61116    nm0093680  cinematographer     RU  imdbDisplay  \n61116    nm1860495          actress    XWW  imdbDisplay  \n61116    nm0016013            actor     GB  imdbDisplay  \n61116    nm0739834          actress     HK     festival  \n61116    nm0749914         director     TW  imdbDisplay  \n61116    nm0765384         director     US  imdbDisplay  \n61116    nm1146177           writer     FR  imdbDisplay  \n61116    nm1131208         producer     CL  imdbDisplay  \n67669    nm0613657           editor     AR  imdbDisplay  \n67669    nm0001379            actor     VN  imdbDisplay  \n67669    nm0462648          actress     BR  imdbDisplay  \n67669    nm0000953            actor     US  imdbDisplay  \n67669    nm0001782          actress     TW  imdbDisplay  \n67669    nm0000080         director     GB  imdbDisplay  \n67669    nm0550881         producer     VN  alternative  \n67669    nm0006166         composer     RU  imdbDisplay  \n67669    nm0004372  cinematographer     AU  imdbDisplay  \n87471    nm0016087         director     NE  imdbDisplay  \n98043    nm0728971          actress     ES  imdbDisplay  \n98043    nm0721280            actor    XWW  imdbDisplay  \n98043    nm1415193          actress     CL  imdbDisplay  \n98043    nm0765384         director     US  imdbDisplay  \n98043    nm1360635           writer     PL  imdbDisplay  \n98043    nm0462571         producer     GB  imdbDisplay  \n102656   nm0462899         director     TW     festival  \n109087   nm3662667            actor     IN  imdbDisplay  \n109087   nm3421365          actress     FR  imdbDisplay  \n109087   nm3661490            actor     IN  imdbDisplay  \n109965   nm6883878         director     GB  imdbDisplay  \n109965   nm0373872         producer     US  imdbDisplay  \n117002   nm0269824            actor     ES  imdbDisplay  \n117002   nm0907648            actor     GB  imdbDisplay  \n117002   nm0797723            actor     US  imdbDisplay  \n117723   nm0269077            actor     JP  imdbDisplay  \n117723   nm3580842            actor     US  imdbDisplay  \n117723   nm3253771            actor     GB  imdbDisplay  \n117723   nm1291775         producer     BR  imdbDisplay  \n117723   nm1164842         producer     PL  imdbDisplay  \n119894   nm0001178            actor     GR  imdbDisplay  \n119894   nm0360002            actor     DE  imdbDisplay  \n119894   nm0725257         director     GB  imdbDisplay  \n126420   nm0065353            actor    XWG  imdbDisplay  \n126523   nm0838006         director     US  imdbDisplay  \n133281   nm0365480            actor     US  imdbDisplay  \n152868   nm0595194            actor     IN  imdbDisplay  \n152868   nm0451387          actress     IN  imdbDisplay  ",
      "text/html": "<div>\n<style scoped>\n    .dataframe tbody tr th:only-of-type {\n        vertical-align: middle;\n    }\n\n    .dataframe tbody tr th {\n        vertical-align: top;\n    }\n\n    .dataframe thead th {\n        text-align: right;\n    }\n</style>\n<table border=\"1\" class=\"dataframe\">\n  <thead>\n    <tr style=\"text-align: right;\">\n      <th></th>\n      <th>tconst</th>\n      <th>primaryTitle</th>\n      <th>originalTitle</th>\n      <th>isAdult</th>\n      <th>startYear</th>\n      <th>endYear</th>\n      <th>genres</th>\n      <th>averageRating</th>\n      <th>numVotes</th>\n      <th>ordering</th>\n      <th>pnconst</th>\n      <th>pcategory</th>\n      <th>region</th>\n      <th>types</th>\n    </tr>\n  </thead>\n  <tbody>\n    <tr>\n      <th>13082</th>\n      <td>tt0013274</td>\n      <td>Istoriya grazhdanskoy voyny</td>\n      <td>Istoriya grazhdanskoy voyny</td>\n      <td>0</td>\n      <td>2021</td>\n      <td>2021</td>\n      <td>Documentary</td>\n      <td>6.6</td>\n      <td>49.0</td>\n      <td>3.0</td>\n      <td>nm13054604</td>\n      <td>producer</td>\n      <td>RU</td>\n      <td>imdbDisplay</td>\n    </tr>\n    <tr>\n      <th>39545</th>\n      <td>tt0040241</td>\n      <td>Color Rhapsodie</td>\n      <td>Color Rhapsodie</td>\n      <td>0</td>\n      <td>2021</td>\n      <td>2021</td>\n      <td>Short</td>\n      <td>7.7</td>\n      <td>16.0</td>\n      <td>2.0</td>\n      <td>nm0625934</td>\n      <td>director</td>\n      <td>US</td>\n      <td>imdbDisplay</td>\n    </tr>\n    <tr>\n      <th>43548</th>\n      <td>tt0044326</td>\n      <td>Abstronic</td>\n      <td>Abstronic</td>\n      <td>0</td>\n      <td>2021</td>\n      <td>2021</td>\n      <td>Short</td>\n      <td>6.8</td>\n      <td>75.0</td>\n      <td>2.0</td>\n      <td>nm0625934</td>\n      <td>director</td>\n      <td>US</td>\n      <td>imdbDisplay</td>\n    </tr>\n    <tr>\n      <th>55758</th>\n      <td>tt0056840</td>\n      <td>Aufsätze</td>\n      <td>Aufsätze</td>\n      <td>0</td>\n      <td>2021</td>\n      <td>2021</td>\n      <td>Short</td>\n      <td>6.8</td>\n      <td>95.0</td>\n      <td>1.0</td>\n      <td>nm0626561</td>\n      <td>director</td>\n      <td>XWG</td>\n      <td>imdbDisplay</td>\n    </tr>\n    <tr>\n      <th>61116</th>\n      <td>tt0062336</td>\n      <td>The Tango of the Widower and Its Distorting Mi...</td>\n      <td>El tango del viudo y su espejo deformante</td>\n      <td>0</td>\n      <td>2020</td>\n      <td>2020</td>\n      <td>Drama</td>\n      <td>6.4</td>\n      <td>167.0</td>\n      <td>10.0</td>\n      <td>nm0093680</td>\n      <td>cinematographer</td>\n      <td>RU</td>\n      <td>imdbDisplay</td>\n    </tr>\n    <tr>\n      <th>61116</th>\n      <td>tt0062336</td>\n      <td>The Tango of the Widower and Its Distorting Mi...</td>\n      <td>El tango del viudo y su espejo deformante</td>\n      <td>0</td>\n      <td>2020</td>\n      <td>2020</td>\n      <td>Drama</td>\n      <td>6.4</td>\n      <td>167.0</td>\n      <td>2.0</td>\n      <td>nm1860495</td>\n      <td>actress</td>\n      <td>XWW</td>\n      <td>imdbDisplay</td>\n    </tr>\n    <tr>\n      <th>61116</th>\n      <td>tt0062336</td>\n      <td>The Tango of the Widower and Its Distorting Mi...</td>\n      <td>El tango del viudo y su espejo deformante</td>\n      <td>0</td>\n      <td>2020</td>\n      <td>2020</td>\n      <td>Drama</td>\n      <td>6.4</td>\n      <td>167.0</td>\n      <td>3.0</td>\n      <td>nm0016013</td>\n      <td>actor</td>\n      <td>GB</td>\n      <td>imdbDisplay</td>\n    </tr>\n    <tr>\n      <th>61116</th>\n      <td>tt0062336</td>\n      <td>The Tango of the Widower and Its Distorting Mi...</td>\n      <td>El tango del viudo y su espejo deformante</td>\n      <td>0</td>\n      <td>2020</td>\n      <td>2020</td>\n      <td>Drama</td>\n      <td>6.4</td>\n      <td>167.0</td>\n      <td>4.0</td>\n      <td>nm0739834</td>\n      <td>actress</td>\n      <td>HK</td>\n      <td>festival</td>\n    </tr>\n    <tr>\n      <th>61116</th>\n      <td>tt0062336</td>\n      <td>The Tango of the Widower and Its Distorting Mi...</td>\n      <td>El tango del viudo y su espejo deformante</td>\n      <td>0</td>\n      <td>2020</td>\n      <td>2020</td>\n      <td>Drama</td>\n      <td>6.4</td>\n      <td>167.0</td>\n      <td>5.0</td>\n      <td>nm0749914</td>\n      <td>director</td>\n      <td>TW</td>\n      <td>imdbDisplay</td>\n    </tr>\n    <tr>\n      <th>61116</th>\n      <td>tt0062336</td>\n      <td>The Tango of the Widower and Its Distorting Mi...</td>\n      <td>El tango del viudo y su espejo deformante</td>\n      <td>0</td>\n      <td>2020</td>\n      <td>2020</td>\n      <td>Drama</td>\n      <td>6.4</td>\n      <td>167.0</td>\n      <td>6.0</td>\n      <td>nm0765384</td>\n      <td>director</td>\n      <td>US</td>\n      <td>imdbDisplay</td>\n    </tr>\n    <tr>\n      <th>61116</th>\n      <td>tt0062336</td>\n      <td>The Tango of the Widower and Its Distorting Mi...</td>\n      <td>El tango del viudo y su espejo deformante</td>\n      <td>0</td>\n      <td>2020</td>\n      <td>2020</td>\n      <td>Drama</td>\n      <td>6.4</td>\n      <td>167.0</td>\n      <td>7.0</td>\n      <td>nm1146177</td>\n      <td>writer</td>\n      <td>FR</td>\n      <td>imdbDisplay</td>\n    </tr>\n    <tr>\n      <th>61116</th>\n      <td>tt0062336</td>\n      <td>The Tango of the Widower and Its Distorting Mi...</td>\n      <td>El tango del viudo y su espejo deformante</td>\n      <td>0</td>\n      <td>2020</td>\n      <td>2020</td>\n      <td>Drama</td>\n      <td>6.4</td>\n      <td>167.0</td>\n      <td>8.0</td>\n      <td>nm1131208</td>\n      <td>producer</td>\n      <td>CL</td>\n      <td>imdbDisplay</td>\n    </tr>\n    <tr>\n      <th>67669</th>\n      <td>tt0069049</td>\n      <td>The Other Side of the Wind</td>\n      <td>The Other Side of the Wind</td>\n      <td>0</td>\n      <td>2018</td>\n      <td>2018</td>\n      <td>Drama</td>\n      <td>6.7</td>\n      <td>7576.0</td>\n      <td>10.0</td>\n      <td>nm0613657</td>\n      <td>editor</td>\n      <td>AR</td>\n      <td>imdbDisplay</td>\n    </tr>\n    <tr>\n      <th>67669</th>\n      <td>tt0069049</td>\n      <td>The Other Side of the Wind</td>\n      <td>The Other Side of the Wind</td>\n      <td>0</td>\n      <td>2018</td>\n      <td>2018</td>\n      <td>Drama</td>\n      <td>6.7</td>\n      <td>7576.0</td>\n      <td>1.0</td>\n      <td>nm0001379</td>\n      <td>actor</td>\n      <td>VN</td>\n      <td>imdbDisplay</td>\n    </tr>\n    <tr>\n      <th>67669</th>\n      <td>tt0069049</td>\n      <td>The Other Side of the Wind</td>\n      <td>The Other Side of the Wind</td>\n      <td>0</td>\n      <td>2018</td>\n      <td>2018</td>\n      <td>Drama</td>\n      <td>6.7</td>\n      <td>7576.0</td>\n      <td>2.0</td>\n      <td>nm0462648</td>\n      <td>actress</td>\n      <td>BR</td>\n      <td>imdbDisplay</td>\n    </tr>\n    <tr>\n      <th>67669</th>\n      <td>tt0069049</td>\n      <td>The Other Side of the Wind</td>\n      <td>The Other Side of the Wind</td>\n      <td>0</td>\n      <td>2018</td>\n      <td>2018</td>\n      <td>Drama</td>\n      <td>6.7</td>\n      <td>7576.0</td>\n      <td>3.0</td>\n      <td>nm0000953</td>\n      <td>actor</td>\n      <td>US</td>\n      <td>imdbDisplay</td>\n    </tr>\n    <tr>\n      <th>67669</th>\n      <td>tt0069049</td>\n      <td>The Other Side of the Wind</td>\n      <td>The Other Side of the Wind</td>\n      <td>0</td>\n      <td>2018</td>\n      <td>2018</td>\n      <td>Drama</td>\n      <td>6.7</td>\n      <td>7576.0</td>\n      <td>4.0</td>\n      <td>nm0001782</td>\n      <td>actress</td>\n      <td>TW</td>\n      <td>imdbDisplay</td>\n    </tr>\n    <tr>\n      <th>67669</th>\n      <td>tt0069049</td>\n      <td>The Other Side of the Wind</td>\n      <td>The Other Side of the Wind</td>\n      <td>0</td>\n      <td>2018</td>\n      <td>2018</td>\n      <td>Drama</td>\n      <td>6.7</td>\n      <td>7576.0</td>\n      <td>5.0</td>\n      <td>nm0000080</td>\n      <td>director</td>\n      <td>GB</td>\n      <td>imdbDisplay</td>\n    </tr>\n    <tr>\n      <th>67669</th>\n      <td>tt0069049</td>\n      <td>The Other Side of the Wind</td>\n      <td>The Other Side of the Wind</td>\n      <td>0</td>\n      <td>2018</td>\n      <td>2018</td>\n      <td>Drama</td>\n      <td>6.7</td>\n      <td>7576.0</td>\n      <td>6.0</td>\n      <td>nm0550881</td>\n      <td>producer</td>\n      <td>VN</td>\n      <td>alternative</td>\n    </tr>\n    <tr>\n      <th>67669</th>\n      <td>tt0069049</td>\n      <td>The Other Side of the Wind</td>\n      <td>The Other Side of the Wind</td>\n      <td>0</td>\n      <td>2018</td>\n      <td>2018</td>\n      <td>Drama</td>\n      <td>6.7</td>\n      <td>7576.0</td>\n      <td>8.0</td>\n      <td>nm0006166</td>\n      <td>composer</td>\n      <td>RU</td>\n      <td>imdbDisplay</td>\n    </tr>\n    <tr>\n      <th>67669</th>\n      <td>tt0069049</td>\n      <td>The Other Side of the Wind</td>\n      <td>The Other Side of the Wind</td>\n      <td>0</td>\n      <td>2018</td>\n      <td>2018</td>\n      <td>Drama</td>\n      <td>6.7</td>\n      <td>7576.0</td>\n      <td>9.0</td>\n      <td>nm0004372</td>\n      <td>cinematographer</td>\n      <td>AU</td>\n      <td>imdbDisplay</td>\n    </tr>\n    <tr>\n      <th>87471</th>\n      <td>tt0089435</td>\n      <td>Kokoa</td>\n      <td>Kokoa</td>\n      <td>0</td>\n      <td>2019</td>\n      <td>2019</td>\n      <td>Animation,Short</td>\n      <td>6.2</td>\n      <td>18.0</td>\n      <td>1.0</td>\n      <td>nm0016087</td>\n      <td>director</td>\n      <td>NE</td>\n      <td>imdbDisplay</td>\n    </tr>\n    <tr>\n      <th>98043</th>\n      <td>tt0100275</td>\n      <td>The Wandering Soap Opera</td>\n      <td>La telenovela errante</td>\n      <td>0</td>\n      <td>2017</td>\n      <td>2017</td>\n      <td>Comedy,Drama,Fantasy</td>\n      <td>6.5</td>\n      <td>342.0</td>\n      <td>2.0</td>\n      <td>nm0728971</td>\n      <td>actress</td>\n      <td>ES</td>\n      <td>imdbDisplay</td>\n    </tr>\n    <tr>\n      <th>98043</th>\n      <td>tt0100275</td>\n      <td>The Wandering Soap Opera</td>\n      <td>La telenovela errante</td>\n      <td>0</td>\n      <td>2017</td>\n      <td>2017</td>\n      <td>Comedy,Drama,Fantasy</td>\n      <td>6.5</td>\n      <td>342.0</td>\n      <td>3.0</td>\n      <td>nm0721280</td>\n      <td>actor</td>\n      <td>XWW</td>\n      <td>imdbDisplay</td>\n    </tr>\n    <tr>\n      <th>98043</th>\n      <td>tt0100275</td>\n      <td>The Wandering Soap Opera</td>\n      <td>La telenovela errante</td>\n      <td>0</td>\n      <td>2017</td>\n      <td>2017</td>\n      <td>Comedy,Drama,Fantasy</td>\n      <td>6.5</td>\n      <td>342.0</td>\n      <td>4.0</td>\n      <td>nm1415193</td>\n      <td>actress</td>\n      <td>CL</td>\n      <td>imdbDisplay</td>\n    </tr>\n    <tr>\n      <th>98043</th>\n      <td>tt0100275</td>\n      <td>The Wandering Soap Opera</td>\n      <td>La telenovela errante</td>\n      <td>0</td>\n      <td>2017</td>\n      <td>2017</td>\n      <td>Comedy,Drama,Fantasy</td>\n      <td>6.5</td>\n      <td>342.0</td>\n      <td>6.0</td>\n      <td>nm0765384</td>\n      <td>director</td>\n      <td>US</td>\n      <td>imdbDisplay</td>\n    </tr>\n    <tr>\n      <th>98043</th>\n      <td>tt0100275</td>\n      <td>The Wandering Soap Opera</td>\n      <td>La telenovela errante</td>\n      <td>0</td>\n      <td>2017</td>\n      <td>2017</td>\n      <td>Comedy,Drama,Fantasy</td>\n      <td>6.5</td>\n      <td>342.0</td>\n      <td>7.0</td>\n      <td>nm1360635</td>\n      <td>writer</td>\n      <td>PL</td>\n      <td>imdbDisplay</td>\n    </tr>\n    <tr>\n      <th>98043</th>\n      <td>tt0100275</td>\n      <td>The Wandering Soap Opera</td>\n      <td>La telenovela errante</td>\n      <td>0</td>\n      <td>2017</td>\n      <td>2017</td>\n      <td>Comedy,Drama,Fantasy</td>\n      <td>6.5</td>\n      <td>342.0</td>\n      <td>8.0</td>\n      <td>nm0462571</td>\n      <td>producer</td>\n      <td>GB</td>\n      <td>imdbDisplay</td>\n    </tr>\n    <tr>\n      <th>102656</th>\n      <td>tt0104988</td>\n      <td>Neues in Wittstock</td>\n      <td>Neues in Wittstock</td>\n      <td>0</td>\n      <td>2021</td>\n      <td>2021</td>\n      <td>Documentary</td>\n      <td>8.4</td>\n      <td>8.0</td>\n      <td>1.0</td>\n      <td>nm0462899</td>\n      <td>director</td>\n      <td>TW</td>\n      <td>festival</td>\n    </tr>\n    <tr>\n      <th>109087</th>\n      <td>tt0111596</td>\n      <td>Vazir</td>\n      <td>Vazir</td>\n      <td>0</td>\n      <td>2015</td>\n      <td>2015</td>\n      <td>Action,Crime,Drama</td>\n      <td>8.1</td>\n      <td>63.0</td>\n      <td>1.0</td>\n      <td>nm3662667</td>\n      <td>actor</td>\n      <td>IN</td>\n      <td>imdbDisplay</td>\n    </tr>\n    <tr>\n      <th>109087</th>\n      <td>tt0111596</td>\n      <td>Vazir</td>\n      <td>Vazir</td>\n      <td>0</td>\n      <td>2015</td>\n      <td>2015</td>\n      <td>Action,Crime,Drama</td>\n      <td>8.1</td>\n      <td>63.0</td>\n      <td>3.0</td>\n      <td>nm3421365</td>\n      <td>actress</td>\n      <td>FR</td>\n      <td>imdbDisplay</td>\n    </tr>\n    <tr>\n      <th>109087</th>\n      <td>tt0111596</td>\n      <td>Vazir</td>\n      <td>Vazir</td>\n      <td>0</td>\n      <td>2015</td>\n      <td>2015</td>\n      <td>Action,Crime,Drama</td>\n      <td>8.1</td>\n      <td>63.0</td>\n      <td>4.0</td>\n      <td>nm3661490</td>\n      <td>actor</td>\n      <td>IN</td>\n      <td>imdbDisplay</td>\n    </tr>\n    <tr>\n      <th>109965</th>\n      <td>tt0112502</td>\n      <td>Bigfoot</td>\n      <td>Bigfoot</td>\n      <td>0</td>\n      <td>2017</td>\n      <td>2017</td>\n      <td>Horror,Thriller</td>\n      <td>4.6</td>\n      <td>41.0</td>\n      <td>1.0</td>\n      <td>nm6883878</td>\n      <td>director</td>\n      <td>GB</td>\n      <td>imdbDisplay</td>\n    </tr>\n    <tr>\n      <th>109965</th>\n      <td>tt0112502</td>\n      <td>Bigfoot</td>\n      <td>Bigfoot</td>\n      <td>0</td>\n      <td>2017</td>\n      <td>2017</td>\n      <td>Horror,Thriller</td>\n      <td>4.6</td>\n      <td>41.0</td>\n      <td>3.0</td>\n      <td>nm0373872</td>\n      <td>producer</td>\n      <td>US</td>\n      <td>imdbDisplay</td>\n    </tr>\n    <tr>\n      <th>117002</th>\n      <td>tt0119830</td>\n      <td>One Dog Day</td>\n      <td>One Dog Day</td>\n      <td>0</td>\n      <td>2022</td>\n      <td>2022</td>\n      <td>Action,Comedy</td>\n      <td>7.2</td>\n      <td>28.0</td>\n      <td>1.0</td>\n      <td>nm0269824</td>\n      <td>actor</td>\n      <td>ES</td>\n      <td>imdbDisplay</td>\n    </tr>\n    <tr>\n      <th>117002</th>\n      <td>tt0119830</td>\n      <td>One Dog Day</td>\n      <td>One Dog Day</td>\n      <td>0</td>\n      <td>2022</td>\n      <td>2022</td>\n      <td>Action,Comedy</td>\n      <td>7.2</td>\n      <td>28.0</td>\n      <td>2.0</td>\n      <td>nm0907648</td>\n      <td>actor</td>\n      <td>GB</td>\n      <td>imdbDisplay</td>\n    </tr>\n    <tr>\n      <th>117002</th>\n      <td>tt0119830</td>\n      <td>One Dog Day</td>\n      <td>One Dog Day</td>\n      <td>0</td>\n      <td>2022</td>\n      <td>2022</td>\n      <td>Action,Comedy</td>\n      <td>7.2</td>\n      <td>28.0</td>\n      <td>4.0</td>\n      <td>nm0797723</td>\n      <td>actor</td>\n      <td>US</td>\n      <td>imdbDisplay</td>\n    </tr>\n    <tr>\n      <th>117723</th>\n      <td>tt0120589</td>\n      <td>A Dangerous Practice</td>\n      <td>A Dangerous Practice</td>\n      <td>0</td>\n      <td>2022</td>\n      <td>2022</td>\n      <td>Drama</td>\n      <td>7.1</td>\n      <td>157.0</td>\n      <td>1.0</td>\n      <td>nm0269077</td>\n      <td>actor</td>\n      <td>JP</td>\n      <td>imdbDisplay</td>\n    </tr>\n    <tr>\n      <th>117723</th>\n      <td>tt0120589</td>\n      <td>A Dangerous Practice</td>\n      <td>A Dangerous Practice</td>\n      <td>0</td>\n      <td>2022</td>\n      <td>2022</td>\n      <td>Drama</td>\n      <td>7.1</td>\n      <td>157.0</td>\n      <td>3.0</td>\n      <td>nm3580842</td>\n      <td>actor</td>\n      <td>US</td>\n      <td>imdbDisplay</td>\n    </tr>\n    <tr>\n      <th>117723</th>\n      <td>tt0120589</td>\n      <td>A Dangerous Practice</td>\n      <td>A Dangerous Practice</td>\n      <td>0</td>\n      <td>2022</td>\n      <td>2022</td>\n      <td>Drama</td>\n      <td>7.1</td>\n      <td>157.0</td>\n      <td>4.0</td>\n      <td>nm3253771</td>\n      <td>actor</td>\n      <td>GB</td>\n      <td>imdbDisplay</td>\n    </tr>\n    <tr>\n      <th>117723</th>\n      <td>tt0120589</td>\n      <td>A Dangerous Practice</td>\n      <td>A Dangerous Practice</td>\n      <td>0</td>\n      <td>2022</td>\n      <td>2022</td>\n      <td>Drama</td>\n      <td>7.1</td>\n      <td>157.0</td>\n      <td>7.0</td>\n      <td>nm1291775</td>\n      <td>producer</td>\n      <td>BR</td>\n      <td>imdbDisplay</td>\n    </tr>\n    <tr>\n      <th>117723</th>\n      <td>tt0120589</td>\n      <td>A Dangerous Practice</td>\n      <td>A Dangerous Practice</td>\n      <td>0</td>\n      <td>2022</td>\n      <td>2022</td>\n      <td>Drama</td>\n      <td>7.1</td>\n      <td>157.0</td>\n      <td>8.0</td>\n      <td>nm1164842</td>\n      <td>producer</td>\n      <td>PL</td>\n      <td>imdbDisplay</td>\n    </tr>\n    <tr>\n      <th>119894</th>\n      <td>tt0123063</td>\n      <td>Everyday</td>\n      <td>Everyday</td>\n      <td>0</td>\n      <td>2019</td>\n      <td>2019</td>\n      <td>Short</td>\n      <td>6.9</td>\n      <td>142.0</td>\n      <td>1.0</td>\n      <td>nm0001178</td>\n      <td>actor</td>\n      <td>GR</td>\n      <td>imdbDisplay</td>\n    </tr>\n    <tr>\n      <th>119894</th>\n      <td>tt0123063</td>\n      <td>Everyday</td>\n      <td>Everyday</td>\n      <td>0</td>\n      <td>2019</td>\n      <td>2019</td>\n      <td>Short</td>\n      <td>6.9</td>\n      <td>142.0</td>\n      <td>2.0</td>\n      <td>nm0360002</td>\n      <td>actor</td>\n      <td>DE</td>\n      <td>imdbDisplay</td>\n    </tr>\n    <tr>\n      <th>119894</th>\n      <td>tt0123063</td>\n      <td>Everyday</td>\n      <td>Everyday</td>\n      <td>0</td>\n      <td>2019</td>\n      <td>2019</td>\n      <td>Short</td>\n      <td>6.9</td>\n      <td>142.0</td>\n      <td>4.0</td>\n      <td>nm0725257</td>\n      <td>director</td>\n      <td>GB</td>\n      <td>imdbDisplay</td>\n    </tr>\n    <tr>\n      <th>126420</th>\n      <td>tt0129960</td>\n      <td>Eine geschlossene Gesellschaft</td>\n      <td>Eine geschlossene Gesellschaft</td>\n      <td>0</td>\n      <td>2019</td>\n      <td>2019</td>\n      <td>Biography,Documentary,Drama</td>\n      <td>7.2</td>\n      <td>7.0</td>\n      <td>1.0</td>\n      <td>nm0065353</td>\n      <td>actor</td>\n      <td>XWG</td>\n      <td>imdbDisplay</td>\n    </tr>\n    <tr>\n      <th>126523</th>\n      <td>tt0130071</td>\n      <td>Landscape with the Fall of Icarus</td>\n      <td>Landscape with the Fall of Icarus</td>\n      <td>0</td>\n      <td>2016</td>\n      <td>2016</td>\n      <td>Animation,Short</td>\n      <td>7.5</td>\n      <td>13.0</td>\n      <td>1.0</td>\n      <td>nm0838006</td>\n      <td>director</td>\n      <td>US</td>\n      <td>imdbDisplay</td>\n    </tr>\n    <tr>\n      <th>133281</th>\n      <td>tt0137204</td>\n      <td>Joe Finds Grace</td>\n      <td>Joe Finds Grace</td>\n      <td>0</td>\n      <td>2017</td>\n      <td>2017</td>\n      <td>Adventure,Animation,Comedy</td>\n      <td>8.6</td>\n      <td>291.0</td>\n      <td>1.0</td>\n      <td>nm0365480</td>\n      <td>actor</td>\n      <td>US</td>\n      <td>imdbDisplay</td>\n    </tr>\n    <tr>\n      <th>152868</th>\n      <td>tt0157734</td>\n      <td>Har Har Mahadev</td>\n      <td>Har Har Mahadev</td>\n      <td>0</td>\n      <td>2019</td>\n      <td>2019</td>\n      <td>Fantasy</td>\n      <td>7.4</td>\n      <td>72.0</td>\n      <td>3.0</td>\n      <td>nm0595194</td>\n      <td>actor</td>\n      <td>IN</td>\n      <td>imdbDisplay</td>\n    </tr>\n    <tr>\n      <th>152868</th>\n      <td>tt0157734</td>\n      <td>Har Har Mahadev</td>\n      <td>Har Har Mahadev</td>\n      <td>0</td>\n      <td>2019</td>\n      <td>2019</td>\n      <td>Fantasy</td>\n      <td>7.4</td>\n      <td>72.0</td>\n      <td>4.0</td>\n      <td>nm0451387</td>\n      <td>actress</td>\n      <td>IN</td>\n      <td>imdbDisplay</td>\n    </tr>\n  </tbody>\n</table>\n</div>"
     },
     "execution_count": 107,
     "metadata": {},
     "output_type": "execute_result"
    }
   ],
   "source": [
    "df3.head(50)"
   ],
   "metadata": {
    "collapsed": false
   }
  },
  {
   "cell_type": "code",
   "execution_count": 108,
   "outputs": [],
   "source": [
    "name_basics = pd.read_csv('db_files/name_basics.tsv', delimiter='\\t')\n",
    "name_basics = clear_columns(name_basics, name_basics.columns.drop(['deathYear']))\n",
    "name_basics['deathYear'] = name_basics['deathYear'].replace({'\\\\N':'2024'})"
   ],
   "metadata": {
    "collapsed": false
   }
  },
  {
   "cell_type": "code",
   "execution_count": 109,
   "outputs": [],
   "source": [
    "name_basics['knownForTitles'] = name_basics['knownForTitles'].apply(lambda x : x.split(',')).explode('knownForTitles')\n",
    "name_basics = name_basics[name_basics['knownForTitles'].isin(df3.tconst)]"
   ],
   "metadata": {
    "collapsed": false
   }
  },
  {
   "cell_type": "code",
   "execution_count": 110,
   "outputs": [
    {
     "data": {
      "text/plain": "(14824, 6)"
     },
     "execution_count": 110,
     "metadata": {},
     "output_type": "execute_result"
    }
   ],
   "source": [
    "name_basics = name_basics.rename(columns={'knownForTitles':'tconst'})\n",
    "name_basics.shape"
   ],
   "metadata": {
    "collapsed": false
   }
  },
  {
   "cell_type": "code",
   "execution_count": 111,
   "outputs": [
    {
     "data": {
      "text/plain": "(514843, 19)"
     },
     "execution_count": 111,
     "metadata": {},
     "output_type": "execute_result"
    }
   ],
   "source": [
    "df4 = df3.join(name_basics.set_index('tconst'), on='tconst')\n",
    "df4.shape"
   ],
   "metadata": {
    "collapsed": false
   }
  },
  {
   "cell_type": "code",
   "execution_count": 115,
   "outputs": [],
   "source": [
    "df4 = clear_columns(df4, df4.columns)"
   ],
   "metadata": {
    "collapsed": false
   }
  },
  {
   "cell_type": "code",
   "execution_count": 116,
   "outputs": [],
   "source": [
    "df4 = df4.astype({\n",
    "    'isAdult':'int32',\n",
    "    'ordering':'int32',\n",
    "    'birthYear':'int32',\n",
    "    'deathYear':'int32',\n",
    "})"
   ],
   "metadata": {
    "collapsed": false
   }
  },
  {
   "cell_type": "code",
   "execution_count": 131,
   "outputs": [
    {
     "data": {
      "text/plain": "Index(['tconst', 'primaryTitle', 'originalTitle', 'isAdult', 'startYear',\n       'endYear', 'genres', 'averageRating', 'numVotes', 'ordering', 'pnconst',\n       'pcategory', 'region', 'types', 'nconst', 'primaryName', 'birthYear',\n       'deathYear', 'primaryProfession'],\n      dtype='object')"
     },
     "execution_count": 131,
     "metadata": {},
     "output_type": "execute_result"
    }
   ],
   "source": [
    "df4 = df4.reset_index()\n",
    "df4 = df4.drop(columns=['level_0','index'])\n",
    "df4.columns"
   ],
   "metadata": {
    "collapsed": false
   }
  },
  {
   "cell_type": "code",
   "execution_count": 132,
   "outputs": [],
   "source": [
    "df = df4  # last updated df\n",
    "os.makedirs('db_files', exist_ok=True)\n",
    "df.to_csv('db_files/db_cleaned.csv')"
   ],
   "metadata": {
    "collapsed": false
   }
  }
 ],
 "metadata": {
  "kernelspec": {
   "display_name": "Python 3",
   "language": "python",
   "name": "python3"
  },
  "language_info": {
   "codemirror_mode": {
    "name": "ipython",
    "version": 2
   },
   "file_extension": ".py",
   "mimetype": "text/x-python",
   "name": "python",
   "nbconvert_exporter": "python",
   "pygments_lexer": "ipython2",
   "version": "2.7.6"
  }
 },
 "nbformat": 4,
 "nbformat_minor": 0
}
