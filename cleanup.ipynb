{
 "cells": [
  {
   "cell_type": "markdown",
   "source": [
    "This notebook is useful only if the imdb extracted .tsv files are saved in db_files folder"
   ],
   "metadata": {
    "collapsed": false,
    "pycharm": {
     "name": "#%% md\n"
    }
   }
  },
  {
   "cell_type": "markdown",
   "source": [
    "**Loading data from original Dataset**\n",
    "\n",
    "Here we take the original files extracted from [imdb api](\"https://www.imdb.com/interfaces/\") which are huge (35M entries just one of the six tables)\n",
    "\n",
    "Entries in title_akas are indexed by *\"titleId\"*, this is the foreign key index for\n",
    "all other tables about titles, which are indexed by *\"tconst\"*\n",
    "\n",
    "we select entries where region == US\n",
    "we select entries where rating is not null\n",
    "\n"
   ],
   "metadata": {
    "collapsed": false,
    "pycharm": {
     "name": "#%% md\n"
    }
   }
  },
  {
   "cell_type": "code",
   "execution_count": 2,
   "outputs": [
    {
     "name": "stderr",
     "output_type": "stream",
     "text": [
      "C:\\Users\\Lorenzo\\AppData\\Local\\Temp\\ipykernel_22424\\122432313.py:4: DtypeWarning: Columns (7) have mixed types. Specify dtype option on import or set low_memory=False.\n",
      "  title_akas = pd.read_table(\"db_files/title_akas.tsv\")\n",
      "C:\\Users\\Lorenzo\\AppData\\Local\\Temp\\ipykernel_22424\\122432313.py:5: DtypeWarning: Columns (4) have mixed types. Specify dtype option on import or set low_memory=False.\n",
      "  title_basic = pd.read_table(\"db_files/title_basic.tsv\")\n"
     ]
    }
   ],
   "source": [
    "import pandas as pd\n",
    "# loading three tables\n",
    "title_akas = pd.read_table(\"db_files/title_akas.tsv\")\n",
    "title_basic = pd.read_table(\"db_files/title_basic.tsv\")\n",
    "title_ratings = pd.read_table(\"db_files/title_ratings.tsv\")"
   ],
   "metadata": {
    "collapsed": false,
    "pycharm": {
     "name": "#%%\n"
    }
   }
  },
  {
   "cell_type": "code",
   "execution_count": 3,
   "outputs": [
    {
     "name": "stdout",
     "output_type": "stream",
     "text": [
      "<class 'pandas.core.frame.DataFrame'>\n",
      "Int64Index: 1417215 entries, 5 to 35065524\n",
      "Data columns (total 8 columns):\n",
      " #   Column           Non-Null Count    Dtype \n",
      "---  ------           --------------    ----- \n",
      " 0   titleId          1417215 non-null  object\n",
      " 1   ordering         1417215 non-null  int64 \n",
      " 2   title            1417215 non-null  object\n",
      " 3   region           1417215 non-null  object\n",
      " 4   language         1417215 non-null  object\n",
      " 5   types            1417215 non-null  object\n",
      " 6   attributes       1417215 non-null  object\n",
      " 7   isOriginalTitle  1417215 non-null  object\n",
      "dtypes: int64(1), object(7)\n",
      "memory usage: 97.3+ MB\n"
     ]
    }
   ],
   "source": [
    "# filter entries where region == US\n",
    "def filter_us(table):\n",
    "    return table[table.region == 'US']\n",
    "\n",
    "title_akas = filter_us(title_akas)\n",
    "title_akas.info()"
   ],
   "metadata": {
    "collapsed": false,
    "pycharm": {
     "name": "#%%\n"
    }
   }
  },
  {
   "cell_type": "code",
   "execution_count": 4,
   "outputs": [
    {
     "name": "stdout",
     "output_type": "stream",
     "text": [
      "<class 'pandas.core.frame.DataFrame'>\n",
      "Int64Index: 1332407 entries, 0 to 9646975\n",
      "Data columns (total 9 columns):\n",
      " #   Column          Non-Null Count    Dtype \n",
      "---  ------          --------------    ----- \n",
      " 0   tconst          1332407 non-null  object\n",
      " 1   titleType       1332407 non-null  object\n",
      " 2   primaryTitle    1332407 non-null  object\n",
      " 3   originalTitle   1332407 non-null  object\n",
      " 4   isAdult         1332407 non-null  object\n",
      " 5   startYear       1332407 non-null  object\n",
      " 6   endYear         1332407 non-null  object\n",
      " 7   runtimeMinutes  1332407 non-null  object\n",
      " 8   genres          1332407 non-null  object\n",
      "dtypes: object(9)\n",
      "memory usage: 101.7+ MB\n"
     ]
    }
   ],
   "source": [
    "# gather entries from title_akas indexed by titleId and select matching entries from title_basic table\n",
    "title_basic = title_basic.loc[title_basic['tconst'].isin(title_akas.titleId)]\n",
    "title_basic.info()"
   ],
   "metadata": {
    "collapsed": false,
    "pycharm": {
     "name": "#%%\n"
    }
   }
  },
  {
   "cell_type": "code",
   "execution_count": 5,
   "outputs": [
    {
     "name": "stdout",
     "output_type": "stream",
     "text": [
      "<class 'pandas.core.frame.DataFrame'>\n",
      "Int64Index: 490253 entries, 0 to 1283429\n",
      "Data columns (total 3 columns):\n",
      " #   Column         Non-Null Count   Dtype  \n",
      "---  ------         --------------   -----  \n",
      " 0   tconst         490253 non-null  object \n",
      " 1   averageRating  490253 non-null  float64\n",
      " 2   numVotes       490253 non-null  int64  \n",
      "dtypes: float64(1), int64(1), object(1)\n",
      "memory usage: 15.0+ MB\n"
     ]
    }
   ],
   "source": [
    "# gather entries from title_akas indexed by titleId and select matching entries from title_ratings table\n",
    "title_ratings = title_ratings.loc[title_ratings['tconst'].isin(title_akas.titleId)]\n",
    "title_ratings.info()"
   ],
   "metadata": {
    "collapsed": false,
    "pycharm": {
     "name": "#%%\n"
    }
   }
  },
  {
   "cell_type": "code",
   "execution_count": 6,
   "outputs": [
    {
     "name": "stdout",
     "output_type": "stream",
     "text": [
      "<class 'pandas.core.frame.DataFrame'>\n",
      "Index: 1417215 entries, tt0000001 to tt9916764\n",
      "Data columns (total 17 columns):\n",
      " #   Column           Non-Null Count    Dtype  \n",
      "---  ------           --------------    -----  \n",
      " 0   ordering         1417215 non-null  int64  \n",
      " 1   title            1417215 non-null  object \n",
      " 2   region           1417215 non-null  object \n",
      " 3   language         1417215 non-null  object \n",
      " 4   types            1417215 non-null  object \n",
      " 5   attributes       1417215 non-null  object \n",
      " 6   isOriginalTitle  1417215 non-null  object \n",
      " 7   averageRating    545675 non-null   float64\n",
      " 8   numVotes         545675 non-null   float64\n",
      " 9   titleType        1413853 non-null  object \n",
      " 10  primaryTitle     1413853 non-null  object \n",
      " 11  originalTitle    1413853 non-null  object \n",
      " 12  isAdult          1413853 non-null  object \n",
      " 13  startYear        1413853 non-null  object \n",
      " 14  endYear          1413853 non-null  object \n",
      " 15  runtimeMinutes   1413853 non-null  object \n",
      " 16  genres           1413853 non-null  object \n",
      "dtypes: float64(2), int64(1), object(14)\n",
      "memory usage: 194.6+ MB\n"
     ]
    }
   ],
   "source": [
    "# join the three tables with index the new generated index (tt0000001 to tt9916764) result of match between titleId and tconst\n",
    "df = title_akas.set_index(\"titleId\").join(title_ratings.set_index(\"tconst\")).join(title_basic.set_index(\"tconst\"))\n",
    "df.info()"
   ],
   "metadata": {
    "collapsed": false,
    "pycharm": {
     "name": "#%%\n"
    }
   }
  },
  {
   "cell_type": "code",
   "execution_count": 7,
   "outputs": [
    {
     "data": {
      "text/plain": "           ordering                                              title region  \\\ntt0000001         6                                         Carmencita     US   \ntt0000002         7                             The Clown and His Dogs     US   \ntt0000005        10                                   Blacksmith Scene     US   \ntt0000005         1                                Blacksmithing Scene     US   \ntt0000005         6                                Blacksmith Scene #1     US   \ntt0000005         7                                      Blacksmithing     US   \ntt0000006         3                                  Chinese Opium Den     US   \ntt0000007         1        Corbett and Courtney Before the Kinetograph     US   \ntt0000007         5                         The Corbett-Courtney Fight     US   \ntt0000007         6                     Jim Corbett vs. Peter Courtney     US   \ntt0000008         3  Edison Kinetoscopic Record of a Sneeze, Januar...     US   \ntt0000008         4             Edison Kinetoscopic Record of a Sneeze     US   \ntt0000008         8  The Films of Thomas A Edison presented by Raym...     US   \ntt0000009         5                                         Miss Jerry     US   \ntt0000010        16                                Exiting the Factory     US   \ntt0000010        21                                Leaving the Factory     US   \ntt0000010         3              Employees Leaving the Lumière Factory     US   \ntt0000010         8                Workers Leaving the Lumière Factory     US   \ntt0000012         1                             The Arrival of a Train     US   \ntt0000012         3                      The Arrival of the Mail Train     US   \ntt0000013         7        The Photographical Congress Arrives in Lyon     US   \ntt0000014        11                                The Sprayer Sprayed     US   \ntt0000014        15                                The Waterer Watered     US   \ntt0000014         1                            The Sprinkler Sprinkled     US   \ntt0000014         2                      Tables Turned on the Gardener     US   \ntt0000015         3                               Around a Bathing Hut     US   \ntt0000016         8                              Boat Leaving the Port     US   \ntt0000022         1                                    The Blacksmiths     US   \ntt0000022         7                                   Blacksmith Scene     US   \ntt0000023         5                                            The Sea     US   \ntt0000026         5                      The Messers. Lumière at Cards     US   \ntt0000027         3                         Cordeliers' Square in Lyon     US   \ntt0000028         9                               Fishing for Goldfish     US   \ntt0000029         1                                      Baby's Dinner     US   \ntt0000029        24                                       Baby's Lunch     US   \ntt0000029         2                                   Feeding the Baby     US   \ntt0000029         9                                        Baby's Meal     US   \ntt0000031         7                                Jumping the Blanket     US   \ntt0000033        10                                       Trick Riding     US   \ntt0000033         8                                 Horse Trick Riders     US   \ntt0000035         5                               Watering the Flowers     US   \ntt0000036         1                                   Awakening of Rip     US   \ntt0000037         2                                        Sea Bathing     US   \ntt0000038         2                                      The Ball Game     US   \ntt0000040         1               Boat Leaving the Harbor at Trouville     US   \ntt0000041         1                                     Snowball Fight     US   \ntt0000045         4                                    The Washerwomen     US   \ntt0000048         1                                The Boxing Kangaroo     US   \ntt0000050         3                               Baby and Young Girls     US   \ntt0000051         1                            The Bohemian Encampment     US   \n\n          language        types                  attributes isOriginalTitle  \\\ntt0000001       \\N  imdbDisplay                          \\N               0   \ntt0000002       \\N           \\N       literal English title               0   \ntt0000005       \\N  imdbDisplay                          \\N               0   \ntt0000005       \\N  alternative                          \\N               0   \ntt0000005       \\N  alternative                          \\N               0   \ntt0000005       \\N           \\N  informal alternative title               0   \ntt0000006       \\N  imdbDisplay                          \\N               0   \ntt0000007       \\N  imdbDisplay                          \\N               0   \ntt0000007       \\N  alternative                          \\N               0   \ntt0000007       \\N  alternative                          \\N               0   \ntt0000008       \\N           \\N              complete title               0   \ntt0000008       \\N  imdbDisplay                          \\N               0   \ntt0000008       \\N           \\N               reissue title               0   \ntt0000009       \\N  imdbDisplay                          \\N               0   \ntt0000010       \\N  imdbDisplay                          \\N               0   \ntt0000010       \\N  imdbDisplay                          \\N               0   \ntt0000010       \\N  alternative                          \\N               0   \ntt0000010       \\N  imdbDisplay                          \\N               0   \ntt0000012       \\N  imdbDisplay                          \\N               0   \ntt0000012       \\N  alternative                          \\N               0   \ntt0000013       \\N  imdbDisplay                          \\N               0   \ntt0000014       \\N  alternative                          \\N               0   \ntt0000014       \\N  imdbDisplay                          \\N               0   \ntt0000014       \\N  imdbDisplay                          \\N               0   \ntt0000014       \\N  alternative                          \\N               0   \ntt0000015       \\N           \\N       literal English title               0   \ntt0000016       \\N  imdbDisplay                          \\N               0   \ntt0000022       \\N           \\N       literal English title               0   \ntt0000022       \\N           \\N                          \\N               0   \ntt0000023       \\N  imdbDisplay                          \\N               0   \ntt0000026       \\N           \\N                          \\N               0   \ntt0000027       \\N  imdbDisplay                          \\N               0   \ntt0000028       \\N  imdbDisplay                          \\N               0   \ntt0000029       \\N           \\N                          \\N               0   \ntt0000029       \\N           \\N       original script title               0   \ntt0000029       \\N           \\N                          \\N               0   \ntt0000029       \\N  imdbDisplay                          \\N               0   \ntt0000031       \\N  imdbDisplay                          \\N               0   \ntt0000033       \\N           \\N                          \\N               0   \ntt0000033       \\N  imdbDisplay                          \\N               0   \ntt0000035       \\N           \\N                          \\N               0   \ntt0000036       \\N  imdbDisplay                          \\N               0   \ntt0000037       \\N  imdbDisplay                          \\N               0   \ntt0000038       \\N  imdbDisplay                          \\N               0   \ntt0000040       \\N           \\N       literal English title               0   \ntt0000041       \\N           \\N      informal English title               0   \ntt0000045       \\N           \\N       literal English title               0   \ntt0000048       \\N  imdbDisplay                          \\N               0   \ntt0000050       \\N           \\N       literal English title               0   \ntt0000051       \\N           \\N                          \\N               0   \n\n           averageRating  numVotes titleType  \\\ntt0000001            5.7    1955.0     short   \ntt0000002            5.8     263.0     short   \ntt0000005            6.2    2591.0     short   \ntt0000005            6.2    2591.0     short   \ntt0000005            6.2    2591.0     short   \ntt0000005            6.2    2591.0     short   \ntt0000006            5.1     177.0     short   \ntt0000007            5.4     812.0     short   \ntt0000007            5.4     812.0     short   \ntt0000007            5.4     812.0     short   \ntt0000008            5.4    2096.0     short   \ntt0000008            5.4    2096.0     short   \ntt0000008            5.4    2096.0     short   \ntt0000009            5.3     204.0     movie   \ntt0000010            6.9    7072.0     short   \ntt0000010            6.9    7072.0     short   \ntt0000010            6.9    7072.0     short   \ntt0000010            6.9    7072.0     short   \ntt0000012            7.4   12111.0     short   \ntt0000012            7.4   12111.0     short   \ntt0000013            5.7    1867.0     short   \ntt0000014            7.1    5446.0     short   \ntt0000014            7.1    5446.0     short   \ntt0000014            7.1    5446.0     short   \ntt0000014            7.1    5446.0     short   \ntt0000015            6.2    1069.0     short   \ntt0000016            5.9    1485.0     short   \ntt0000022            5.1    1087.0     short   \ntt0000022            5.1    1087.0     short   \ntt0000023            5.7    1424.0     short   \ntt0000026            5.6    1527.0     short   \ntt0000027            5.6    1144.0     short   \ntt0000028            5.1    1071.0     short   \ntt0000029            5.9    3327.0     short   \ntt0000029            5.9    3327.0     short   \ntt0000029            5.9    3327.0     short   \ntt0000029            5.9    3327.0     short   \ntt0000031            5.5     998.0     short   \ntt0000033            5.5    1027.0     short   \ntt0000033            5.5    1027.0     short   \ntt0000035            5.6      82.0     short   \ntt0000036            4.4     603.0     short   \ntt0000037            4.3      68.0     short   \ntt0000038            4.2     199.0     short   \ntt0000040            4.0      66.0     short   \ntt0000041            6.7    1838.0     short   \ntt0000045            3.8      35.0     short   \ntt0000048            4.8     198.0     short   \ntt0000050            3.9      36.0     short   \ntt0000051            3.4      37.0     short   \n\n                                          primaryTitle  \\\ntt0000001                                   Carmencita   \ntt0000002                       Le clown et ses chiens   \ntt0000005                             Blacksmith Scene   \ntt0000005                             Blacksmith Scene   \ntt0000005                             Blacksmith Scene   \ntt0000005                             Blacksmith Scene   \ntt0000006                            Chinese Opium Den   \ntt0000007  Corbett and Courtney Before the Kinetograph   \ntt0000007  Corbett and Courtney Before the Kinetograph   \ntt0000007  Corbett and Courtney Before the Kinetograph   \ntt0000008       Edison Kinetoscopic Record of a Sneeze   \ntt0000008       Edison Kinetoscopic Record of a Sneeze   \ntt0000008       Edison Kinetoscopic Record of a Sneeze   \ntt0000009                                   Miss Jerry   \ntt0000010                          Leaving the Factory   \ntt0000010                          Leaving the Factory   \ntt0000010                          Leaving the Factory   \ntt0000010                          Leaving the Factory   \ntt0000012                       The Arrival of a Train   \ntt0000012                       The Arrival of a Train   \ntt0000013  The Photographical Congress Arrives in Lyon   \ntt0000014                          The Waterer Watered   \ntt0000014                          The Waterer Watered   \ntt0000014                          The Waterer Watered   \ntt0000014                          The Waterer Watered   \ntt0000015                          Autour d'une cabine   \ntt0000016                        Boat Leaving the Port   \ntt0000022                             Blacksmith Scene   \ntt0000022                             Blacksmith Scene   \ntt0000023                                      The Sea   \ntt0000026                The Messers. Lumière at Cards   \ntt0000027                   Cordeliers' Square in Lyon   \ntt0000028                         Fishing for Goldfish   \ntt0000029                                  Baby's Meal   \ntt0000029                                  Baby's Meal   \ntt0000029                                  Baby's Meal   \ntt0000029                                  Baby's Meal   \ntt0000031                          Jumping the Blanket   \ntt0000033                           Horse Trick Riders   \ntt0000033                           Horse Trick Riders   \ntt0000035                         Watering the Flowers   \ntt0000036                             Awakening of Rip   \ntt0000037                                  Sea Bathing   \ntt0000038                                The Ball Game   \ntt0000040          Barque sortant du port de Trouville   \ntt0000041                            Bataille de neige   \ntt0000045                           Les blanchisseuses   \ntt0000048                          The Boxing Kangaroo   \ntt0000050                            Bébé et fillettes   \ntt0000051                      The Bohemian Encampment   \n\n                                               originalTitle isAdult  \\\ntt0000001                                         Carmencita       0   \ntt0000002                             Le clown et ses chiens       0   \ntt0000005                                   Blacksmith Scene       0   \ntt0000005                                   Blacksmith Scene       0   \ntt0000005                                   Blacksmith Scene       0   \ntt0000005                                   Blacksmith Scene       0   \ntt0000006                                  Chinese Opium Den       0   \ntt0000007        Corbett and Courtney Before the Kinetograph       0   \ntt0000007        Corbett and Courtney Before the Kinetograph       0   \ntt0000007        Corbett and Courtney Before the Kinetograph       0   \ntt0000008             Edison Kinetoscopic Record of a Sneeze       0   \ntt0000008             Edison Kinetoscopic Record of a Sneeze       0   \ntt0000008             Edison Kinetoscopic Record of a Sneeze       0   \ntt0000009                                         Miss Jerry       0   \ntt0000010                La sortie de l'usine Lumière à Lyon       0   \ntt0000010                La sortie de l'usine Lumière à Lyon       0   \ntt0000010                La sortie de l'usine Lumière à Lyon       0   \ntt0000010                La sortie de l'usine Lumière à Lyon       0   \ntt0000012                   L'arrivée d'un train à La Ciotat       0   \ntt0000012                   L'arrivée d'un train à La Ciotat       0   \ntt0000013  Le débarquement du congrès de photographie à Lyon       0   \ntt0000014                                  L'arroseur arrosé       0   \ntt0000014                                  L'arroseur arrosé       0   \ntt0000014                                  L'arroseur arrosé       0   \ntt0000014                                  L'arroseur arrosé       0   \ntt0000015                                Autour d'une cabine       0   \ntt0000016                             Barque sortant du port       0   \ntt0000022                                      Les forgerons       0   \ntt0000022                                      Les forgerons       0   \ntt0000023                                    Baignade en mer       0   \ntt0000026                                    Partie d'écarté       0   \ntt0000027                        Place des Cordeliers à Lyon       0   \ntt0000028                       La pêche aux poissons rouges       0   \ntt0000029                                      Repas de bébé       0   \ntt0000029                                      Repas de bébé       0   \ntt0000029                                      Repas de bébé       0   \ntt0000029                                      Repas de bébé       0   \ntt0000031                            Le saut à la couverture       0   \ntt0000033                                         La voltige       0   \ntt0000033                                         La voltige       0   \ntt0000035                                         L'arroseur       0   \ntt0000036                                   Awakening of Rip       0   \ntt0000037                                    Baignade en mer       0   \ntt0000038                                      The Ball Game       0   \ntt0000040                Barque sortant du port de Trouville       0   \ntt0000041                                  Bataille de neige       0   \ntt0000045                                 Les blanchisseuses       0   \ntt0000048                                The Boxing Kangaroo       0   \ntt0000050                                  Bébé et fillettes       0   \ntt0000051                             Campement de bohémiens       0   \n\n          startYear endYear runtimeMinutes                    genres  \ntt0000001      1894      \\N              1         Documentary,Short  \ntt0000002      1892      \\N              5           Animation,Short  \ntt0000005      1893      \\N              1              Comedy,Short  \ntt0000005      1893      \\N              1              Comedy,Short  \ntt0000005      1893      \\N              1              Comedy,Short  \ntt0000005      1893      \\N              1              Comedy,Short  \ntt0000006      1894      \\N              1                     Short  \ntt0000007      1894      \\N              1               Short,Sport  \ntt0000007      1894      \\N              1               Short,Sport  \ntt0000007      1894      \\N              1               Short,Sport  \ntt0000008      1894      \\N              1         Documentary,Short  \ntt0000008      1894      \\N              1         Documentary,Short  \ntt0000008      1894      \\N              1         Documentary,Short  \ntt0000009      1894      \\N             45                   Romance  \ntt0000010      1895      \\N              1         Documentary,Short  \ntt0000010      1895      \\N              1         Documentary,Short  \ntt0000010      1895      \\N              1         Documentary,Short  \ntt0000010      1895      \\N              1         Documentary,Short  \ntt0000012      1896      \\N              1         Documentary,Short  \ntt0000012      1896      \\N              1         Documentary,Short  \ntt0000013      1895      \\N              1         Documentary,Short  \ntt0000014      1895      \\N              1              Comedy,Short  \ntt0000014      1895      \\N              1              Comedy,Short  \ntt0000014      1895      \\N              1              Comedy,Short  \ntt0000014      1895      \\N              1              Comedy,Short  \ntt0000015      1894      \\N              2           Animation,Short  \ntt0000016      1895      \\N              1         Documentary,Short  \ntt0000022      1895      \\N              1         Documentary,Short  \ntt0000022      1895      \\N              1         Documentary,Short  \ntt0000023      1895      \\N              1         Documentary,Short  \ntt0000026      1896      \\N              1         Documentary,Short  \ntt0000027      1895      \\N              1         Documentary,Short  \ntt0000028      1895      \\N              1         Documentary,Short  \ntt0000029      1895      \\N              1         Documentary,Short  \ntt0000029      1895      \\N              1         Documentary,Short  \ntt0000029      1895      \\N              1         Documentary,Short  \ntt0000029      1895      \\N              1         Documentary,Short  \ntt0000031      1895      \\N              1         Documentary,Short  \ntt0000033      1895      \\N              1  Comedy,Documentary,Short  \ntt0000033      1895      \\N              1  Comedy,Documentary,Short  \ntt0000035      1896      \\N              1              Comedy,Short  \ntt0000036      1896      \\N              0               Drama,Short  \ntt0000037      1896      \\N              1                     Short  \ntt0000038      1898      \\N             \\N   Documentary,Short,Sport  \ntt0000040      1896      \\N             \\N         Documentary,Short  \ntt0000041      1897      \\N              1  Comedy,Documentary,Short  \ntt0000045      1896      \\N             \\N                     Short  \ntt0000048      1896      \\N             \\N                     Short  \ntt0000050      1896      \\N             \\N         Documentary,Short  \ntt0000051      1896      \\N             \\N         Documentary,Short  ",
      "text/html": "<div>\n<style scoped>\n    .dataframe tbody tr th:only-of-type {\n        vertical-align: middle;\n    }\n\n    .dataframe tbody tr th {\n        vertical-align: top;\n    }\n\n    .dataframe thead th {\n        text-align: right;\n    }\n</style>\n<table border=\"1\" class=\"dataframe\">\n  <thead>\n    <tr style=\"text-align: right;\">\n      <th></th>\n      <th>ordering</th>\n      <th>title</th>\n      <th>region</th>\n      <th>language</th>\n      <th>types</th>\n      <th>attributes</th>\n      <th>isOriginalTitle</th>\n      <th>averageRating</th>\n      <th>numVotes</th>\n      <th>titleType</th>\n      <th>primaryTitle</th>\n      <th>originalTitle</th>\n      <th>isAdult</th>\n      <th>startYear</th>\n      <th>endYear</th>\n      <th>runtimeMinutes</th>\n      <th>genres</th>\n    </tr>\n  </thead>\n  <tbody>\n    <tr>\n      <th>tt0000001</th>\n      <td>6</td>\n      <td>Carmencita</td>\n      <td>US</td>\n      <td>\\N</td>\n      <td>imdbDisplay</td>\n      <td>\\N</td>\n      <td>0</td>\n      <td>5.7</td>\n      <td>1955.0</td>\n      <td>short</td>\n      <td>Carmencita</td>\n      <td>Carmencita</td>\n      <td>0</td>\n      <td>1894</td>\n      <td>\\N</td>\n      <td>1</td>\n      <td>Documentary,Short</td>\n    </tr>\n    <tr>\n      <th>tt0000002</th>\n      <td>7</td>\n      <td>The Clown and His Dogs</td>\n      <td>US</td>\n      <td>\\N</td>\n      <td>\\N</td>\n      <td>literal English title</td>\n      <td>0</td>\n      <td>5.8</td>\n      <td>263.0</td>\n      <td>short</td>\n      <td>Le clown et ses chiens</td>\n      <td>Le clown et ses chiens</td>\n      <td>0</td>\n      <td>1892</td>\n      <td>\\N</td>\n      <td>5</td>\n      <td>Animation,Short</td>\n    </tr>\n    <tr>\n      <th>tt0000005</th>\n      <td>10</td>\n      <td>Blacksmith Scene</td>\n      <td>US</td>\n      <td>\\N</td>\n      <td>imdbDisplay</td>\n      <td>\\N</td>\n      <td>0</td>\n      <td>6.2</td>\n      <td>2591.0</td>\n      <td>short</td>\n      <td>Blacksmith Scene</td>\n      <td>Blacksmith Scene</td>\n      <td>0</td>\n      <td>1893</td>\n      <td>\\N</td>\n      <td>1</td>\n      <td>Comedy,Short</td>\n    </tr>\n    <tr>\n      <th>tt0000005</th>\n      <td>1</td>\n      <td>Blacksmithing Scene</td>\n      <td>US</td>\n      <td>\\N</td>\n      <td>alternative</td>\n      <td>\\N</td>\n      <td>0</td>\n      <td>6.2</td>\n      <td>2591.0</td>\n      <td>short</td>\n      <td>Blacksmith Scene</td>\n      <td>Blacksmith Scene</td>\n      <td>0</td>\n      <td>1893</td>\n      <td>\\N</td>\n      <td>1</td>\n      <td>Comedy,Short</td>\n    </tr>\n    <tr>\n      <th>tt0000005</th>\n      <td>6</td>\n      <td>Blacksmith Scene #1</td>\n      <td>US</td>\n      <td>\\N</td>\n      <td>alternative</td>\n      <td>\\N</td>\n      <td>0</td>\n      <td>6.2</td>\n      <td>2591.0</td>\n      <td>short</td>\n      <td>Blacksmith Scene</td>\n      <td>Blacksmith Scene</td>\n      <td>0</td>\n      <td>1893</td>\n      <td>\\N</td>\n      <td>1</td>\n      <td>Comedy,Short</td>\n    </tr>\n    <tr>\n      <th>tt0000005</th>\n      <td>7</td>\n      <td>Blacksmithing</td>\n      <td>US</td>\n      <td>\\N</td>\n      <td>\\N</td>\n      <td>informal alternative title</td>\n      <td>0</td>\n      <td>6.2</td>\n      <td>2591.0</td>\n      <td>short</td>\n      <td>Blacksmith Scene</td>\n      <td>Blacksmith Scene</td>\n      <td>0</td>\n      <td>1893</td>\n      <td>\\N</td>\n      <td>1</td>\n      <td>Comedy,Short</td>\n    </tr>\n    <tr>\n      <th>tt0000006</th>\n      <td>3</td>\n      <td>Chinese Opium Den</td>\n      <td>US</td>\n      <td>\\N</td>\n      <td>imdbDisplay</td>\n      <td>\\N</td>\n      <td>0</td>\n      <td>5.1</td>\n      <td>177.0</td>\n      <td>short</td>\n      <td>Chinese Opium Den</td>\n      <td>Chinese Opium Den</td>\n      <td>0</td>\n      <td>1894</td>\n      <td>\\N</td>\n      <td>1</td>\n      <td>Short</td>\n    </tr>\n    <tr>\n      <th>tt0000007</th>\n      <td>1</td>\n      <td>Corbett and Courtney Before the Kinetograph</td>\n      <td>US</td>\n      <td>\\N</td>\n      <td>imdbDisplay</td>\n      <td>\\N</td>\n      <td>0</td>\n      <td>5.4</td>\n      <td>812.0</td>\n      <td>short</td>\n      <td>Corbett and Courtney Before the Kinetograph</td>\n      <td>Corbett and Courtney Before the Kinetograph</td>\n      <td>0</td>\n      <td>1894</td>\n      <td>\\N</td>\n      <td>1</td>\n      <td>Short,Sport</td>\n    </tr>\n    <tr>\n      <th>tt0000007</th>\n      <td>5</td>\n      <td>The Corbett-Courtney Fight</td>\n      <td>US</td>\n      <td>\\N</td>\n      <td>alternative</td>\n      <td>\\N</td>\n      <td>0</td>\n      <td>5.4</td>\n      <td>812.0</td>\n      <td>short</td>\n      <td>Corbett and Courtney Before the Kinetograph</td>\n      <td>Corbett and Courtney Before the Kinetograph</td>\n      <td>0</td>\n      <td>1894</td>\n      <td>\\N</td>\n      <td>1</td>\n      <td>Short,Sport</td>\n    </tr>\n    <tr>\n      <th>tt0000007</th>\n      <td>6</td>\n      <td>Jim Corbett vs. Peter Courtney</td>\n      <td>US</td>\n      <td>\\N</td>\n      <td>alternative</td>\n      <td>\\N</td>\n      <td>0</td>\n      <td>5.4</td>\n      <td>812.0</td>\n      <td>short</td>\n      <td>Corbett and Courtney Before the Kinetograph</td>\n      <td>Corbett and Courtney Before the Kinetograph</td>\n      <td>0</td>\n      <td>1894</td>\n      <td>\\N</td>\n      <td>1</td>\n      <td>Short,Sport</td>\n    </tr>\n    <tr>\n      <th>tt0000008</th>\n      <td>3</td>\n      <td>Edison Kinetoscopic Record of a Sneeze, Januar...</td>\n      <td>US</td>\n      <td>\\N</td>\n      <td>\\N</td>\n      <td>complete title</td>\n      <td>0</td>\n      <td>5.4</td>\n      <td>2096.0</td>\n      <td>short</td>\n      <td>Edison Kinetoscopic Record of a Sneeze</td>\n      <td>Edison Kinetoscopic Record of a Sneeze</td>\n      <td>0</td>\n      <td>1894</td>\n      <td>\\N</td>\n      <td>1</td>\n      <td>Documentary,Short</td>\n    </tr>\n    <tr>\n      <th>tt0000008</th>\n      <td>4</td>\n      <td>Edison Kinetoscopic Record of a Sneeze</td>\n      <td>US</td>\n      <td>\\N</td>\n      <td>imdbDisplay</td>\n      <td>\\N</td>\n      <td>0</td>\n      <td>5.4</td>\n      <td>2096.0</td>\n      <td>short</td>\n      <td>Edison Kinetoscopic Record of a Sneeze</td>\n      <td>Edison Kinetoscopic Record of a Sneeze</td>\n      <td>0</td>\n      <td>1894</td>\n      <td>\\N</td>\n      <td>1</td>\n      <td>Documentary,Short</td>\n    </tr>\n    <tr>\n      <th>tt0000008</th>\n      <td>8</td>\n      <td>The Films of Thomas A Edison presented by Raym...</td>\n      <td>US</td>\n      <td>\\N</td>\n      <td>\\N</td>\n      <td>reissue title</td>\n      <td>0</td>\n      <td>5.4</td>\n      <td>2096.0</td>\n      <td>short</td>\n      <td>Edison Kinetoscopic Record of a Sneeze</td>\n      <td>Edison Kinetoscopic Record of a Sneeze</td>\n      <td>0</td>\n      <td>1894</td>\n      <td>\\N</td>\n      <td>1</td>\n      <td>Documentary,Short</td>\n    </tr>\n    <tr>\n      <th>tt0000009</th>\n      <td>5</td>\n      <td>Miss Jerry</td>\n      <td>US</td>\n      <td>\\N</td>\n      <td>imdbDisplay</td>\n      <td>\\N</td>\n      <td>0</td>\n      <td>5.3</td>\n      <td>204.0</td>\n      <td>movie</td>\n      <td>Miss Jerry</td>\n      <td>Miss Jerry</td>\n      <td>0</td>\n      <td>1894</td>\n      <td>\\N</td>\n      <td>45</td>\n      <td>Romance</td>\n    </tr>\n    <tr>\n      <th>tt0000010</th>\n      <td>16</td>\n      <td>Exiting the Factory</td>\n      <td>US</td>\n      <td>\\N</td>\n      <td>imdbDisplay</td>\n      <td>\\N</td>\n      <td>0</td>\n      <td>6.9</td>\n      <td>7072.0</td>\n      <td>short</td>\n      <td>Leaving the Factory</td>\n      <td>La sortie de l'usine Lumière à Lyon</td>\n      <td>0</td>\n      <td>1895</td>\n      <td>\\N</td>\n      <td>1</td>\n      <td>Documentary,Short</td>\n    </tr>\n    <tr>\n      <th>tt0000010</th>\n      <td>21</td>\n      <td>Leaving the Factory</td>\n      <td>US</td>\n      <td>\\N</td>\n      <td>imdbDisplay</td>\n      <td>\\N</td>\n      <td>0</td>\n      <td>6.9</td>\n      <td>7072.0</td>\n      <td>short</td>\n      <td>Leaving the Factory</td>\n      <td>La sortie de l'usine Lumière à Lyon</td>\n      <td>0</td>\n      <td>1895</td>\n      <td>\\N</td>\n      <td>1</td>\n      <td>Documentary,Short</td>\n    </tr>\n    <tr>\n      <th>tt0000010</th>\n      <td>3</td>\n      <td>Employees Leaving the Lumière Factory</td>\n      <td>US</td>\n      <td>\\N</td>\n      <td>alternative</td>\n      <td>\\N</td>\n      <td>0</td>\n      <td>6.9</td>\n      <td>7072.0</td>\n      <td>short</td>\n      <td>Leaving the Factory</td>\n      <td>La sortie de l'usine Lumière à Lyon</td>\n      <td>0</td>\n      <td>1895</td>\n      <td>\\N</td>\n      <td>1</td>\n      <td>Documentary,Short</td>\n    </tr>\n    <tr>\n      <th>tt0000010</th>\n      <td>8</td>\n      <td>Workers Leaving the Lumière Factory</td>\n      <td>US</td>\n      <td>\\N</td>\n      <td>imdbDisplay</td>\n      <td>\\N</td>\n      <td>0</td>\n      <td>6.9</td>\n      <td>7072.0</td>\n      <td>short</td>\n      <td>Leaving the Factory</td>\n      <td>La sortie de l'usine Lumière à Lyon</td>\n      <td>0</td>\n      <td>1895</td>\n      <td>\\N</td>\n      <td>1</td>\n      <td>Documentary,Short</td>\n    </tr>\n    <tr>\n      <th>tt0000012</th>\n      <td>1</td>\n      <td>The Arrival of a Train</td>\n      <td>US</td>\n      <td>\\N</td>\n      <td>imdbDisplay</td>\n      <td>\\N</td>\n      <td>0</td>\n      <td>7.4</td>\n      <td>12111.0</td>\n      <td>short</td>\n      <td>The Arrival of a Train</td>\n      <td>L'arrivée d'un train à La Ciotat</td>\n      <td>0</td>\n      <td>1896</td>\n      <td>\\N</td>\n      <td>1</td>\n      <td>Documentary,Short</td>\n    </tr>\n    <tr>\n      <th>tt0000012</th>\n      <td>3</td>\n      <td>The Arrival of the Mail Train</td>\n      <td>US</td>\n      <td>\\N</td>\n      <td>alternative</td>\n      <td>\\N</td>\n      <td>0</td>\n      <td>7.4</td>\n      <td>12111.0</td>\n      <td>short</td>\n      <td>The Arrival of a Train</td>\n      <td>L'arrivée d'un train à La Ciotat</td>\n      <td>0</td>\n      <td>1896</td>\n      <td>\\N</td>\n      <td>1</td>\n      <td>Documentary,Short</td>\n    </tr>\n    <tr>\n      <th>tt0000013</th>\n      <td>7</td>\n      <td>The Photographical Congress Arrives in Lyon</td>\n      <td>US</td>\n      <td>\\N</td>\n      <td>imdbDisplay</td>\n      <td>\\N</td>\n      <td>0</td>\n      <td>5.7</td>\n      <td>1867.0</td>\n      <td>short</td>\n      <td>The Photographical Congress Arrives in Lyon</td>\n      <td>Le débarquement du congrès de photographie à Lyon</td>\n      <td>0</td>\n      <td>1895</td>\n      <td>\\N</td>\n      <td>1</td>\n      <td>Documentary,Short</td>\n    </tr>\n    <tr>\n      <th>tt0000014</th>\n      <td>11</td>\n      <td>The Sprayer Sprayed</td>\n      <td>US</td>\n      <td>\\N</td>\n      <td>alternative</td>\n      <td>\\N</td>\n      <td>0</td>\n      <td>7.1</td>\n      <td>5446.0</td>\n      <td>short</td>\n      <td>The Waterer Watered</td>\n      <td>L'arroseur arrosé</td>\n      <td>0</td>\n      <td>1895</td>\n      <td>\\N</td>\n      <td>1</td>\n      <td>Comedy,Short</td>\n    </tr>\n    <tr>\n      <th>tt0000014</th>\n      <td>15</td>\n      <td>The Waterer Watered</td>\n      <td>US</td>\n      <td>\\N</td>\n      <td>imdbDisplay</td>\n      <td>\\N</td>\n      <td>0</td>\n      <td>7.1</td>\n      <td>5446.0</td>\n      <td>short</td>\n      <td>The Waterer Watered</td>\n      <td>L'arroseur arrosé</td>\n      <td>0</td>\n      <td>1895</td>\n      <td>\\N</td>\n      <td>1</td>\n      <td>Comedy,Short</td>\n    </tr>\n    <tr>\n      <th>tt0000014</th>\n      <td>1</td>\n      <td>The Sprinkler Sprinkled</td>\n      <td>US</td>\n      <td>\\N</td>\n      <td>imdbDisplay</td>\n      <td>\\N</td>\n      <td>0</td>\n      <td>7.1</td>\n      <td>5446.0</td>\n      <td>short</td>\n      <td>The Waterer Watered</td>\n      <td>L'arroseur arrosé</td>\n      <td>0</td>\n      <td>1895</td>\n      <td>\\N</td>\n      <td>1</td>\n      <td>Comedy,Short</td>\n    </tr>\n    <tr>\n      <th>tt0000014</th>\n      <td>2</td>\n      <td>Tables Turned on the Gardener</td>\n      <td>US</td>\n      <td>\\N</td>\n      <td>alternative</td>\n      <td>\\N</td>\n      <td>0</td>\n      <td>7.1</td>\n      <td>5446.0</td>\n      <td>short</td>\n      <td>The Waterer Watered</td>\n      <td>L'arroseur arrosé</td>\n      <td>0</td>\n      <td>1895</td>\n      <td>\\N</td>\n      <td>1</td>\n      <td>Comedy,Short</td>\n    </tr>\n    <tr>\n      <th>tt0000015</th>\n      <td>3</td>\n      <td>Around a Bathing Hut</td>\n      <td>US</td>\n      <td>\\N</td>\n      <td>\\N</td>\n      <td>literal English title</td>\n      <td>0</td>\n      <td>6.2</td>\n      <td>1069.0</td>\n      <td>short</td>\n      <td>Autour d'une cabine</td>\n      <td>Autour d'une cabine</td>\n      <td>0</td>\n      <td>1894</td>\n      <td>\\N</td>\n      <td>2</td>\n      <td>Animation,Short</td>\n    </tr>\n    <tr>\n      <th>tt0000016</th>\n      <td>8</td>\n      <td>Boat Leaving the Port</td>\n      <td>US</td>\n      <td>\\N</td>\n      <td>imdbDisplay</td>\n      <td>\\N</td>\n      <td>0</td>\n      <td>5.9</td>\n      <td>1485.0</td>\n      <td>short</td>\n      <td>Boat Leaving the Port</td>\n      <td>Barque sortant du port</td>\n      <td>0</td>\n      <td>1895</td>\n      <td>\\N</td>\n      <td>1</td>\n      <td>Documentary,Short</td>\n    </tr>\n    <tr>\n      <th>tt0000022</th>\n      <td>1</td>\n      <td>The Blacksmiths</td>\n      <td>US</td>\n      <td>\\N</td>\n      <td>\\N</td>\n      <td>literal English title</td>\n      <td>0</td>\n      <td>5.1</td>\n      <td>1087.0</td>\n      <td>short</td>\n      <td>Blacksmith Scene</td>\n      <td>Les forgerons</td>\n      <td>0</td>\n      <td>1895</td>\n      <td>\\N</td>\n      <td>1</td>\n      <td>Documentary,Short</td>\n    </tr>\n    <tr>\n      <th>tt0000022</th>\n      <td>7</td>\n      <td>Blacksmith Scene</td>\n      <td>US</td>\n      <td>\\N</td>\n      <td>\\N</td>\n      <td>\\N</td>\n      <td>0</td>\n      <td>5.1</td>\n      <td>1087.0</td>\n      <td>short</td>\n      <td>Blacksmith Scene</td>\n      <td>Les forgerons</td>\n      <td>0</td>\n      <td>1895</td>\n      <td>\\N</td>\n      <td>1</td>\n      <td>Documentary,Short</td>\n    </tr>\n    <tr>\n      <th>tt0000023</th>\n      <td>5</td>\n      <td>The Sea</td>\n      <td>US</td>\n      <td>\\N</td>\n      <td>imdbDisplay</td>\n      <td>\\N</td>\n      <td>0</td>\n      <td>5.7</td>\n      <td>1424.0</td>\n      <td>short</td>\n      <td>The Sea</td>\n      <td>Baignade en mer</td>\n      <td>0</td>\n      <td>1895</td>\n      <td>\\N</td>\n      <td>1</td>\n      <td>Documentary,Short</td>\n    </tr>\n    <tr>\n      <th>tt0000026</th>\n      <td>5</td>\n      <td>The Messers. Lumière at Cards</td>\n      <td>US</td>\n      <td>\\N</td>\n      <td>\\N</td>\n      <td>\\N</td>\n      <td>0</td>\n      <td>5.6</td>\n      <td>1527.0</td>\n      <td>short</td>\n      <td>The Messers. Lumière at Cards</td>\n      <td>Partie d'écarté</td>\n      <td>0</td>\n      <td>1896</td>\n      <td>\\N</td>\n      <td>1</td>\n      <td>Documentary,Short</td>\n    </tr>\n    <tr>\n      <th>tt0000027</th>\n      <td>3</td>\n      <td>Cordeliers' Square in Lyon</td>\n      <td>US</td>\n      <td>\\N</td>\n      <td>imdbDisplay</td>\n      <td>\\N</td>\n      <td>0</td>\n      <td>5.6</td>\n      <td>1144.0</td>\n      <td>short</td>\n      <td>Cordeliers' Square in Lyon</td>\n      <td>Place des Cordeliers à Lyon</td>\n      <td>0</td>\n      <td>1895</td>\n      <td>\\N</td>\n      <td>1</td>\n      <td>Documentary,Short</td>\n    </tr>\n    <tr>\n      <th>tt0000028</th>\n      <td>9</td>\n      <td>Fishing for Goldfish</td>\n      <td>US</td>\n      <td>\\N</td>\n      <td>imdbDisplay</td>\n      <td>\\N</td>\n      <td>0</td>\n      <td>5.1</td>\n      <td>1071.0</td>\n      <td>short</td>\n      <td>Fishing for Goldfish</td>\n      <td>La pêche aux poissons rouges</td>\n      <td>0</td>\n      <td>1895</td>\n      <td>\\N</td>\n      <td>1</td>\n      <td>Documentary,Short</td>\n    </tr>\n    <tr>\n      <th>tt0000029</th>\n      <td>1</td>\n      <td>Baby's Dinner</td>\n      <td>US</td>\n      <td>\\N</td>\n      <td>\\N</td>\n      <td>\\N</td>\n      <td>0</td>\n      <td>5.9</td>\n      <td>3327.0</td>\n      <td>short</td>\n      <td>Baby's Meal</td>\n      <td>Repas de bébé</td>\n      <td>0</td>\n      <td>1895</td>\n      <td>\\N</td>\n      <td>1</td>\n      <td>Documentary,Short</td>\n    </tr>\n    <tr>\n      <th>tt0000029</th>\n      <td>24</td>\n      <td>Baby's Lunch</td>\n      <td>US</td>\n      <td>\\N</td>\n      <td>\\N</td>\n      <td>original script title</td>\n      <td>0</td>\n      <td>5.9</td>\n      <td>3327.0</td>\n      <td>short</td>\n      <td>Baby's Meal</td>\n      <td>Repas de bébé</td>\n      <td>0</td>\n      <td>1895</td>\n      <td>\\N</td>\n      <td>1</td>\n      <td>Documentary,Short</td>\n    </tr>\n    <tr>\n      <th>tt0000029</th>\n      <td>2</td>\n      <td>Feeding the Baby</td>\n      <td>US</td>\n      <td>\\N</td>\n      <td>\\N</td>\n      <td>\\N</td>\n      <td>0</td>\n      <td>5.9</td>\n      <td>3327.0</td>\n      <td>short</td>\n      <td>Baby's Meal</td>\n      <td>Repas de bébé</td>\n      <td>0</td>\n      <td>1895</td>\n      <td>\\N</td>\n      <td>1</td>\n      <td>Documentary,Short</td>\n    </tr>\n    <tr>\n      <th>tt0000029</th>\n      <td>9</td>\n      <td>Baby's Meal</td>\n      <td>US</td>\n      <td>\\N</td>\n      <td>imdbDisplay</td>\n      <td>\\N</td>\n      <td>0</td>\n      <td>5.9</td>\n      <td>3327.0</td>\n      <td>short</td>\n      <td>Baby's Meal</td>\n      <td>Repas de bébé</td>\n      <td>0</td>\n      <td>1895</td>\n      <td>\\N</td>\n      <td>1</td>\n      <td>Documentary,Short</td>\n    </tr>\n    <tr>\n      <th>tt0000031</th>\n      <td>7</td>\n      <td>Jumping the Blanket</td>\n      <td>US</td>\n      <td>\\N</td>\n      <td>imdbDisplay</td>\n      <td>\\N</td>\n      <td>0</td>\n      <td>5.5</td>\n      <td>998.0</td>\n      <td>short</td>\n      <td>Jumping the Blanket</td>\n      <td>Le saut à la couverture</td>\n      <td>0</td>\n      <td>1895</td>\n      <td>\\N</td>\n      <td>1</td>\n      <td>Documentary,Short</td>\n    </tr>\n    <tr>\n      <th>tt0000033</th>\n      <td>10</td>\n      <td>Trick Riding</td>\n      <td>US</td>\n      <td>\\N</td>\n      <td>\\N</td>\n      <td>\\N</td>\n      <td>0</td>\n      <td>5.5</td>\n      <td>1027.0</td>\n      <td>short</td>\n      <td>Horse Trick Riders</td>\n      <td>La voltige</td>\n      <td>0</td>\n      <td>1895</td>\n      <td>\\N</td>\n      <td>1</td>\n      <td>Comedy,Documentary,Short</td>\n    </tr>\n    <tr>\n      <th>tt0000033</th>\n      <td>8</td>\n      <td>Horse Trick Riders</td>\n      <td>US</td>\n      <td>\\N</td>\n      <td>imdbDisplay</td>\n      <td>\\N</td>\n      <td>0</td>\n      <td>5.5</td>\n      <td>1027.0</td>\n      <td>short</td>\n      <td>Horse Trick Riders</td>\n      <td>La voltige</td>\n      <td>0</td>\n      <td>1895</td>\n      <td>\\N</td>\n      <td>1</td>\n      <td>Comedy,Documentary,Short</td>\n    </tr>\n    <tr>\n      <th>tt0000035</th>\n      <td>5</td>\n      <td>Watering the Flowers</td>\n      <td>US</td>\n      <td>\\N</td>\n      <td>\\N</td>\n      <td>\\N</td>\n      <td>0</td>\n      <td>5.6</td>\n      <td>82.0</td>\n      <td>short</td>\n      <td>Watering the Flowers</td>\n      <td>L'arroseur</td>\n      <td>0</td>\n      <td>1896</td>\n      <td>\\N</td>\n      <td>1</td>\n      <td>Comedy,Short</td>\n    </tr>\n    <tr>\n      <th>tt0000036</th>\n      <td>1</td>\n      <td>Awakening of Rip</td>\n      <td>US</td>\n      <td>\\N</td>\n      <td>imdbDisplay</td>\n      <td>\\N</td>\n      <td>0</td>\n      <td>4.4</td>\n      <td>603.0</td>\n      <td>short</td>\n      <td>Awakening of Rip</td>\n      <td>Awakening of Rip</td>\n      <td>0</td>\n      <td>1896</td>\n      <td>\\N</td>\n      <td>0</td>\n      <td>Drama,Short</td>\n    </tr>\n    <tr>\n      <th>tt0000037</th>\n      <td>2</td>\n      <td>Sea Bathing</td>\n      <td>US</td>\n      <td>\\N</td>\n      <td>imdbDisplay</td>\n      <td>\\N</td>\n      <td>0</td>\n      <td>4.3</td>\n      <td>68.0</td>\n      <td>short</td>\n      <td>Sea Bathing</td>\n      <td>Baignade en mer</td>\n      <td>0</td>\n      <td>1896</td>\n      <td>\\N</td>\n      <td>1</td>\n      <td>Short</td>\n    </tr>\n    <tr>\n      <th>tt0000038</th>\n      <td>2</td>\n      <td>The Ball Game</td>\n      <td>US</td>\n      <td>\\N</td>\n      <td>imdbDisplay</td>\n      <td>\\N</td>\n      <td>0</td>\n      <td>4.2</td>\n      <td>199.0</td>\n      <td>short</td>\n      <td>The Ball Game</td>\n      <td>The Ball Game</td>\n      <td>0</td>\n      <td>1898</td>\n      <td>\\N</td>\n      <td>\\N</td>\n      <td>Documentary,Short,Sport</td>\n    </tr>\n    <tr>\n      <th>tt0000040</th>\n      <td>1</td>\n      <td>Boat Leaving the Harbor at Trouville</td>\n      <td>US</td>\n      <td>\\N</td>\n      <td>\\N</td>\n      <td>literal English title</td>\n      <td>0</td>\n      <td>4.0</td>\n      <td>66.0</td>\n      <td>short</td>\n      <td>Barque sortant du port de Trouville</td>\n      <td>Barque sortant du port de Trouville</td>\n      <td>0</td>\n      <td>1896</td>\n      <td>\\N</td>\n      <td>\\N</td>\n      <td>Documentary,Short</td>\n    </tr>\n    <tr>\n      <th>tt0000041</th>\n      <td>1</td>\n      <td>Snowball Fight</td>\n      <td>US</td>\n      <td>\\N</td>\n      <td>\\N</td>\n      <td>informal English title</td>\n      <td>0</td>\n      <td>6.7</td>\n      <td>1838.0</td>\n      <td>short</td>\n      <td>Bataille de neige</td>\n      <td>Bataille de neige</td>\n      <td>0</td>\n      <td>1897</td>\n      <td>\\N</td>\n      <td>1</td>\n      <td>Comedy,Documentary,Short</td>\n    </tr>\n    <tr>\n      <th>tt0000045</th>\n      <td>4</td>\n      <td>The Washerwomen</td>\n      <td>US</td>\n      <td>\\N</td>\n      <td>\\N</td>\n      <td>literal English title</td>\n      <td>0</td>\n      <td>3.8</td>\n      <td>35.0</td>\n      <td>short</td>\n      <td>Les blanchisseuses</td>\n      <td>Les blanchisseuses</td>\n      <td>0</td>\n      <td>1896</td>\n      <td>\\N</td>\n      <td>\\N</td>\n      <td>Short</td>\n    </tr>\n    <tr>\n      <th>tt0000048</th>\n      <td>1</td>\n      <td>The Boxing Kangaroo</td>\n      <td>US</td>\n      <td>\\N</td>\n      <td>imdbDisplay</td>\n      <td>\\N</td>\n      <td>0</td>\n      <td>4.8</td>\n      <td>198.0</td>\n      <td>short</td>\n      <td>The Boxing Kangaroo</td>\n      <td>The Boxing Kangaroo</td>\n      <td>0</td>\n      <td>1896</td>\n      <td>\\N</td>\n      <td>\\N</td>\n      <td>Short</td>\n    </tr>\n    <tr>\n      <th>tt0000050</th>\n      <td>3</td>\n      <td>Baby and Young Girls</td>\n      <td>US</td>\n      <td>\\N</td>\n      <td>\\N</td>\n      <td>literal English title</td>\n      <td>0</td>\n      <td>3.9</td>\n      <td>36.0</td>\n      <td>short</td>\n      <td>Bébé et fillettes</td>\n      <td>Bébé et fillettes</td>\n      <td>0</td>\n      <td>1896</td>\n      <td>\\N</td>\n      <td>\\N</td>\n      <td>Documentary,Short</td>\n    </tr>\n    <tr>\n      <th>tt0000051</th>\n      <td>1</td>\n      <td>The Bohemian Encampment</td>\n      <td>US</td>\n      <td>\\N</td>\n      <td>\\N</td>\n      <td>\\N</td>\n      <td>0</td>\n      <td>3.4</td>\n      <td>37.0</td>\n      <td>short</td>\n      <td>The Bohemian Encampment</td>\n      <td>Campement de bohémiens</td>\n      <td>0</td>\n      <td>1896</td>\n      <td>\\N</td>\n      <td>\\N</td>\n      <td>Documentary,Short</td>\n    </tr>\n  </tbody>\n</table>\n</div>"
     },
     "execution_count": 7,
     "metadata": {},
     "output_type": "execute_result"
    }
   ],
   "source": [
    "df.head(50)"
   ],
   "metadata": {
    "collapsed": false,
    "pycharm": {
     "name": "#%%\n"
    }
   }
  },
  {
   "cell_type": "code",
   "execution_count": 8,
   "outputs": [
    {
     "name": "stdout",
     "output_type": "stream",
     "text": [
      "<class 'pandas.core.frame.DataFrame'>\n",
      "Index: 545675 entries, tt0000001 to tt9916428\n",
      "Data columns (total 17 columns):\n",
      " #   Column           Non-Null Count   Dtype  \n",
      "---  ------           --------------   -----  \n",
      " 0   ordering         545675 non-null  int64  \n",
      " 1   title            545675 non-null  object \n",
      " 2   region           545675 non-null  object \n",
      " 3   language         545675 non-null  object \n",
      " 4   types            545675 non-null  object \n",
      " 5   attributes       545675 non-null  object \n",
      " 6   isOriginalTitle  545675 non-null  object \n",
      " 7   averageRating    545675 non-null  float64\n",
      " 8   numVotes         545675 non-null  float64\n",
      " 9   titleType        545675 non-null  object \n",
      " 10  primaryTitle     545675 non-null  object \n",
      " 11  originalTitle    545675 non-null  object \n",
      " 12  isAdult          545675 non-null  object \n",
      " 13  startYear        545675 non-null  object \n",
      " 14  endYear          545675 non-null  object \n",
      " 15  runtimeMinutes   545675 non-null  object \n",
      " 16  genres           545675 non-null  object \n",
      "dtypes: float64(2), int64(1), object(14)\n",
      "memory usage: 74.9+ MB\n"
     ]
    }
   ],
   "source": [
    "# filter entries where average rating != null\n",
    "df = df.loc[df['averageRating'].notnull()]\n",
    "df = df.loc[df['numVotes'].notnull()]\n",
    "df.info()"
   ],
   "metadata": {
    "collapsed": false,
    "pycharm": {
     "name": "#%%\n"
    }
   }
  },
  {
   "cell_type": "code",
   "execution_count": null,
   "outputs": [],
   "source": [],
   "metadata": {
    "collapsed": false,
    "pycharm": {
     "name": "#%%\n"
    }
   }
  },
  {
   "cell_type": "code",
   "execution_count": 10,
   "outputs": [],
   "source": [
    "import os\n",
    "os.makedirs('db_files', exist_ok=True)\n",
    "df.to_csv('db_files/db_cleaned.csv')"
   ],
   "metadata": {
    "collapsed": false,
    "pycharm": {
     "name": "#%%\n"
    }
   }
  }
 ],
 "metadata": {
  "kernelspec": {
   "display_name": "Python 3",
   "language": "python",
   "name": "python3"
  },
  "language_info": {
   "codemirror_mode": {
    "name": "ipython",
    "version": 2
   },
   "file_extension": ".py",
   "mimetype": "text/x-python",
   "name": "python",
   "nbconvert_exporter": "python",
   "pygments_lexer": "ipython2",
   "version": "2.7.6"
  }
 },
 "nbformat": 4,
 "nbformat_minor": 0
}