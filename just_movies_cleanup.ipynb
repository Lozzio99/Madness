{
 "cells": [
  {
   "cell_type": "code",
   "execution_count": 55,
   "outputs": [],
   "source": [
    "import pandas as pd\n",
    "import os"
   ],
   "metadata": {
    "collapsed": false
   }
  },
  {
   "cell_type": "code",
   "execution_count": 56,
   "outputs": [],
   "source": [
    "def clear_columns(data, columns):\n",
    "    for c in columns:\n",
    "        mask1 = data[c] == '\\\\N'\n",
    "        mask2 = data[c].isnull()\n",
    "        data = data.drop(index=(data[mask1 | mask2]).index)\n",
    "    return data"
   ],
   "metadata": {
    "collapsed": false
   }
  },
  {
   "cell_type": "code",
   "execution_count": 57,
   "outputs": [
    {
     "data": {
      "text/plain": "(125160, 3)"
     },
     "execution_count": 57,
     "metadata": {},
     "output_type": "execute_result"
    }
   ],
   "source": [
    "title_ratings = pd.read_table(\"db_files/title_ratings.tsv\")\n",
    "title_ratings = title_ratings[title_ratings['numVotes'] >= 500]\n",
    "title_ratings.shape"
   ],
   "metadata": {
    "collapsed": false
   }
  },
  {
   "cell_type": "code",
   "execution_count": 58,
   "outputs": [
    {
     "name": "stderr",
     "output_type": "stream",
     "text": [
      "C:\\Users\\ignacio\\anaconda3\\lib\\site-packages\\IPython\\core\\interactiveshell.py:3165: DtypeWarning: Columns (4) have mixed types.Specify dtype option on import or set low_memory=False.\n",
      "  has_raised = await self.run_ast_nodes(code_ast.body, cell_name,\n"
     ]
    }
   ],
   "source": [
    "title_basic = pd.read_table(\"db_files/title_basic.tsv\")\n",
    "title_basic = title_basic[title_basic['titleType'] == 'movie']"
   ],
   "metadata": {
    "collapsed": false
   }
  },
  {
   "cell_type": "code",
   "execution_count": 59,
   "outputs": [
    {
     "data": {
      "text/plain": "(57044, 11)"
     },
     "execution_count": 59,
     "metadata": {},
     "output_type": "execute_result"
    }
   ],
   "source": [
    "df = title_basic.join(title_ratings.set_index('tconst'), on='tconst').dropna()\n",
    "df.shape"
   ],
   "metadata": {
    "collapsed": false
   }
  },
  {
   "cell_type": "code",
   "execution_count": 60,
   "outputs": [
    {
     "name": "stdout",
     "output_type": "stream",
     "text": [
      "<class 'pandas.core.frame.DataFrame'>\n",
      "Int64Index: 57032 entries, 570 to 9719662\n",
      "Data columns (total 10 columns):\n",
      " #   Column          Non-Null Count  Dtype  \n",
      "---  ------          --------------  -----  \n",
      " 0   tconst          57032 non-null  object \n",
      " 1   primaryTitle    57032 non-null  object \n",
      " 2   originalTitle   57032 non-null  object \n",
      " 3   isAdult         57032 non-null  object \n",
      " 4   startYear       57032 non-null  object \n",
      " 5   endYear         57032 non-null  object \n",
      " 6   runtimeMinutes  57032 non-null  object \n",
      " 7   genres          57032 non-null  object \n",
      " 8   averageRating   57032 non-null  float64\n",
      " 9   numVotes        57032 non-null  float64\n",
      "dtypes: float64(2), object(8)\n",
      "memory usage: 6.8+ MB\n"
     ]
    }
   ],
   "source": [
    "df = df.drop(columns='titleType')\n",
    "df = clear_columns(df, df.columns.drop(['endYear','runtimeMinutes']))\n",
    "df.info()"
   ],
   "metadata": {
    "collapsed": false
   }
  },
  {
   "cell_type": "code",
   "execution_count": 61,
   "outputs": [
    {
     "data": {
      "text/plain": "(56577, 10)"
     },
     "execution_count": 61,
     "metadata": {},
     "output_type": "execute_result"
    }
   ],
   "source": [
    "df['startYear'] = df['startYear'].apply(int)\n",
    "df = df[df.startYear >= 1930]\n",
    "\n",
    "df['endYear'] = df.apply(\n",
    "    lambda row:row['startYear'] if row['endYear'] == '\\\\N' else int(row['endYear']), axis=1\n",
    ")\n",
    "\n",
    "df['runtimeMinutes'] = df.apply(\n",
    "    lambda row: 0 if row['runtimeMinutes'] == '\\\\N' else row['runtimeMinutes'], axis=1\n",
    ")\n",
    "df.shape"
   ],
   "metadata": {
    "collapsed": false
   }
  },
  {
   "cell_type": "code",
   "execution_count": 62,
   "outputs": [],
   "source": [
    "df.head()\n",
    "os.makedirs('db_files', exist_ok=True)\n",
    "df.to_csv('db_files/movies_db_cleaned.csv')"
   ],
   "metadata": {
    "collapsed": false
   }
  }
 ],
 "metadata": {
  "kernelspec": {
   "display_name": "Python 3",
   "language": "python",
   "name": "python3"
  },
  "language_info": {
   "codemirror_mode": {
    "name": "ipython",
    "version": 2
   },
   "file_extension": ".py",
   "mimetype": "text/x-python",
   "name": "python",
   "nbconvert_exporter": "python",
   "pygments_lexer": "ipython2",
   "version": "2.7.6"
  }
 },
 "nbformat": 4,
 "nbformat_minor": 0
}
